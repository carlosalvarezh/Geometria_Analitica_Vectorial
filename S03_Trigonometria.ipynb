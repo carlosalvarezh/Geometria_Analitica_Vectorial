{
 "cells": [
  {
   "cell_type": "markdown",
   "id": "699e59fc",
   "metadata": {},
   "source": [
    "<h1 align=\"center\">Geometría Analítica y Vectorial</h1>\n",
    "<h1 align=\"center\">Trigonometría</h1>\n",
    "<h1 align=\"center\">2024</h1>\n",
    "<h1 align=\"center\">MEDELLÍN - COLOMBIA </h1>"
   ]
  },
  {
   "cell_type": "markdown",
   "id": "fa3b4971",
   "metadata": {},
   "source": [
    "*** \n",
    "|[![Outlook](https://img.shields.io/badge/Microsoft_Outlook-0078D4?style=plastic&logo=microsoft-outlook&logoColor=white)](mailto:calvarezh@udemedellin.edu.co)||[![Open In Colab](https://colab.research.google.com/assets/colab-badge.svg)](https://colab.research.google.com/github/carlosalvarezh/Geometria_Analitica_Vectorial/blob/main/S03_Trigonometria.ipynb)\n",
    "|-:|:-|--:|\n",
    "|[![LinkedIn](https://img.shields.io/badge/linkedin-%230077B5.svg?style=plastic&logo=linkedin&logoColor=white)](https://www.linkedin.com/in/carlosalvarez5/)|[![@alvarezhenao](https://img.shields.io/twitter/url/https/twitter.com/alvarezhenao.svg?style=social&label=Follow%20%40alvarezhenao)](https://twitter.com/alvarezhenao)|[![@carlosalvarezh](https://img.shields.io/badge/github-%23121011.svg?style=plastic&logo=github&logoColor=white)](https://github.com/carlosalvarezh)|\n",
    "\n",
    "<table>\n",
    " <tr align=left><td><img align=left src=\"https://github.com/carlosalvarezh/Curso_CEC_EAFIT/blob/main/images/CCLogoColorPop1.gif?raw=true\" width=\"25\">\n",
    " <td>Text provided under a Creative Commons Attribution license, CC-BY. All code is made available under the FSF-approved MIT license.(c) Carlos Alberto Alvarez Henao</td>\n",
    "</table>\n",
    "\n",
    "***"
   ]
  },
  {
   "cell_type": "markdown",
   "id": "bc195470",
   "metadata": {},
   "source": [
    "<p float=\"center\">\n",
    "  <img src=\"https://github.com/carlosalvarezh/Geometria_Analitica_Vectorial/blob/main/Images/Trigonometry.png?raw=true\" width=\"350\" />\n",
    "</p>\n",
    "\n",
    "<p style=\"text-align: center;\">\n",
    "    <strong>Tomado de:</strong> <a href=\"https://resources.wolframcloud.com/PacletRepository/resources/TheRealCStover/Trigonometry/version/1.2.0/hero-image.png\"> Trigonometry </a> en <a href=\"https://resources.wolframcloud.com/PacletRepository/resources/TheRealCStover/Trigonometry/version/1.2.0/\">Wolfram Language Paclet Repository</a>.\n",
    "</p>"
   ]
  },
  {
   "cell_type": "markdown",
   "id": "59c5ae7c",
   "metadata": {},
   "source": [
    "## Trigonometría"
   ]
  },
  {
   "cell_type": "markdown",
   "id": "def765fc",
   "metadata": {},
   "source": [
    "### Introducción"
   ]
  },
  {
   "cell_type": "markdown",
   "id": "2eff1a71",
   "metadata": {},
   "source": [
    "La [Trigonometría](https://en.wikipedia.org/wiki/Trigonometry) es una rama de las [matemáticas](https://en.wikipedia.org/wiki/Mathematics) que se ocupa de las funciones específicas de ángulos y su aplicación en cálculos. Esta disciplina se desarrolló históricamente a partir de la necesidad de calcular ángulos y distancias en campos como la astronomía, la cartografía, la topografía y la determinación de distancias en artillería"
   ]
  },
  {
   "cell_type": "markdown",
   "id": "ca4c602a",
   "metadata": {},
   "source": [
    "### Orígenes Históricos"
   ]
  },
  {
   "cell_type": "markdown",
   "id": "dbdb5b2f",
   "metadata": {},
   "source": [
    "La palabra \"trigonometría\" proviene del griego \"trigonon\" (triángulo) y \"metron\" (medir). Inicialmente, estaba principalmente relacionada con calcular valores numéricos de partes faltantes de un triángulo cuando se conocían los valores de otras partes, diferenciándose así de la geometría que se enfoca en relaciones cualitativas.\n",
    "\n",
    "Civilizaciones antiguas como los egipcios, babilonios, hindúes y chinos tenían conocimientos de geometría práctica que preludiaron a la trigonometría. La trigonometría moderna comenzó con los griegos, y el astrónomo Hiparco fue el primero en construir una tabla de valores para una función trigonométrica, considerando cada triángulo (planar o esférico) inscrito en un círculo.\n",
    "\n",
    "***Desarrollo y Contribuciones Importantes***\n",
    "\n",
    "- ***Ptolomeo y el Almagest:*** Ptolomeo, viviendo en Alejandría, compuso el \"Almagest\", un compendio de astronomía que incluía una tabla de cuerdas, esencialmente una tabla de senos.\n",
    "<p>&nbsp;</p>\n",
    "\n",
    "- ***Contribución de la India:*** Aryabhata I, un matemático indio, fue pionero en el uso de la tabla de senos. La palabra \"seno\" proviene de la traducción latina de la palabra árabe derivada del sánscrito \"jiva\".\n",
    "<p>&nbsp;</p>\n",
    "\n",
    "- ***Trigonometría Esférica:*** Hasta el siglo XVI, la trigonometría esférica era de mayor interés debido a su aplicación en astronomía. Menelao de Alejandría desarrolló las bases de la trigonometría esférica en su obra \"Sphaerica\".\n",
    "<p>&nbsp;</p>\n",
    "\n",
    "- ***Independización de la Trigonometría de la Astronomía:*** Naṣīr al-Dīn al-Ṭūsī y al-Bāttāni fueron figuras clave en el desarrollo de la trigonometría esférica y su separación de la astronomía.\n",
    "<p>&nbsp;</p>\n",
    "\n",
    "- ***Influencia de los Logaritmos:*** La invención de los logaritmos por John Napier en 1614 facilitó enormemente los cálculos numéricos, incluyendo la compilación de tablas trigonométricas."
   ]
  },
  {
   "cell_type": "markdown",
   "id": "9a4b1861",
   "metadata": {},
   "source": [
    "### Trigonometría en la Ingeniería Civil"
   ]
  },
  {
   "cell_type": "markdown",
   "id": "a7ac1c5f",
   "metadata": {},
   "source": [
    "- ***Diseño y Construcción de Estructuras y Puentes:*** La trigonometría es crucial para calcular ángulos y dimensiones precisas en la construcción de edificios y puentes, asegurando su estabilidad y seguridad.\n",
    "<p>&nbsp;</p>\n",
    "\n",
    "- ***Topografía:*** Los ingenieros civiles utilizan la trigonometría para medir y mapear terrenos. Esto incluye la determinación de áreas, volúmenes, pendientes, y otros aspectos necesarios para la planificación y diseño de proyectos.\n",
    "<p>&nbsp;</p>\n",
    "\n",
    "- ***Análisis de Fuerzas:*** En la mecánica estructural, la trigonometría ayuda a analizar las fuerzas actuando sobre diferentes partes de una estructura. Esto es vital para asegurar que las estructuras puedan soportar las cargas y fuerzas a las que estarán sometidas.\n",
    "<p>&nbsp;</p>\n",
    "\n",
    "- ***Diseño de Carreteras y Sistemas de Transporte:*** Se utiliza para el diseño de curvas y pendientes en carreteras, optimizando la seguridad y eficiencia del transporte.\n",
    "<p>&nbsp;</p>\n",
    "\n",
    "- ***Sistemas de Drenaje y Acueductos:*** La trigonometría ayuda en el diseño de sistemas de drenaje y acueductos, asegurando el flujo adecuado y la gestión del agua.\n",
    "\n",
    "Entre muchas otras posibles aplicaciones."
   ]
  },
  {
   "cell_type": "markdown",
   "id": "0620df5b",
   "metadata": {},
   "source": [
    "## Triángulos"
   ]
  },
  {
   "cell_type": "markdown",
   "id": "9ef1dbd7",
   "metadata": {},
   "source": [
    "### Definición"
   ]
  },
  {
   "cell_type": "markdown",
   "id": "ac1f28fd",
   "metadata": {},
   "source": [
    "<p float=\"center\">\n",
    "  <img src=\"https://github.com/carlosalvarezh/Geometria_Analitica_Vectorial/blob/main/Images/Triangle.jpg?raw=true\" width=\"250\" />\n",
    "</p>\n",
    "\n",
    "<p style=\"text-align: center;\">\n",
    "    <strong>Tomado de:</strong> <a href=\"https://www.profesordedibujo.com/wp-content/uploads/2019/07/nomenclatura-triangulos-300x197.jpg\"> Triangulo </a> en <a href=\"https://www.profesordedibujo.com/geometria-plana/triangulos/tipos-de-triangulos-y-elementos-notables/\">profesordedibujo.com</a>.\n",
    "</p>\n",
    "\n",
    "Un triángulo es un polígono de tres lados, y por lo tanto tres vértices. También pueden definirse como figuras planas delimitadas por tres rectas que se cortan dos a dos. Los puntos de intersección son los vértices y los segmentos entre ellos los lados."
   ]
  },
  {
   "cell_type": "markdown",
   "id": "08b860ed",
   "metadata": {},
   "source": [
    "### Nomenclatura"
   ]
  },
  {
   "cell_type": "markdown",
   "id": "f39a611a",
   "metadata": {},
   "source": [
    "<p float=\"center\">\n",
    "  <img src=\"https://github.com/carlosalvarezh/Geometria_Analitica_Vectorial/blob/main/Images/Triangle01.jpg?raw=true\" width=\"250\" />\n",
    "</p>\n",
    "\n",
    "<p style=\"text-align: center;\">\n",
    "    <strong>Tomado de:</strong> <a href=\"https://www.profesordedibujo.com/wp-content/uploads/2019/07/nomenclatura-triangulos-300x197.jpg\"> Triangulo </a> en <a href=\"https://www.profesordedibujo.com/geometria-plana/triangulos/tipos-de-triangulos-y-elementos-notables/\">profesordedibujo.com</a>.\n",
    "</p>\n",
    "\n",
    "Como en todos los polígonos, sus vértices se designan con letras mayúsculas en sentido contrario al de las agujas del reloj. A los lados se les nombra con la misma letra en minúscula del vértice opuesto."
   ]
  },
  {
   "cell_type": "markdown",
   "id": "c318d060",
   "metadata": {},
   "source": [
    "### Propiedades de triángulos"
   ]
  },
  {
   "cell_type": "markdown",
   "id": "629400d0",
   "metadata": {},
   "source": [
    "- La suma de los ángulos interiores de un triángulo siempre es $180^\\circ$.\n",
    "<p>&nbsp;</p>\n",
    "\n",
    "- Un triángulo no puede tener más de un ángulo recto u obtuso.\n",
    "<p>&nbsp;</p>\n",
    "\n",
    "- Cualquier lado de un triángulo siempre es menor a la suma de los otros dos lados, pero mayor que su diferencia.\n"
   ]
  },
  {
   "cell_type": "markdown",
   "id": "5ec478e7",
   "metadata": {},
   "source": [
    "### Clasificación de triángulos"
   ]
  },
  {
   "cell_type": "markdown",
   "id": "b5b20804",
   "metadata": {},
   "source": [
    "#### Tipos de triángulos según los lados"
   ]
  },
  {
   "cell_type": "markdown",
   "id": "efce859e",
   "metadata": {},
   "source": [
    "Basándonos en la medida relativa de los lados de un triángulo podemos hacer la siguiente clasificación de triángulos según los lados:\n",
    "\n",
    "<p float=\"center\">\n",
    "  <img src=\"https://github.com/carlosalvarezh/Geometria_Analitica_Vectorial/blob/main/Images/Triangle02.PNG?raw=true\" width=\"350\" />\n",
    "</p>\n",
    "\n",
    "<p style=\"text-align: center;\">\n",
    "    <strong>Tomado de:</strong> <a href=\"https://www.profesordedibujo.com/wp-content/uploads/2019/07/nomenclatura-triangulos-300x197.jpg\"> Triangulo </a> en <a href=\"https://www.profesordedibujo.com/geometria-plana/triangulos/tipos-de-triangulos-y-elementos-notables/\">profesordedibujo.com</a>.\n",
    "</p>\n",
    "\n",
    "- ***Equiláteros:*** son triángulos que tienen todos sus lados iguales.\n",
    "<p>&nbsp;</p>\n",
    "\n",
    "- ***Isósceles:*** son triángulos que tienen dos de sus lados iguales.\n",
    "<p>&nbsp;</p>\n",
    "\n",
    "- ***Escalenos:*** son triángulos que tienen todos sus lados desiguales."
   ]
  },
  {
   "cell_type": "markdown",
   "id": "90ba2536",
   "metadata": {},
   "source": [
    "#### Tipos de triángulos según sus ángulos"
   ]
  },
  {
   "cell_type": "markdown",
   "id": "e1d4bf60",
   "metadata": {},
   "source": [
    "Según la amplitud de sus ángulos, podemos clasificar los triángulos de la siguiente manera:\n",
    "\n",
    "<p float=\"center\">\n",
    "  <img src=\"https://github.com/carlosalvarezh/Geometria_Analitica_Vectorial/blob/main/Images/Triangle03.PNG?raw=true\" width=\"350\" />\n",
    "</p>\n",
    "\n",
    "<p style=\"text-align: center;\">\n",
    "    <strong>Tomado de:</strong> <a href=\"https://www.profesordedibujo.com/wp-content/uploads/2019/07/nomenclatura-triangulos-300x197.jpg\"> Triangulo </a> en <a href=\"https://www.profesordedibujo.com/geometria-plana/triangulos/tipos-de-triangulos-y-elementos-notables/\">profesordedibujo.com</a>.\n",
    "</p>\n",
    "\n",
    "- ***Rectángulos:*** son triángulos que tienen un ángulo recto ($90^\\circ$). El lado opuesto al ángulo recto se denomina hipotenusa y los otros dos son los catetos. La hipotenusa siempre es mayor que cualquiera de sus catetos. En un triángulo rectángulo los dos ángulos agudos son complementarios, suman $90^\\circ$.\n",
    "<p>&nbsp;</p>\n",
    "\n",
    "- ***Acutángulos:*** son triángulos que tienen los tres ángulos agudos (miden menos de $90^\\circ$).\n",
    "<p>&nbsp;</p>\n",
    "\n",
    "- ***Obtusángulos:*** son triángulos que tienen un ángulo obtuso (mayor de $90^\\circ$)."
   ]
  },
  {
   "cell_type": "markdown",
   "id": "d69f2afb",
   "metadata": {},
   "source": [
    "## Funciones Trigonométricas"
   ]
  },
  {
   "cell_type": "markdown",
   "id": "77ca0cb5",
   "metadata": {},
   "source": [
    "Las funciones trigonométricas son funciones de un ángulo, que relacionan las proporciones de los lados de un triángulo rectángulo con sus ángulos. Originalmente definidas para ángulos entre $0^\\circ$ y $90^\\circ$ (ángulos agudos) en triángulos rectángulos, estas funciones se pueden extender a ángulos y valores negativos utilizando la noción de círculo unitario."
   ]
  },
  {
   "cell_type": "markdown",
   "id": "55ac0418",
   "metadata": {},
   "source": [
    "### Elementos de un triángulo rectángulo"
   ]
  },
  {
   "cell_type": "markdown",
   "id": "d4966cc1",
   "metadata": {},
   "source": [
    "El triangulo rectángulo tiene tres lados los cuales se clasifican de la siguiente manera:\n",
    "\n",
    "<p float=\"center\">\n",
    "  <img src=\"https://github.com/carlosalvarezh/Geometria_Analitica_Vectorial/blob/main/Images/Triangle04.PNG?raw=true\" width=\"200\" />\n",
    "</p>\n",
    "\n",
    "- ***Hipotenusa:*** Es el lado más largo de un triángulo rectángulo, opuesto al ángulo recto. En este ejemplo sería el lado $c$. En cualquier triángulo rectángulo, la hipotenusa es el lado que se encuentra frente al ángulo de $90$ grados. Es importante en la trigonometría, ya que las funciones de seno y coseno se definen en relación con ella.\n",
    "<p>&nbsp;</p>\n",
    "\n",
    "- ***Cateto adyacente:*** Es uno de los dos lados que forman el ángulo recto en un triángulo rectángulo, y se denomina \"*adyacente*\" al ángulo de referencia (el ángulo que no es el ángulo recto y no es opuesto al lado que estamos considerando). En otras palabras, es el lado del triángulo rectángulo que \"toca\" el ángulo de referencia, aparte de la hipotenusa.\n",
    "<p>&nbsp;</p>\n",
    "\n",
    "- ***Cateto opuesto:*** Es el otro lado que forma el ángulo recto y se sitúa directamente frente al ángulo de referencia. En un triángulo rectángulo, es el lado opuesto al ángulo que estamos considerando y es uno de los lados que conforma el ángulo recto junto con el cateto adyacente.\n",
    "\n",
    "La ubicación de estos dos últimos lados dependen del punto u ángulo de referencia:\n",
    "\n",
    "<p float=\"center\">\n",
    "  <img src=\"https://github.com/carlosalvarezh/Geometria_Analitica_Vectorial/blob/main/Images/Triangle05.PNG?raw=true\" width=\"500\" />\n",
    "</p>"
   ]
  },
  {
   "cell_type": "markdown",
   "id": "fc46d793",
   "metadata": {},
   "source": [
    "### Funciones trigonométricas principales y recíprocas"
   ]
  },
  {
   "cell_type": "markdown",
   "id": "372641cd",
   "metadata": {},
   "source": [
    "Las funciones trigonométricas principales son:\n",
    "\n",
    "- ***Seno (sin):*** En un triángulo rectángulo, el seno de un ángulo agudo es la relación entre la longitud del lado opuesto al ángulo y la longitud de la hipotenusa. En el círculo unitario, el seno de un ángulo es la coordenada '$y$' del punto donde la línea que forma el ángulo con el eje positivo '$x$' intersecta el círculo.\n",
    "\n",
    "$$sin(\\alpha)=\\frac{co}{h}$$\n",
    "\n",
    "- ***Coseno (cos):*** En un triángulo rectángulo, el coseno de un ángulo agudo es la relación entre la longitud del lado adyacente al ángulo y la longitud de la hipotenusa. En el círculo unitario, el coseno es la coordenada '$x$' del punto de intersección mencionado.\n",
    "\n",
    "$$cos(\\alpha)=\\frac{ca}{h}$$\n",
    "\n",
    "- ***Tangente (tan):*** Es la relación entre el seno y el coseno de un ángulo, o equivalentemente, la relación entre el lado opuesto y el adyacente en un triángulo rectángulo. En el círculo unitario, es la pendiente de la línea formada por el ángulo.\n",
    "\n",
    "$$tan(\\alpha)=\\frac{co}{ca}$$\n",
    "\n",
    "y las recíprocas:\n",
    "\n",
    "- ***Secante (sec):*** Es el recíproco del coseno. En un triángulo rectángulo, la secante de un ángulo describe la relación entre la hipotenusa y el cateto adyacente, pero de manera inversa al coseno.\n",
    "\n",
    "$$sec(\\alpha)=\\frac{1}{cos(\\alpha)}=\\frac{h}{ca}$$\n",
    "\n",
    "- ***Cosecante (csc):*** Es el recíproco del seno. En un triángulo rectángulo, representa la relación entre la hipotenusa y el cateto opuesto. Es decir, si conocemos el seno de un ángulo, la cosecante nos da la proporción inversa de esa relación.\n",
    "\n",
    "$$csc(\\alpha)=\\frac{1}{sin(\\alpha)}=\\frac{h}{co}$$\n",
    "\n",
    "- ***Cotangente (cot):*** Es el recíproco de la tangente. En términos de un triángulo rectángulo, la cotangente proporciona la relación inversa entre el cateto adyacente y el cateto opuesto.\n",
    "\n",
    "$$cot(\\alpha)=\\frac{1}{tan(\\alpha)}=\\frac{ca}{co}$$\n",
    "\n"
   ]
  },
  {
   "cell_type": "markdown",
   "id": "3a192fd4",
   "metadata": {},
   "source": [
    "***Ejemplo 01:*** Encuentre las razones trigonométricas para $\\alpha$ y $\\beta$\n",
    "\n",
    "<p float=\"center\">\n",
    "  <img src=\"https://github.com/carlosalvarezh/Geometria_Analitica_Vectorial/blob/main/Images/Triangle06.PNG?raw=true\" width=\"100\" />\n",
    "</p>"
   ]
  },
  {
   "cell_type": "code",
   "execution_count": null,
   "id": "3c2a2c9c",
   "metadata": {},
   "outputs": [],
   "source": []
  },
  {
   "cell_type": "markdown",
   "id": "d260fc87",
   "metadata": {},
   "source": [
    "### Funciones trigonométricas inversas"
   ]
  },
  {
   "cell_type": "markdown",
   "id": "9e5ecfb6",
   "metadata": {},
   "source": [
    "Las funciones trigonométricas inversas, también conocidas como arcotrigonométricas, son las funciones inversas de las funciones trigonométricas. Permiten determinar el ángulo de un triángulo rectángulo cuando se conocen las proporciones de sus lados. Son fundamentales en situaciones donde necesitamos encontrar el ángulo a partir de razones trigonométricas conocidas. Estas funciones incluyen:\n",
    "\n",
    "- ***Arcoseno ($\\text{arcsin}$ o $sin^{-1}$):*** Es la función inversa del seno. Dada una proporción (valor de seno), el arcoseno devuelve el ángulo cuyo seno es esa proporción. El rango de la función arcoseno está típicamente restringido a ángulos entre $-90^\\circ$ y $90^\\circ$ (o en radianes, entre $-\\pi/2$ y $\\pi/2$) para garantizar que sea una función.\n",
    "\n",
    "   $$\\alpha = sin^{-1} \\left(\\frac{co}{h} \\right)$$\n",
    "<p>&nbsp;</p>\n",
    "\n",
    "- ***Arcocoseno ($\\text{arccos}$ o $cos^{-1}$):*** Es la función inversa del coseno. Si se conoce el coseno de un ángulo (la proporción), el arcocoseno devuelve el ángulo cuyo coseno es ese valor. El rango de arcocoseno suele estar entre $0^\\circ$ y $180^\\circ$ (o $0$ y $\\pi$ en radianes).\n",
    "\n",
    "   $$\\alpha = cos^{-1} \\left(\\frac{ca}{h} \\right)$$\n",
    "<p>&nbsp;</p>\n",
    "\n",
    "- ***Arcotangente ($\\text{arctan}$ o $tan^{-1}$):*** Es la función inversa de la tangente. El arcotangente de una proporción (valor de tangente) devuelve el ángulo cuya tangente es esa proporción. Su rango está entre $-90^\\circ$ y $90^\\circ$ (o $-\\pi/2$ y $\\pi/2$ en radianes).\n",
    "\n",
    "   $$\\alpha = tan^{-1} \\left(\\frac{co}{ca} \\right)$$\n",
    "<p>&nbsp;</p>\n",
    "\n",
    "Estas funciones son particularmente útiles en geometría analítica, cálculos de navegación, y en diversas aplicaciones de ingeniería y física. Permiten revertir el proceso de encontrar una razón trigonométrica de un ángulo, lo que facilita la resolución de problemas que involucran triángulos y círculos."
   ]
  },
  {
   "cell_type": "markdown",
   "id": "373d737f",
   "metadata": {},
   "source": [
    "***Ejemplo 02:*** Encuentre los valores de $\\alpha$ y $\\beta$\n",
    "\n",
    "<p float=\"center\">\n",
    "  <img src=\"https://github.com/carlosalvarezh/Geometria_Analitica_Vectorial/blob/main/Images/Triangle06.PNG?raw=true\" width=\"100\" />\n",
    "</p>"
   ]
  },
  {
   "cell_type": "markdown",
   "id": "400394fb",
   "metadata": {},
   "source": [
    "### Angulos notables"
   ]
  },
  {
   "cell_type": "markdown",
   "id": "cc18e936",
   "metadata": {},
   "source": [
    "Los ángulos notables son aquellos ángulos cuyos valores de *seno*, *coseno* y *tangente* se pueden determinar exactamente sin necesidad de una calculadora. Estos ángulos son especialmente importantes en trigonometría debido a su frecuente aparición en diversas aplicaciones matemáticas y de ingeniería.\n",
    "\n",
    "Los ángulos notables más comunes son $0^\\circ$, $30^\\circ$, $45^\\circ$, $60^\\circ$ y $90^\\circ$. Estos ángulos tienen propiedades particulares que los hacen destacar:\n",
    "\n",
    "- ***$0^\\circ$ y $90^\\circ$:*** Son especiales porque representan los extremos de un cuarto de círculo (o cuadrante). En estos ángulos, las funciones de seno, coseno y tangente tienen valores de $0$, $1$ o no están definidas.\n",
    "<p>&nbsp;</p>\n",
    "\n",
    "- ***$30^\\circ$, $45^\\circ$ y $60^\\circ$:*** Son significativos porque provienen de triángulos especiales. El ángulo de $45^\\circ$ proviene de un triángulo isósceles rectángulo, donde los ángulos agudos son iguales. Los ángulos de $30^\\circ$ y $60^\\circ$ provienen de dividir un triángulo equilátero en dos, formando dos triángulos rectángulos con ángulos de $30^\\circ$, $60^\\circ$ y $90^\\circ$.\n",
    "\n",
    "Las razones trigonométricas (seno, coseno y tangente) de estos ángulos pueden ser expresadas en términos de números radicales o fracciones exactas, lo que facilita su memorización y uso en cálculos sin necesidad de herramientas electrónicas. Estos ángulos y sus valores asociados forman la base de muchos conceptos y técnicas en trigonometría.\n",
    "\n",
    "| Ángulo (Grados)   | Ángulo (Radianes) | Seno      | Coseno    | Tangente   |\n",
    "|:-----------------:|:-------------------:|:-----------:|:-----------:|:------------:|\n",
    "| $$0$$             | $$0$$             | $$0$$          | $$1$$          | $$0$$          |\n",
    "| $$30$$            | $$\\pi/6$$         | $$1/2$$        | $$\\sqrt{3}/2$$ | $$1/\\sqrt{3}$$ |\n",
    "| $$45$$            | $$\\pi/4$$         | $$\\sqrt{2}/2$$ | $$\\sqrt{2}/2$$ | $$1$$          |\n",
    "| $$60$$            | $$\\pi/3$$         | $$\\sqrt{3}/2$$ | $$1/2$$        | $$\\sqrt{3}$$   |\n",
    "| $$90$$            | $$\\pi/2$$         | $$1$$          | $$0$$          | No definida    |\n"
   ]
  },
  {
   "cell_type": "markdown",
   "id": "0d6403b0",
   "metadata": {},
   "source": [
    "### Conversiones"
   ]
  },
  {
   "cell_type": "markdown",
   "id": "d6b0a9cc",
   "metadata": {},
   "source": [
    "Para convertir ángulos de grados a radianes y viceversa, se utilizan las siguientes fórmulas:\n",
    "\n",
    "1. **De Grados a Radianes**:\n",
    "   Para convertir un ángulo de grados a radianes, multiplicamos el ángulo en grados por $\\frac{\\pi}{180}$.\n",
    "   \n",
    "   $$\\text{Radianes} = \\text{Grados} \\times \\frac{\\pi}{180}$$\n",
    "\n",
    "   Por ejemplo, para convertir $45$ grados a radianes, calculamos:\n",
    "   $$45^\\circ \\times \\frac{\\pi}{180} = \\frac{\\pi}{4} \\text{ radianes} $$\n",
    "<p>&nbsp;</p>\n",
    "\n",
    "2. **De Radianes a Grados**:\n",
    "   Para convertir un ángulo de radianes a grados, multiplicamos el ángulo en radianes por $\\frac{180}{\\pi}$.\n",
    "   \n",
    "   $$ \\text{Grados} = \\text{Radianes} \\times \\frac{180}{\\pi} $$\n",
    "\n",
    "   Por ejemplo, para convertir $\\frac{\\pi}{3}$ radianes a grados, calculamos:\n",
    "   $$ \\frac{\\pi}{3} \\times \\frac{180}{\\pi} = 60^\\circ$$\n",
    "\n",
    "Estas conversiones se basan en el hecho de que un círculo completo tiene $360$ grados, lo que equivale a $2\\pi$ radianes. Por lo tanto, $180$ grados corresponden a $\\pi$ radianes. Estas fórmulas son esenciales en trigonometría y en muchas aplicaciones de las matemáticas y la física, donde es necesario convertir entre estos dos sistemas de medición de ángulos."
   ]
  },
  {
   "cell_type": "markdown",
   "id": "79c28568",
   "metadata": {},
   "source": [
    "***Ejemplo 03:*** Encuentre las razones trigonométricas de cada ángulo\n",
    "\n",
    "<p float=\"center\">\n",
    "  <img src=\"https://github.com/carlosalvarezh/Geometria_Analitica_Vectorial/blob/main/Images/Triangle07.PNG?raw=true\" width=\"100\" />\n",
    "</p>"
   ]
  },
  {
   "cell_type": "markdown",
   "id": "df4abeae",
   "metadata": {},
   "source": [
    "***Ejemplo 04:*** Encuentre las razones trigonométricas de cada ángulo\n",
    "\n",
    "<p float=\"center\">\n",
    "  <img src=\"https://github.com/carlosalvarezh/Geometria_Analitica_Vectorial/blob/main/Images/Triangle08.PNG?raw=true\" width=\"100\" />\n",
    "</p>"
   ]
  },
  {
   "cell_type": "markdown",
   "id": "637e6358",
   "metadata": {},
   "source": [
    "### Propiedades de las funciones trigonométricas principales"
   ]
  },
  {
   "cell_type": "markdown",
   "id": "0b86d500",
   "metadata": {},
   "source": [
    "Las funciones trigonométricas principales –seno, coseno y tangente– tienen varias propiedades importantes que son fundamentales en trigonometría y en aplicaciones matemáticas y científicas. A continuación, se resumen algunas de las propiedades más destacadas de estas funciones:\n",
    "\n",
    "***Seno ($sin$):***\n",
    "\n",
    "<p float=\"center\">\n",
    "  <img src=\"https://github.com/carlosalvarezh/Geometria_Analitica_Vectorial/blob/main/Images/sin.png?raw=true\" width=\"500\" />\n",
    "</p>\n",
    "\n",
    "- **Periodicidad**: El seno es una función periódica con un período de $2\\pi$ radianes o $360$ grados.\n",
    "<p>&nbsp;</p>\n",
    "\n",
    "- **Rango**: Los valores del seno están siempre entre $-1$ y $1$, inclusive.\n",
    "<p>&nbsp;</p>\n",
    "\n",
    "- **Simetría**: Es una función impar, lo que significa que $\\sin(-\\theta) = -\\sin(\\theta)$.\n",
    "<p>&nbsp;</p>\n",
    "\n",
    "- **Gráfica**: La gráfica del seno es una onda sinusoidal que oscila entre $-1$ y $1$.\n",
    "<p>&nbsp;</p>\n",
    "\n",
    "***Coseno ($cos$)***\n",
    "\n",
    "<p float=\"center\">\n",
    "  <img src=\"https://github.com/carlosalvarezh/Geometria_Analitica_Vectorial/blob/main/Images/cos.PNG?raw=true\" width=\"500\" />\n",
    "</p>\n",
    "\n",
    "- **Periodicidad**: Al igual que el seno, el coseno tiene un período de $2\\pi$ radianes o $360$ grados.\n",
    "<p>&nbsp;</p>\n",
    "\n",
    "- **Rango**: Los valores del coseno también están limitados entre $-1$ y $1$.\n",
    "<p>&nbsp;</p>\n",
    "\n",
    "- **Simetría**: Es una función par, cumpliendo que $\\cos(-\\theta) = \\cos(\\theta)$.\n",
    "<p>&nbsp;</p>\n",
    "\n",
    "- **Gráfica**: La gráfica del coseno es similar a la del seno pero desplazada $90$ grados o $\\pi/2$ radianes.\n",
    "<p>&nbsp;</p>\n",
    "\n",
    "***Tangente ($tan$)***\n",
    "\n",
    "<p float=\"center\">\n",
    "  <img src=\"https://github.com/carlosalvarezh/Geometria_Analitica_Vectorial/blob/main/Images/tan.PNG?raw=true\" width=\"500\" />\n",
    "</p>\n",
    "\n",
    "- **Periodicidad**: La tangente tiene un período más corto que el seno y el coseno, de $\\pi$ radianes o $180$ grados.\n",
    "<p>&nbsp;</p>\n",
    "\n",
    "- **Rango**: Los valores de la tangente pueden ser cualquier número real, desde $-\\infty$ hasta $+\\infty$.\n",
    "<p>&nbsp;</p>\n",
    "\n",
    "- **Simetría**: Es una función impar ($\\tan(-\\theta) = -\\tan(\\theta)$).\n",
    "<p>&nbsp;</p>\n",
    "\n",
    "- **Gráfica**: La gráfica de la tangente es una serie de curvas verticales que se repiten cada $\\pi$ radianes y tiene asíntotas verticales.\n",
    "\n",
    "Estas propiedades son esenciales para entender el comportamiento de las funciones trigonométricas y su aplicación en diversos contextos, como la resolución de triángulos, el análisis de ondas y frecuencias, y el estudio de fenómenos periódicos en física y otras ciencias."
   ]
  },
  {
   "cell_type": "markdown",
   "id": "3092d027",
   "metadata": {},
   "source": [
    "### Leyes del Seno y Coseno"
   ]
  },
  {
   "cell_type": "markdown",
   "id": "47fe5ea0",
   "metadata": {},
   "source": [
    "#### Introducción"
   ]
  },
  {
   "cell_type": "markdown",
   "id": "2ef87cac",
   "metadata": {},
   "source": [
    "Las Leyes del Seno y del Coseno son fundamentales en trigonometría para resolver triángulos, especialmente aquellos que no son rectángulos. Aparecen en una variedad de contextos, desde problemas geométricos básicos hasta aplicaciones avanzadas en física, ingeniería y navegación.\n",
    "\n",
    "***Origen y Necesidad:***\n",
    "- Estas leyes surgen de la necesidad de encontrar relaciones entre los lados y ángulos de un triángulo cualquiera, ampliando así el alcance de la trigonometría más allá de los triángulos rectángulos. Mientras que las funciones trigonométricas básicas (*seno*, *coseno* y *tangente*) se definen inicialmente para triángulos rectángulos, las *Leyes del Seno y del Coseno* permiten abordar triángulos oblicuángulos (**sin ángulos rectos**).\n",
    "<p>&nbsp;</p>\n",
    "\n",
    "***Usos Principales:***\n",
    "- **Ley del Seno**: Útil para encontrar ángulos desconocidos y lados en triángulos donde se conocen algunos ángulos y al menos un lado. Es especialmente valiosa en triángulos no rectángulos.\n",
    "<p>&nbsp;</p>\n",
    "\n",
    "- **Ley del Coseno**: Extiende el teorema de Pitágoras a triángulos no rectángulos. Se utiliza para calcular un lado desconocido de un triángulo cuando se conocen los otros dos lados y el ángulo entre ellos, o para encontrar los ángulos cuando se conocen los tres lados.\n"
   ]
  },
  {
   "cell_type": "markdown",
   "id": "c8fe3b01",
   "metadata": {},
   "source": [
    "#### Ley del Seno"
   ]
  },
  {
   "cell_type": "markdown",
   "id": "85370ed3",
   "metadata": {},
   "source": [
    "En cualquier triángulo, la relación entre la longitud de un lado y el seno de su ángulo opuesto es constante y es igual a la longitud del diámetro del círculo circunscrito al triángulo. Matemáticamente, si un triángulo tiene lados de longitudes $a$, $b$, y $c$, y los ángulos opuestos a estos lados son $\\alpha$, $\\beta$, y $\\gamma$ respectivamente, la [Ley del Seno](https://en.wikipedia.org/wiki/Law_of_sines) establece que:\n",
    "\n",
    "<p float=\"center\">\n",
    "  <img src=\"https://github.com/carlosalvarezh/Geometria_Analitica_Vectorial/blob/main/Images/LawSines0.PNG?raw=true\" width=\"150\" />\n",
    "</p>\n",
    "\n",
    "\n",
    "<p float=\"center\">\n",
    "  <img src=\"https://github.com/carlosalvarezh/Geometria_Analitica_Vectorial/blob/main/Images/LawSines1.png?raw=true\" width=\"150\" />\n",
    "</p>\n",
    "\n",
    "$$\\frac{a}{\\sin(\\alpha)} = \\frac{b}{\\sin(\\beta)} = \\frac{c}{\\sin(\\gamma)}$$\n",
    "\n",
    "***Ejemplo:*** Supongamos que tenemos un triángulo con lados $a = 7$, $b = 9$, y el ángulo opuesto a $b$ es $\\beta = 45^\\circ$. Para encontrar el ángulo $\\alpha$, usamos la Ley del Seno:\n",
    "\n",
    "$ \\frac{7}{\\sin(A)} = \\frac{9}{\\sin(45^\\circ)} $  \n",
    "$ \\sin(\\alpha) = \\frac{7 \\times \\sin(45^\\circ)}{9} $  \n",
    "$ \\alpha = \\arcsin\\left(\\frac{7 \\times \\sin(45^\\circ)}{9}\\right) $\n"
   ]
  },
  {
   "cell_type": "code",
   "execution_count": 8,
   "id": "9f2bb23e-0423-4fc9-9c50-7596cbf23740",
   "metadata": {},
   "outputs": [
    {
     "data": {
      "text/plain": [
       "4.670810880796606"
      ]
     },
     "execution_count": 8,
     "metadata": {},
     "output_type": "execute_result"
    }
   ],
   "source": [
    "import numpy as np\n",
    "\n",
    "4*np.sin(82*np.pi/180)/np.sin(58*np.pi/180)"
   ]
  },
  {
   "cell_type": "markdown",
   "id": "86ec3ddb",
   "metadata": {},
   "source": [
    "#### Ley del Coseno"
   ]
  },
  {
   "cell_type": "markdown",
   "id": "971ce530",
   "metadata": {},
   "source": [
    "La [Ley del Coseno](https://en.wikipedia.org/wiki/Law_of_cosines) relaciona los lados de un triángulo con el coseno de uno de sus ángulos. Si $a$, $b$, y $c$ son las longitudes de los lados de un triángulo, con los ángulos opuestos $\\alpha$, $\\beta$, y $\\gamma$ respectivamente, la Ley del Coseno para el ángulo $\\alpha$ se expresa como:\n",
    "\n",
    "<p float=\"center\">\n",
    "  <img src=\"https://github.com/carlosalvarezh/Geometria_Analitica_Vectorial/blob/main/Images/LawSines.PNG?raw=true\" width=\"250\" />\n",
    "</p>\n",
    "\n",
    "$$ a^2 = b^2 + c^2 - 2bc \\cos(\\alpha) $$\n",
    "\n",
    "Esta fórmula se aplica análogamente para los ángulos $\\beta$ y $\\gamma$.\n",
    "\n",
    "***Ejemplo:*** Para un triángulo con lados $b = 5$, $c = 6$, y $a = 7$, para encontrar el ángulo $\\alpha$, aplicamos la Ley del Coseno:\n",
    "\n",
    "$ 7^2 = 5^2 + 6^2 - 2 \\times 5 \\times 6 \\times \\cos(\\alpha) $  \n",
    "$ \\cos(\\alpha) = \\frac{5^2 + 6^2 - 7^2}{2 \\times 5 \\times 6} $  \n",
    "$ \\alpha = \\arccos\\left(\\frac{5^2 + 6^2 - 7^2}{2 \\times 5 \\times 6}\\right) $"
   ]
  },
  {
   "cell_type": "markdown",
   "id": "8808e378",
   "metadata": {},
   "source": [
    "### Área del triángulo"
   ]
  },
  {
   "cell_type": "markdown",
   "id": "6b6418ec",
   "metadata": {},
   "source": [
    "#### Introducción"
   ]
  },
  {
   "cell_type": "markdown",
   "id": "968fd191",
   "metadata": {},
   "source": [
    "El cálculo del área de un triángulo es un tema fundamental en geometría. Existen diversas fórmulas para determinar el área de un triángulo, dependiendo de la información disponible. A continuación, se presentan las fórmulas más importantes:"
   ]
  },
  {
   "cell_type": "markdown",
   "id": "343c9cb8",
   "metadata": {},
   "source": [
    "#### Fórmula Básica"
   ]
  },
  {
   "cell_type": "markdown",
   "id": "efe9746b",
   "metadata": {},
   "source": [
    "La fórmula más conocida para calcular el área de un triángulo es:\n",
    "\n",
    "<p float=\"center\">\n",
    "  <img src=\"https://github.com/carlosalvarezh/Geometria_Analitica_Vectorial/blob/main/Images/AreaTriangle.PNG?raw=true\" width=\"200\" />\n",
    "</p>\n",
    "\n",
    "$$ \\text{Área} = \\frac{1}{2} \\times \\text{base(b)} \\times \\text{altura(h)} $$\n",
    "\n",
    "Donde la \"*base*\" es la longitud de uno de los lados del triángulo, y la \"*altura*\" es la distancia perpendicular desde ese lado hasta el vértice opuesto.\n"
   ]
  },
  {
   "cell_type": "markdown",
   "id": "db6c67ae",
   "metadata": {},
   "source": [
    "#### Fórmula de Herón"
   ]
  },
  {
   "cell_type": "markdown",
   "id": "6def07ac",
   "metadata": {},
   "source": [
    "La fórmula de Herón permite calcular el área de un triángulo cuando se conocen las longitudes de sus tres lados. Si un triángulo tiene lados de longitudes $a$, $b$, y $c$\n",
    "\n",
    "<p float=\"center\">\n",
    "  <img src=\"https://github.com/carlosalvarezh/Geometria_Analitica_Vectorial/blob/main/Images/HeronFormulae.png?raw=true\" width=\"250\" />\n",
    "</p>\n",
    "\n",
    "el área $A$ se calcula como:\n",
    "\n",
    "$$ A = \\sqrt{s \\times (s - a) \\times (s - b) \\times (s - c)}$$ \n",
    "\n",
    "donde $s$ es el semiperímetro, y se define como \n",
    "\n",
    "$$s = \\frac{a + b + c}{2}$$"
   ]
  },
  {
   "cell_type": "markdown",
   "id": "c4cd9853",
   "metadata": {},
   "source": [
    "#### Área en Función de los Ángulos y Lados"
   ]
  },
  {
   "cell_type": "markdown",
   "id": "d3880337",
   "metadata": {},
   "source": [
    "Si se conocen dos lados de un triángulo y el ángulo entre ellos, el área se puede calcular utilizando la fórmula:\n",
    "\n",
    "<p float=\"center\">\n",
    "  <img src=\"https://github.com/carlosalvarezh/Geometria_Analitica_Vectorial/blob/main/Images/HeronFormulae.png?raw=true\" width=\"250\" />\n",
    "</p>\n",
    "\n",
    "$$\\text{Área} = \\frac{1}{2} \\times a \\times b \\times \\sin(\\gamma)$$\n",
    "\n",
    "Donde $a$ y $b$ son las longitudes de los lados, y $\\gamma$ es el ángulo entre ellos.\n",
    "\n"
   ]
  },
  {
   "cell_type": "markdown",
   "id": "593d50be",
   "metadata": {},
   "source": [
    "#### Área de Triángulos Específicos"
   ]
  },
  {
   "cell_type": "markdown",
   "id": "8fca45d3",
   "metadata": {},
   "source": [
    "- **Triángulo Equilátero**: Si todos los lados del triángulo son iguales (longitud $a$), la fórmula para el área es:\n",
    "  $$\\text{Área} = \\frac{\\sqrt{3}}{4} \\times a^2 $$\n",
    "<p>&nbsp;</p>\n",
    "\n",
    "- **Triángulo Rectángulo**: Para un triángulo rectángulo, la fórmula se simplifica a la mitad del producto de los lados que forman el ángulo recto."
   ]
  },
  {
   "cell_type": "markdown",
   "id": "14c40269",
   "metadata": {},
   "source": [
    "#### Ejemplo: Aplicación de la Fórmula de Herón"
   ]
  },
  {
   "cell_type": "markdown",
   "id": "235a049c",
   "metadata": {},
   "source": [
    "Supongamos un triángulo con lados de longitud $7$, $8$ y $9$ unidades. Primero, calculamos el semiperímetro $s$:\n",
    "$$ s = \\frac{7 + 8 + 9}{2} = 12 $$  \n",
    "\n",
    "Luego, aplicamos la fórmula de Herón:\n",
    "\n",
    "$A = \\sqrt{12 \\times (12 - 7) \\times (12 - 8) \\times (12 - 9)}$  \n",
    "$A = \\sqrt{12 \\times 5 \\times 4 \\times 3}$  \n",
    "$A = \\sqrt{720} \\approx 26.83 \\text{ unidades}^2$  \n"
   ]
  },
  {
   "cell_type": "markdown",
   "id": "3ddf66a7",
   "metadata": {},
   "source": [
    "### Aplicación de funciones trigonométricas"
   ]
  },
  {
   "cell_type": "markdown",
   "id": "4cd970aa",
   "metadata": {},
   "source": [
    "- ***Ejemplo 1:*** Un edificio se levanta desde un plano horizontal, el ángulo de elevación desde cierto punto del plano hasta el techo del edificio es de $24.1^\\circ$y dicho ángulo medido desde $600$ pies mas cerca del edificio es de $30.2^\\circ$ ¿Cuál es la altura del edificio?"
   ]
  },
  {
   "cell_type": "markdown",
   "id": "94ba5813",
   "metadata": {},
   "source": [
    "- ***Ejemplo 2:*** Dos cables sujetan un globo al suelo, como se muestra ¿A qué altura está el globo respecto al suelo?\n",
    "\n",
    "<p float=\"center\">\n",
    "  <img src=\"https://github.com/carlosalvarezh/Geometria_Analitica_Vectorial/blob/main/Images/Globo.jpg?raw=true\" width=\"150\" />\n",
    "</p>"
   ]
  },
  {
   "cell_type": "markdown",
   "id": "a718b9a6",
   "metadata": {},
   "source": [
    "- ***Ejemplo 3:*** Una mujer que esta de pie en una colina observa una bandera, la cual ella sabe que esta a $60$ m de alto El ángulo de depresión a la parte inferior de la base la bandera es de $14^\\circ$ mientras que el ángulo de elevación con respecto a la parte superior de la bandera es de $18^\\circ$ ¿Cuál es la distancia desde la mujer hasta la bandera?"
   ]
  },
  {
   "cell_type": "markdown",
   "id": "3e19d2cd",
   "metadata": {},
   "source": [
    "## Identidades Trigonométricas"
   ]
  },
  {
   "cell_type": "markdown",
   "id": "dcf79b6e",
   "metadata": {},
   "source": [
    "### Introducción"
   ]
  },
  {
   "cell_type": "markdown",
   "id": "af8060eb",
   "metadata": {},
   "source": [
    "Las identidades trigonométricas son ecuaciones que involucran funciones trigonométricas y que son verdaderas para todos los valores de las variables involucradas. Estas identidades son herramientas fundamentales en matemáticas, particularmente en trigonometría, ya que proporcionan relaciones esenciales entre las diferentes funciones trigonométricas."
   ]
  },
  {
   "cell_type": "markdown",
   "id": "5f07b42f",
   "metadata": {},
   "source": [
    "### Conceptos Clave"
   ]
  },
  {
   "cell_type": "markdown",
   "id": "fde68c9d",
   "metadata": {},
   "source": [
    "- **Relaciones Fundamentales**: Las identidades básicas como la identidad Pitagórica ($\\sin^2(\\theta) + \\cos^2(\\theta) = 1$) son la base para derivar otras identidades más complejas.\n",
    "<p>&nbsp;</p>\n",
    "\n",
    "- **Funciones Recíprocas y Relaciones**: Comprendiendo cómo se relacionan las funciones trigonométricas básicas con sus recíprocas (cosecante, secante, cotangente).\n",
    "<p>&nbsp;</p>\n",
    "\n",
    "- **Ángulos Complementarios y Suplementarios**: Entender cómo las funciones trigonométricas cambian con ángulos complementarios y suplementarios es crucial para muchas identidades.\n"
   ]
  },
  {
   "cell_type": "markdown",
   "id": "6cc99ec4",
   "metadata": {},
   "source": [
    "### Identidades Trigonométricas Importantes"
   ]
  },
  {
   "cell_type": "markdown",
   "id": "c561c46a",
   "metadata": {},
   "source": [
    "#### Identidad pitagórica"
   ]
  },
  {
   "cell_type": "markdown",
   "id": "351de4c4",
   "metadata": {},
   "source": [
    "La identidad Pitagórica es una de las identidades trigonométricas más fundamentales y reconocidas. Forma la base de muchas otras identidades y tiene aplicaciones cruciales tanto en trigonometría pura como en sus aplicaciones prácticas.\n",
    "\n",
    "***Descripción y Fórmula***\n",
    "\n",
    "La identidad Pitagórica establece que, para cualquier ángulo $\\theta$,\n",
    "$$ \\sin^2(\\theta) + \\cos^2(\\theta) = 1 $$\n",
    "\n",
    "Esta ecuación implica que la suma de los cuadrados del seno y del coseno de cualquier ángulo es siempre igual a 1.\n",
    "\n",
    "***Interpretación Geométrica***\n",
    "\n",
    "<p float=\"center\">\n",
    "  <img src=\"https://github.com/carlosalvarezh/Geometria_Analitica_Vectorial/blob/main/Images/IdentidadPitagorica.webp?raw=true\" width=\"250\" />\n",
    "</p>\n",
    "\n",
    "Geométricamente, esta identidad se puede entender mediante el círculo unitario en un sistema de coordenadas cartesianas. En este círculo, cualquier punto $P$ sobre su circunferencia se puede representar como $(\\cos(\\theta), \\sin(\\theta))$, donde $\\theta$ es el ángulo formado entre el eje positivo $x$ y el segmento de línea desde el origen hasta $P$. Dado que el radio del círculo unitario es $1$, y $\\cos(\\theta)$ y $\\sin(\\theta)$ son las longitudes de los catetos de un triángulo rectángulo cuya hipotenusa es el radio, la identidad Pitagórica refleja directamente el teorema de Pitágoras: $a^2 + b^2 = c^2$, donde $c$ es el radio del círculo.\n",
    "\n",
    "***Aplicaciones***\n",
    "\n",
    "- **Resolución de Triángulos**: La identidad es esencial para resolver triángulos rectángulos y se usa para derivar otras identidades trigonométricas.\n",
    "<p>&nbsp;</p>\n",
    "\n",
    "- **Simplificación de Expresiones Trigonométricas**: Se utiliza para simplificar expresiones y resolver ecuaciones trigonométricas.\n",
    "<p>&nbsp;</p>\n",
    "\n",
    "- **Análisis de Ondas y Oscilaciones**: En física, esta identidad es útil para analizar movimientos oscilatorios y ondas, donde seno y coseno representan desplazamientos en direcciones perpendiculares.\n",
    "\n",
    "***Conclusión***\n",
    "\n",
    "La identidad Pitagórica es más que una simple ecuación; es una expresión fundamental de una relación geométrica profunda entre las funciones seno y coseno. Su simplicidad y profundidad la convierten en una herramienta poderosa en una variedad de contextos matemáticos y de ingeniería. Su comprensión es esencial para cualquier estudiante o profesional que trabaje con trigonometría."
   ]
  },
  {
   "cell_type": "markdown",
   "id": "05c5779c",
   "metadata": {},
   "source": [
    "#### Otras identidades trigonométricas simples"
   ]
  },
  {
   "cell_type": "markdown",
   "id": "51ad0ba6",
   "metadata": {},
   "source": [
    "$$ 1+\\cot ^2(\\theta)=\\csc ^2(\\theta)$$\n",
    "\n",
    "$$ \\tan ^2(\\theta)+1=\\sec ^2(\\theta)$$\n",
    "\n",
    "$$ \\sin (\\theta) \\cdot \\csc (\\theta)=1$$\n",
    "\n",
    "$$ \\cos (\\theta) \\cdot \\sec (\\theta)=1$$\n",
    "\n",
    "$$ \\tan (\\theta) \\cdot \\cot (\\theta)=1$$\n"
   ]
  },
  {
   "cell_type": "markdown",
   "id": "b50dcbdc",
   "metadata": {},
   "source": [
    "#### Identidades para Ángulos Dobles"
   ]
  },
  {
   "cell_type": "markdown",
   "id": "8b99b628",
   "metadata": {},
   "source": [
    "$$\\sin(2\\theta) = 2\\sin(\\theta)\\cos(\\theta)$$\n",
    "\n",
    "$$\\cos(2\\theta) = \\cos^2(\\theta) - \\sin^2(\\theta)$$\n",
    "\n",
    "$$\\cos(2\\theta) = 2\\cos^2(\\theta) - 1$$\n",
    "\n",
    "$$\\cos(2\\theta) = 1 - 2\\sin^2(\\theta)$$\n",
    "\n",
    "$$\\tan(2\\theta) = \\frac{2\\tan(\\theta)}{1 - \\tan^2(\\theta)}$$\n"
   ]
  },
  {
   "cell_type": "markdown",
   "id": "90156adc",
   "metadata": {},
   "source": [
    "#### Identidades de Suma y Resta de Ángulos"
   ]
  },
  {
   "cell_type": "markdown",
   "id": "1ecf3999",
   "metadata": {},
   "source": [
    "$$\\sin(\\alpha \\pm \\beta) = \\sin(\\alpha)\\cos(\\beta) \\pm \\cos(\\alpha)\\sin(\\beta)$$\n",
    "\n",
    "$$\\cos(\\alpha \\pm \\beta) = \\cos(\\alpha)\\cos(\\beta) \\mp \\sin(\\alpha)\\sin(\\beta)$$\n",
    "\n",
    "$$\\tan(\\alpha \\pm \\beta) = \\frac{\\tan(\\alpha) \\pm \\tan(\\beta)}{1 \\mp \\tan(\\alpha)\\tan(\\beta)}$$\n"
   ]
  },
  {
   "cell_type": "markdown",
   "id": "09bb8baa",
   "metadata": {},
   "source": [
    "### Conclusión"
   ]
  },
  {
   "cell_type": "markdown",
   "id": "470cf424",
   "metadata": {},
   "source": [
    "Las identidades trigonométricas no solo son esenciales para el estudio avanzado de la matemática, sino que también son herramientas vitales en campos aplicados como la ingeniería. Su comprensión y aplicación correctas permiten a los ingenieros y científicos resolver problemas complejos relacionados con el mundo real, desde el análisis estructural hasta la modelización de fenómenos físicos."
   ]
  },
  {
   "cell_type": "markdown",
   "id": "af67c97b",
   "metadata": {},
   "source": [
    "### Ejercicios de identidades trigonométricas"
   ]
  },
  {
   "cell_type": "markdown",
   "id": "900bec59",
   "metadata": {},
   "source": [
    "***Ejemplo 01:*** Demostrar si se cumple lo siguiente: $\\cos(60^\\circ) = \\sin(60^\\circ - 30^\\circ)$\n",
    "\n",
    "***Ejercicio 02:*** Encontrar la razón trigonométrica de $\\sin(75^\\circ)$\n",
    "\n",
    "***Ejercicio 03:*** Encontrar la razón trigonométrica de $\\cos(120^\\circ)$\n",
    "\n",
    "***Ejercicio 04:*** Encontrar la razón trigonométrica de $\\tan(75^\\circ)$\n",
    "\n",
    "***Ejercicio 05:*** Demostrar las identidadades:  \n",
    "\n",
    "$\\frac{1}{sec^2(\\alpha)}=\\sin^2(\\alpha) \\cdot \\cos^2(\\alpha) + \\cos^4(\\alpha)$\n",
    "\n",
    "$\\sin \\beta \\cdot \\cos (\\alpha-\\beta)+\\cos \\beta \\cdot \\sin (\\alpha-\\beta)=\\sin \\alpha$\n",
    "\n",
    "$\\tan \\alpha+\\cot \\alpha=\\sec \\alpha \\cdot \\csc \\alpha$\n",
    "\n",
    "$\\frac{\\sec \\alpha}{\\tan \\alpha+\\cot \\alpha}=\\sin \\alpha$\n",
    "\n",
    "***Ejercicio 06: Calcula las áreas de las regiones sombreadas:***\n",
    "\n",
    "<p float=\"center\">\n",
    "  <img src=\"https://github.com/carlosalvarezh/Geometria_Analitica_Vectorial/blob/main/Images/RegionSombreada01.PNG?raw=true\" width=\"250\" />\n",
    "</p>\n",
    "\n",
    "<p float=\"center\">\n",
    "  <img src=\"https://github.com/carlosalvarezh/Geometria_Analitica_Vectorial/blob/main/Images/RegionSombreada02.PNG?raw=true\" width=\"250\" />\n",
    "</p>\n",
    "\n",
    "***Ejercicio 07:*** Un topógrafo ha determinado que una montaña mide 2430 pies de altura De lo alto de la montaña él mide los ángulos de depresión a dos puntos de referencia en la base de la montaña y encuentra que son de 4242°y 39 (Observe que éstos son los mismos que los ángulos de elevación de los puntos de referencia como se ven en la figura) El ángulo entre las\n",
    "líneas de vista a los puntos de referencia es de 68 Calcule la distancia entre los dos puntos de referencia.\n",
    "\n",
    "<p float=\"center\">\n",
    "  <img src=\"https://github.com/carlosalvarezh/Geometria_Analitica_Vectorial/blob/main/Images/Montana.jpg?raw=true\" width=\"250\" />\n",
    "</p>\n",
    "\n",
    "***Ejercicio 08:*** Un asta está situada en la parte superior de un edificio de 115 pie de altura Desde un punto en el mismo plano horizontal de la base del edificio los ángulos de elevación de los extremos superior en inferior del asta son 63 22°y 58 6 respectivamente ¿Cuál es la longitud del asta?\n",
    "\n",
    "***Ejercicio 09:*** Para medir la altura de un peñasco inaccesible en el lado opuesto de un rio, un topógrafo hace las mediciones presentadas en la figura Determine la altura del peñasco:\n",
    "\n",
    "<p float=\"center\">\n",
    "  <img src=\"https://github.com/carlosalvarezh/Geometria_Analitica_Vectorial/blob/main/Images/Penasco.jpg?raw=true\" width=\"250\" />\n",
    "</p>\n",
    "\n",
    "***Ejercicio 10:*** Un helicóptero permanece en posición fija a una altitud de $1000 \\mathrm{ft}$ sobre el pico de una montaña de $5210 \\mathrm{ft}$, un segundo pico mas alto se ve desde la primera montaña y el helicóptero. De este ultimo el ángulo de depresión es de $45^{\\circ}$ y desde la cuna de la montaña $30^{\\circ}$. Determinar: a) la distancia entre los dos picos y b) la atura del pico mas alto.\n",
    "\n",
    "***Ejercicio 11:*** Carlos desea calcular la altura de dos edificios que están situados a 100 metros el uno del otro. Como tiene acceso al edificio más alto, observa que desde la azotea de dicho edificio (punto A ) se avista la azotea del otro (punto B) bajo un ángulo de $\\alpha=73,3^{\\circ}$. Desde la base del mismo edificio, se ve la azotea del otro edificio bajo un ángulo de $\\beta=19,29^{\\circ}$.\n",
    "¿Puede Carlos calcular la altura de los edificios con los tres datos con los que cuenta? En caso afirmativo, ¿cuál es la altura de cada uno? \n",
    "\n",
    "<p float=\"center\">\n",
    "  <img src=\"https://github.com/carlosalvarezh/Geometria_Analitica_Vectorial/blob/main/Images/Trigonometria11.PNG?raw=true\" width=\"200\" />\n",
    "</p>\n",
    "\n",
    "***Ejercicio 12:*** En la construcción de un edificio se está usando una grúa para mover vigas. La grúa tiene dos cadenas de longitud $x$ que sujetan las vigas desde sus extremos forman un ángulo $\\alpha$ entre sí:\n",
    "\n",
    "<p float=\"center\">\n",
    "  <img src=\"https://github.com/carlosalvarezh/Geometria_Analitica_Vectorial/blob/main/Images/Trigonometria12.PNG?raw=true\" width=\"150\" />\n",
    "</p>\n",
    "\n",
    "Responde:\n",
    "1. Si la viga mide 5 metros y las cadenas forman un ángulo $\\alpha=45^{\\circ}$, ¿cuánto miden las cadenas? ¿Cuál es la distancia de la viga al garfio de la grúa?\n",
    "2. Si la viga mide 2 metros y las cadenas miden 2.28 metros, ¿qué ángulo $\\alpha$ forman las cadenas? ¿Cuál es la distancia de la viga al garfio de la grúa?\n",
    "3. Si las cadenas miden 6 metros y forman un ángulo $\\alpha=60^{\\circ}$, ¿cuánto mide la viga? ¿Cuál es la distancia de la viga al garfio de la grúa?\n",
    "\n",
    "***Ejercicio 13:*** En la parte superior de una pared de 3 metros de altura y 6 de ancho se colocan un foco de luz amarilla con ángulo de apertura $\\alpha$ y otro de luz roja con ángulo $\\beta$, de modo que los triángulos isósceles amarillo y rojo que proyectan los focos se solapan formando otro triángulo naranja con un ángulo $\\sigma$ :\n",
    "\n",
    "<p float=\"center\">\n",
    "  <img src=\"https://github.com/carlosalvarezh/Geometria_Analitica_Vectorial/blob/main/Images/Trigonometria13.PNG?raw=true\" width=\"250\" />\n",
    "</p>\n",
    "\n",
    "Determinar la amplitud de los ángulos $\\alpha, \\beta$ y $\\sigma$ sabiendo que el área del triángulo amarillo es de $3.75 \\mathrm{~m}^2$ y el del triángulo rojo es de $6.75 \\mathrm{~m}^2$.\n",
    "\n",
    "Nota: las áreas de los triángulos no excluyen la del triángulo naranja (su área se cuenta en ambas áreas)."
   ]
  },
  {
   "cell_type": "markdown",
   "id": "2b2053fc",
   "metadata": {},
   "source": []
  }
 ],
 "metadata": {
  "kernelspec": {
   "display_name": "Python 3 (ipykernel)",
   "language": "python",
   "name": "python3"
  },
  "language_info": {
   "codemirror_mode": {
    "name": "ipython",
    "version": 3
   },
   "file_extension": ".py",
   "mimetype": "text/x-python",
   "name": "python",
   "nbconvert_exporter": "python",
   "pygments_lexer": "ipython3",
   "version": "3.12.4"
  },
  "toc": {
   "base_numbering": 1,
   "nav_menu": {},
   "number_sections": true,
   "sideBar": true,
   "skip_h1_title": true,
   "title_cell": "Table of Contents",
   "title_sidebar": "Contents",
   "toc_cell": false,
   "toc_position": {
    "height": "calc(100% - 180px)",
    "left": "10px",
    "top": "150px",
    "width": "256px"
   },
   "toc_section_display": true,
   "toc_window_display": false
  }
 },
 "nbformat": 4,
 "nbformat_minor": 5
}
