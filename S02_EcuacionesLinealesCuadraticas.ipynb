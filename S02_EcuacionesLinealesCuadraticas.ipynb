{
 "cells": [
  {
   "cell_type": "markdown",
   "id": "0a230812",
   "metadata": {},
   "source": [
    "<h1 align=\"center\">Geometría Analítica y Vectorial</h1>\n",
    "<h1 align=\"center\">Ecuaciones Lineales y Cuadráticas</h1>\n",
    "<h1 align=\"center\">2024</h1>\n",
    "<h1 align=\"center\">MEDELLÍN - COLOMBIA </h1>"
   ]
  },
  {
   "cell_type": "markdown",
   "id": "bc910751",
   "metadata": {},
   "source": [
    "*** \n",
    "|[![Outlook](https://img.shields.io/badge/Microsoft_Outlook-0078D4?style=plastic&logo=microsoft-outlook&logoColor=white)](mailto:calvar52@eafit.edu.co)||[![Open In Colab](https://colab.research.google.com/assets/colab-badge.svg)](https://colab.research.google.com/github/carlosalvarezh/Geometria_Analitica_Vectorial/blob/main/S01_Presentacion_Readme1st.ipynb)\n",
    "|-:|:-|--:|\n",
    "|[![LinkedIn](https://img.shields.io/badge/linkedin-%230077B5.svg?style=plastic&logo=linkedin&logoColor=white)](https://www.linkedin.com/in/carlosalvarez5/)|[![@alvarezhenao](https://img.shields.io/twitter/url/https/twitter.com/alvarezhenao.svg?style=social&label=Follow%20%40alvarezhenao)](https://twitter.com/alvarezhenao)|[![@carlosalvarezh](https://img.shields.io/badge/github-%23121011.svg?style=plastic&logo=github&logoColor=white)](https://github.com/carlosalvarezh)|\n",
    "\n",
    "<table>\n",
    " <tr align=left><td><img align=left src=\"https://github.com/carlosalvarezh/Curso_CEC_EAFIT/blob/main/images/CCLogoColorPop1.gif?raw=true\" width=\"25\">\n",
    " <td>Text provided under a Creative Commons Attribution license, CC-BY. All code is made available under the FSF-approved MIT license.(c) Carlos Alberto Alvarez Henao</td>\n",
    "</table>\n",
    "\n",
    "***"
   ]
  },
  {
   "cell_type": "markdown",
   "id": "0fcc9ac4",
   "metadata": {},
   "source": [
    "## Lenguaje Algebraico"
   ]
  },
  {
   "cell_type": "markdown",
   "id": "d0bb0940",
   "metadata": {},
   "source": [
    "### Introducción al Lenguaje Algebraico"
   ]
  },
  {
   "cell_type": "markdown",
   "id": "6c1ed42d",
   "metadata": {},
   "source": [
    "El lenguaje algebraico es una extensión y abstracción del lenguaje aritmético, donde se utilizan símbolos (normalmente letras) para representar números desconocidos o variables. Esta abstracción permite a los ingenieros y científicos formular y resolver problemas de una manera general y sistemática, que va más allá de los cálculos numéricos específicos de la aritmética."
   ]
  },
  {
   "cell_type": "markdown",
   "id": "5b1e20a3",
   "metadata": {},
   "source": [
    "### Elementos del Lenguaje Algebraico"
   ]
  },
  {
   "cell_type": "markdown",
   "id": "a46199e2",
   "metadata": {},
   "source": [
    "#### Variables y Constantes"
   ]
  },
  {
   "cell_type": "markdown",
   "id": "ed9eb6fa",
   "metadata": {},
   "source": [
    "Las variables son símbolos que representan cantidades desconocidas o que pueden cambiar. Generalmente, pero no siempre, se representan por las últimas letras del alfabeto ($x$, $y$, $z$, etc.). Las constantes son valores fijos y conocidos.\n",
    "\n",
    "***Ejemplo 1:*** En la ecuación para calcular el área de un círculo: $A = \\pi r^2$, $\\pi$ expresa un valor constante (nunca cambia, independiente del problema planteado) $\\pi = 3.1415926535897932384626433 \\ldots$ y $r$ (el radio) es una variable.\n",
    "\n",
    "***Ejemplo 2:*** En una ecuación de velocidad, $v=d/t$, donde $d$ (distancia) y $t$ (tiempo) son variables."
   ]
  },
  {
   "cell_type": "markdown",
   "id": "7870c20f",
   "metadata": {},
   "source": [
    "#### Constantes de amplio uso en Ingeniería civil"
   ]
  },
  {
   "cell_type": "markdown",
   "id": "0c38046d",
   "metadata": {},
   "source": [
    "En la Ingeniería Civil, hay varias constantes que se utilizan frecuentemente debido a su relevancia en diferentes aplicaciones y cálculos. Algunas de las más importantes incluyen:\n",
    "\n",
    "1. **Pi ($\\pi$)**: \n",
    "   - Valor aproximado: $3.14159$\n",
    "   - Uso: Cálculo de áreas y volúmenes de figuras circulares, análisis de estructuras curvas, diseño de infraestructuras como túneles y puentes.\n",
    "<p>&nbsp;</p>\n",
    "\n",
    "2. **Gravedad ($g$)**: \n",
    "   - Valor aproximado: $9.81 \\text{m/s}^2$ en la superficie terrestre\n",
    "   - Uso: Análisis de cargas debidas al peso propio de estructuras y materiales, cálculos en mecánica de fluidos, diseño de estructuras sometidas a cargas gravitatorias.\n",
    "<p>&nbsp;</p>\n",
    "\n",
    "3. **Módulo de Elasticidad del Acero ($E$)**: \n",
    "   - Valor típico: Alrededor de $200 GPa$ (Gigapascales)\n",
    "   - Uso: Cálculo de deformaciones en elementos de acero, análisis estructural, diseño de componentes metálicos.\n",
    "<p>&nbsp;</p>\n",
    "\n",
    "4. **Módulo de Elasticidad del Concreto ($Ec$)**: \n",
    "   - Valor típico: Varía, pero comúnmente alrededor de $25$ a $30$ GPa\n",
    "   - Uso: Diseño y análisis de elementos de concreto, cálculo de deformaciones y esfuerzos en estructuras de concreto.\n",
    "<p>&nbsp;</p>\n",
    "\n",
    "5. **Coeficiente de Poisson ($\\nu$)**: \n",
    "   - Valor típico para muchos materiales de construcción: $0.2 - 0.3$\n",
    "   - Uso: Análisis de deformaciones en materiales, especialmente en relación con la mecánica de sólidos.\n",
    "<p>&nbsp;</p>\n",
    "\n",
    "6. **Densidad del Agua ($\\rho_{agua}$)**: \n",
    "   - Valor aproximado: $1000 kg/m^3$ a temperatura ambiente\n",
    "   - Uso: Hidráulica, cálculos en mecánica de fluidos, diseño de sistemas de drenaje y saneamiento.\n",
    "\n",
    "Estas constantes son fundamentales en diversas áreas de la Ingeniería Civil, desde el diseño estructural y mecánica de materiales hasta la hidráulica y la mecánica de suelos. Su correcta aplicación es crucial para asegurar la precisión y seguridad en el diseño y análisis de proyectos de ingeniería."
   ]
  },
  {
   "cell_type": "markdown",
   "id": "66110ed2",
   "metadata": {},
   "source": [
    "#### Expresiones Algebraicas"
   ]
  },
  {
   "cell_type": "markdown",
   "id": "6c6acc21",
   "metadata": {},
   "source": [
    "Combinaciones de variables, constantes y operadores (como suma, resta, multiplicación y división) que representan cantidades algebraicas.\n",
    "\n",
    "***Ejemplo 1:*** $3x+4$ es una expresión algebraica donde $x$ es una variable y $3$ y $4$ son constantes.\n",
    "\n",
    "***Ejemplo 2:*** $5x^2−2xy+y$ es una expresión algebraica más compleja con dos variables, $x$ y $y$, y varias operaciones.\n",
    "\n",
    "***Ejemplo 3:*** Sea la siguiente expresión algebraica $$5y^3-xy+4+x$$. En esta expresión podemos identificar los siguientes elementos:\n",
    "- ***Variables:*** Son los valores expresados con letras, $x$ y $y$\n",
    "- ***Coeficientes:*** Son los valores que acompañan a las variables, $5$ y $1$ (como el $1$ es el neutro de la multiplicación, no se coloca explícitamente en la expresión)\n",
    "- ***Constantes:*** Son los valores numéricos que no acompaña ninguna variable, $4$"
   ]
  },
  {
   "cell_type": "markdown",
   "id": "f37ba90f",
   "metadata": {},
   "source": [
    "#### Ecuaciones"
   ]
  },
  {
   "cell_type": "markdown",
   "id": "bc66dfef",
   "metadata": {},
   "source": [
    "Son igualdades que relacionan dos expresiones algebraicas. Resolver una ecuación implica encontrar los valores de las variables que hacen que la igualdad sea verdadera.\n",
    "\n",
    "***Ejemplo 1:*** $2x+3=7$. Aquí, $x$ es una variable y la ecuación se resuelve encontrando el valor de $x$ que hace que la igualdad sea cierta.\n",
    "\n",
    "***Ejemplo 2:*** $y=2x^2−5$. Esta es una ecuación cuadrática donde $y$ y $x$ son variables y la ecuación describe una parábola."
   ]
  },
  {
   "cell_type": "markdown",
   "id": "3a1208c9",
   "metadata": {},
   "source": [
    "### Clasificación de los números"
   ]
  },
  {
   "cell_type": "markdown",
   "id": "7aef7862",
   "metadata": {},
   "source": [
    "En la práctica en Ingeniería Civil, los valores numéricos constantes o coeficientes que acompañan a las expresiones algebráicas pueden enmarcarse dentro de los números reales y estos, a su vez, en subclases de números racionales e irracionales."
   ]
  },
  {
   "cell_type": "markdown",
   "id": "a0a424a0",
   "metadata": {},
   "source": [
    "#### Números Reales"
   ]
  },
  {
   "cell_type": "markdown",
   "id": "ec9e6fa7",
   "metadata": {},
   "source": [
    "Los [números reales](https://en.wikipedia.org/wiki/Real_number) constituyen el conjunto de valores que incluye tanto todos los números que podemos contar o medir en una escala continua, como los números que expresan magnitudes o cantidades. Son los números que se encuentran a lo largo de la línea numérica, abarcando desde los negativos infinitos hasta los positivos infinitos, e incluyen tanto los números que podemos describir en forma de fracciones (números racionales) como aquellos que no pueden ser expresados de esta manera (números irracionales).\n",
    "\n",
    "<p float=\"center\">\n",
    "  <img src=\"https://github.com/carlosalvarezh/Geometria_Analitica_Vectorial/blob/main/Images/Real_number_line.svg.png?raw=true\" width=\"500\" />\n",
    "</p>\n",
    "\n",
    "<p style=\"text-align: center;\">\n",
    "    <strong>Tomado de:</strong> <a href=\"https://en.wikipedia.org/wiki/Real_number#/media/File:Real_number_line.svg\"> Real Number </a> en <a href=\"https://en.wikipedia.org/wiki/Real_number\">wikipedia.org</a>.\n",
    "</p>\n",
    "\n",
    "Los números reales son fundamentales en todas las ramas de las matemáticas y sus aplicaciones, ya que proporcionan un marco para describir y entender el mundo físico. En ingeniería y ciencias, los números reales son esenciales para medir, calcular y modelar fenómenos en un espectro que va desde las escalas muy pequeñas hasta las muy grandes.\n",
    "\n",
    "En el contexto matemático, los números reales se representan simbólicamente con la letra $\\mathbb{R}$, y esta categoría incluye:"
   ]
  },
  {
   "cell_type": "markdown",
   "id": "49258372",
   "metadata": {},
   "source": [
    "#### Números Racionales"
   ]
  },
  {
   "cell_type": "markdown",
   "id": "908ea792",
   "metadata": {},
   "source": [
    "Los números racionales son aquellos que pueden expresarse como el cociente o la fracción de dos números enteros, con el denominador distinto de cero. En términos matemáticos, cualquier número racional se puede representar como $\\frac{a}{b}$, donde $a$ y $b$ son enteros y $b \\neq 0$.\n",
    "\n",
    "Algunas características de los Números Racionales son:\n",
    "\n",
    "- ***Representación Decimal:*** Pueden ser expresados como decimales exactos o como decimales periódicos (decimales que repiten un patrón).\n",
    "- ***Inclusión de Enteros:*** Todos los números enteros son racionales, ya que pueden expresarse como fracciones con denominador 1. Por ejemplo, el número 5 puede escribirse como $\\frac{5}{1}$.\n",
    "\n",
    "***Ejemplos***\n",
    "\n",
    "- ***Fracciones simples:*** $\\frac{1}{2}$, $\\frac{3}{4}$, $-\\frac{5}{6}$\n",
    "- ***Números enteros:*** $5$ (como $\\frac{5}{1}$), $-3$ (como $-\\frac{3}{1}$) o $0$ (como $\\frac{0}{1}$)\n",
    "- ***Decimales exactos y periódicos:*** $0.75$ (equivalente a $\\frac{3}{4}$), $-2.333\\ldots$ (equivalente a $-\\frac{7}{3}$)"
   ]
  },
  {
   "cell_type": "markdown",
   "id": "e303ecf0",
   "metadata": {},
   "source": [
    "#### Números Irracionales"
   ]
  },
  {
   "cell_type": "markdown",
   "id": "d6b9b61e",
   "metadata": {},
   "source": [
    "Los números irracionales son aquellos que no pueden ser expresados como una fracción de dos números enteros. Tienen expansiones decimales infinitas y no repetitivas, lo que significa que no se pueden escribir exactamente en forma decimal ni como una fracción simple.\n",
    "\n",
    "Características de los Números Irracionales:\n",
    "- No Repetitivos: A diferencia de los racionales, los irracionales no tienen un patrón repetitivo en su expansión decimal.\n",
    "- Expansión Decimal Infinita: Continúan indefinidamente sin repetir un patrón.\n",
    "- No Se Pueden Expresar como Fracciones: No hay dos enteros cuyo cociente sea un número irracional.\n",
    "\n",
    "***Ejemplos:***\n",
    "- ***Raíces Cuadradas de Números No Cuadrados Perfectos:*** $\\sqrt{2}$, $\\sqrt{3}$, $\\sqrt{5}$\n",
    "- ***Número pi($\\pi$):*** Aproximadamente $3.14159$, representa la relación entre la circunferencia y el diámetro de un círculo.\n",
    "- ***Número $e$ (Base del Logaritmo Natural):*** Aproximadamente $2.71828$, es fundamental en matemáticas, especialmente en cálculo y análisis matemático."
   ]
  },
  {
   "cell_type": "markdown",
   "id": "ee521070",
   "metadata": {},
   "source": [
    "### Funciones: Relación entre Variables Independientes y Dependientes"
   ]
  },
  {
   "cell_type": "markdown",
   "id": "a76ea735",
   "metadata": {},
   "source": [
    "#### Definición de Función"
   ]
  },
  {
   "cell_type": "markdown",
   "id": "ebc7663b",
   "metadata": {},
   "source": [
    "<p float=\"center\">\n",
    "  <img src=\"https://github.com/carlosalvarezh/Geometria_Analitica_Vectorial/blob/main/Images/Function.png?raw=true\" width=\"750\" />\n",
    "</p>\n",
    "\n",
    "<p style=\"text-align: center;\">\n",
    "    <strong>Tomado de:</strong> <a href=\"https://www.geeksforgeeks.org/what-is-a-function/\"> What is a function </a> en <a href=\"https://www.geeksforgeeks.org/\">geeksforgeeks.org</a>.\n",
    "</p>\n",
    "\n",
    "Una función es una relación entre dos conjuntos de variables, donde a cada valor de la variable independiente corresponde un único valor de la variable dependiente. En otras palabras, una función define cómo una variable dependiente se determina o se calcula a partir de una o más variables independientes."
   ]
  },
  {
   "cell_type": "markdown",
   "id": "f735f998",
   "metadata": {},
   "source": [
    "#### Variables en las Funciones"
   ]
  },
  {
   "cell_type": "markdown",
   "id": "80889ab0",
   "metadata": {},
   "source": [
    "1. **Variable Independiente:**\n",
    "   - Es la variable que se elige o se controla en un experimento o análisis. \n",
    "   - En el contexto matemático, es la variable \"*input*\" o entrada de la función. \n",
    "   - Se representa comúnmente en el eje horizontal (eje $X$) en una gráfica de la función.\n",
    "   - **Ejemplo:** En una función que describe el movimiento de un objeto, el tiempo suele ser la variable independiente.\n",
    "<p>&nbsp;</p>\n",
    "\n",
    "2. **Variable Dependiente:**\n",
    "   - Es la variable que responde o depende de la variable independiente.\n",
    "   - En términos de funciones, es la variable \"*output*\" o salida.\n",
    "   - Se representa comúnmente en el eje vertical (eje $Y$) en una gráfica de la función.\n",
    "   - También es común emplear las expresiones $y=f(x)$ o $y(x)$ para indicar que esta es la variable dependiente, es decir, la variable que depende de la $x$\n",
    "   - **Ejemplo:** En el mismo caso del movimiento de un objeto, la posición o velocidad del objeto sería la variable dependiente que cambia en función del tiempo."
   ]
  },
  {
   "cell_type": "markdown",
   "id": "e19ba06b",
   "metadata": {},
   "source": [
    "#### Relación entre Variables Independientes y Dependientes en Funciones"
   ]
  },
  {
   "cell_type": "markdown",
   "id": "9584b310",
   "metadata": {},
   "source": [
    "En una función, la relación entre la variable independiente y la variable dependiente se establece mediante una regla o fórmula. Esta regla determina cómo el valor de la variable dependiente se calcula a partir de los valores de la variable independiente.\n",
    "\n",
    "- **Ejemplo de Función Lineal:** $y = 2x + 3 $\n",
    "  - Aquí, $x$ es la variable independiente y $y$ es la variable dependiente.\n",
    "  - La relación está definida por la fórmula $y = 2x + 3$, lo que significa que el valor de $y$ depende directamente de los valores que tome $x$.\n",
    "  - Por ejemplo, si $x = 2$, entonces $y = 2 \\times 2 + 3 = 7$.\n",
    "<p>&nbsp;</p>\n",
    "\n",
    "- **Ejemplo de Función Cuadrática:** $y = x^2 - 4x + 4$\n",
    "  - Nuevamente, $x$ es la variable independiente y $y$ es la variable dependiente.\n",
    "  - La relación cuadrática significa que $y$ cambia en función del cuadrado de $x$, más una transformación lineal."
   ]
  },
  {
   "cell_type": "markdown",
   "id": "6e510c1b",
   "metadata": {},
   "source": [
    "En la Ingeniería Civil, comprender la relación entre variables independientes y dependientes es crucial para modelar fenómenos físicos, analizar estructuras, y diseñar sistemas eficientes. Por ejemplo, al analizar la carga sobre una viga, la carga (variable dependiente) puede variar en función de la longitud de la viga (variable independiente). Estas relaciones funcionales permiten a los ingenieros predecir comportamientos y diseñar estructuras y sistemas adecuados a las necesidades y restricciones del mundo real."
   ]
  },
  {
   "cell_type": "markdown",
   "id": "ddf2f025",
   "metadata": {},
   "source": [
    "### Importancia del Lenguaje Algebraico en la Ingeniería Civil"
   ]
  },
  {
   "cell_type": "markdown",
   "id": "5d4c1b07",
   "metadata": {},
   "source": [
    "1. **Modelado de Problemas:**\n",
    "   - El lenguaje algebraico permite modelar situaciones reales, como el cálculo de cargas en una estructura, la optimización de recursos o la estimación de costos.\n",
    "<p>&nbsp;</p>\n",
    "\n",
    "2. **Generalización y Abstracción:**\n",
    "   - A través del algebra, los ingenieros pueden crear modelos generales que son aplicables a una variedad de situaciones, lo que facilita el análisis y la resolución de problemas complejos.\n",
    "<p>&nbsp;</p>\n",
    "\n",
    "3. **Análisis y Simulación:**\n",
    "   - El uso de ecuaciones y funciones algebraicas es fundamental en la simulación de escenarios y en el análisis predictivo, aspectos clave en la planificación y diseño de proyectos de ingeniería."
   ]
  },
  {
   "cell_type": "markdown",
   "id": "3d30cd36",
   "metadata": {},
   "source": [
    "## Solución de Sistemas de Ecuaciones"
   ]
  },
  {
   "cell_type": "markdown",
   "id": "999ba8b4",
   "metadata": {},
   "source": [
    "### Definición y Contexto"
   ]
  },
  {
   "cell_type": "markdown",
   "id": "85fca04e",
   "metadata": {},
   "source": [
    "Un sistema de ecuaciones es un conjunto de dos o más ecuaciones con un conjunto de variables. La solución de estos sistemas implica encontrar los valores de las variables que satisfacen todas las ecuaciones simultáneamente. En la ingeniería civil, así como en muchas otras disciplinas de ciencias e ingeniería, la capacidad de resolver sistemas de ecuaciones es fundamental, ya que permite modelar y resolver problemas complejos donde varias condiciones deben cumplirse al mismo tiempo."
   ]
  },
  {
   "cell_type": "markdown",
   "id": "72334dba",
   "metadata": {},
   "source": [
    "### Tipos de Sistemas de Ecuaciones"
   ]
  },
  {
   "cell_type": "markdown",
   "id": "d768042a",
   "metadata": {},
   "source": [
    "Los sistemas de ecuaciones se pueden clasificar principalmente en:"
   ]
  },
  {
   "cell_type": "markdown",
   "id": "396b4b29",
   "metadata": {},
   "source": [
    "#### Sistemas Lineales"
   ]
  },
  {
   "cell_type": "markdown",
   "id": "37a62e8d",
   "metadata": {},
   "source": [
    "Todas las ecuaciones en el sistema son lineales. Estos son los más simples y comunes, donde cada ecuación representa una línea recta en un plano bidimensional.\n",
    "\n",
    "$$2x+3y=8$$\n",
    "$$x−4y=−3$$\n",
    "\n",
    "Este es un sistema de dos ecuaciones lineales con dos variables, $x$ y $y$. Cada ecuación representa una línea recta, y la solución del sistema es el punto donde estas dos líneas se intersectan.\n",
    "\n",
    "<p float=\"center\">\n",
    "  <img src=\"https://github.com/carlosalvarezh/Geometria_Analitica_Vectorial/blob/main/Images/Sistema2x2.PNG?raw=true\" width=\"500\" />\n",
    "</p>\n",
    "\n",
    "<p style=\"text-align: center;\">\n",
    "    <strong>Fuente:</strong> Creación propia.\n",
    "</p>"
   ]
  },
  {
   "cell_type": "markdown",
   "id": "ae222439",
   "metadata": {},
   "source": [
    "#### Sistemas No Lineales"
   ]
  },
  {
   "cell_type": "markdown",
   "id": "2902e060",
   "metadata": {},
   "source": [
    "Al menos una de las ecuaciones en el sistema es no lineal. Estos sistemas pueden ser más complejos y su solución a menudo requiere métodos matemáticos avanzados.\n",
    "\n",
    "- $x^2+y^2=25$ (una ecuación de un círculo con radio $5$)  \n",
    "<p>&nbsp;</p>\n",
    "\n",
    "- $y=x^2−4$ (una ecuación de una parábola)\n",
    "\n",
    "Este sistema incluye una ecuación cuadrática y una ecuación que representa un círculo. La solución de este sistema son los puntos donde la parábola intersecta el círculo. Dado que las ecuaciones son no lineales, la solución puede incluir cero, uno, o múltiples puntos de intersección.\n",
    "\n",
    "***En este curso nos referiremos únicamente a Sistemas de Ecuaciones Lineales.***"
   ]
  },
  {
   "cell_type": "markdown",
   "id": "a042d630",
   "metadata": {},
   "source": [
    "### Determinación e indeterminación en Sistemas de Ecuaciones Lineales"
   ]
  },
  {
   "cell_type": "markdown",
   "id": "ca670b0c",
   "metadata": {},
   "source": [
    "La relación entre la cantidad de ecuaciones ($m$) y la cantidad de incógnitas ($n$) en un sistema de ecuaciones es crucial para determinar la existencia y la naturaleza de las soluciones del sistema. Veamos cómo esto afecta los diferentes tipos de sistemas:"
   ]
  },
  {
   "cell_type": "markdown",
   "id": "0e1d133e",
   "metadata": {},
   "source": [
    "#### Sistemas Determinados ($m = n$)"
   ]
  },
  {
   "cell_type": "markdown",
   "id": "b0b3189d",
   "metadata": {},
   "source": [
    "- **Descripción:** Un sistema es determinado cuando el número de ecuaciones ($m$) es igual al número de incógnitas ($n$). Generalmente se hace referencia a este tipo de sistemas como sistemas $n \\times n$ o cuadrados.\n",
    "<p>&nbsp;</p>\n",
    "\n",
    "- **Solución:** En general, estos sistemas tienen una única solución. <ins>La existencia de una solución depende de unos criterios específicos que están fuera del alcance del curso y serán tratados en el curso regular de *Algebra Lineal* y/o *Métodos Numéricos*.</ins>\n",
    "<p>&nbsp;</p>\n",
    "\n",
    "- **Ejemplo:** Un sistema de 2 ecuaciones con 2 incógnitas.\n",
    "$$x+y=5$$\n",
    "$$2x−y=1$$"
   ]
  },
  {
   "cell_type": "markdown",
   "id": "22cf646a",
   "metadata": {},
   "source": [
    "#### Sistemas Indeterminados ($m < n$)"
   ]
  },
  {
   "cell_type": "markdown",
   "id": "fec07868",
   "metadata": {},
   "source": [
    "- **Descripción:** Un sistema es indeterminado cuando hay menos ecuaciones que incógnitas.\n",
    "<p>&nbsp;</p>\n",
    "\n",
    "- **Solución:** Estos sistemas pueden no tener solución o tener un número infinito de soluciones.\n",
    "<p>&nbsp;</p>\n",
    "\n",
    "- **Ejemplo:** Para el sistema con 1 ecuación y 2 incógnitas. $x+y=4$ Hay infinitas soluciones, ya que cualquier par de valores $(x,y)$ que sumen $4$ será una solución (como $(1,3)$,$(2,2)$, etc.)."
   ]
  },
  {
   "cell_type": "markdown",
   "id": "89b51746",
   "metadata": {},
   "source": [
    "#### Sistemas Sobredeterminados ($m > n$)"
   ]
  },
  {
   "cell_type": "markdown",
   "id": "ed79344c",
   "metadata": {},
   "source": [
    "- **Descripción:** Un sistema es sobredeterminado cuando hay más ecuaciones que incógnitas.\n",
    "<p>&nbsp;</p>\n",
    "\n",
    "- **Solución:** Estos sistemas generalmente no tienen solución, pero en algunos casos pueden tener una solución única si las ecuaciones adicionales no son contradictorias entre sí.\n",
    "<p>&nbsp;</p>\n",
    "\n",
    "- **Ejemplo:** Un sistema con 3 ecuaciones y 2 incógnitas."
   ]
  },
  {
   "cell_type": "markdown",
   "id": "9bf951e0",
   "metadata": {},
   "source": [
    "#### Criterios para Determinar la Existencia de Soluciones"
   ]
  },
  {
   "cell_type": "markdown",
   "id": "c0088f0f",
   "metadata": {},
   "source": [
    "- **Regla de Consistencia:** Un sistema es consistente si tiene al menos una solución. Si no tiene soluciones, se dice inconsistente.\n",
    "<p>&nbsp;</p>\n",
    "\n",
    "- **Regla de Rouché-Frobenius:** Un sistema de ecuaciones lineales es consistente si el rango de la matriz de coeficientes es igual al rango de la matriz ampliada. Si estos rangos son iguales al número de incógnitas, el sistema tiene una única solución; si son menores, el sistema tiene infinitas soluciones."
   ]
  },
  {
   "cell_type": "markdown",
   "id": "65fce623",
   "metadata": {},
   "source": [
    "#### Conclusiones\n"
   ]
  },
  {
   "cell_type": "markdown",
   "id": "3e15ad41",
   "metadata": {},
   "source": [
    "- **Única Solución:** Si un sistema es consistente y el número de ecuaciones es igual al número de incógnitas (y la matriz de coeficientes es no singular), entonces el sistema tiene una única solución.\n",
    "<p>&nbsp;</p>\n",
    "\n",
    "- **Sin Solución:** Si un sistema es inconsistente, es decir, si las ecuaciones se contradicen entre sí, no tiene solución.\n",
    "<p>&nbsp;</p>\n",
    "\n",
    "- **Soluciones Infinitas:** Si un sistema es consistente pero tiene menos ecuaciones que incógnitas, o si los rangos de las matrices de coeficientes y ampliada son menores que el número de incógnitas, entonces tiene un número infinito de soluciones.\n",
    "\n",
    "En la práctica, la solución de sistemas de ecuaciones se aborda a menudo mediante métodos numéricos, especialmente en casos donde el análisis algebraico directo no es factible debido a la complejidad o al tamaño del sistema."
   ]
  },
  {
   "cell_type": "markdown",
   "id": "d890154d",
   "metadata": {},
   "source": [
    "### Métodos de Solución"
   ]
  },
  {
   "cell_type": "markdown",
   "id": "8ddf6a89",
   "metadata": {},
   "source": [
    "#### Sustitución"
   ]
  },
  {
   "cell_type": "markdown",
   "id": "3d2745bd",
   "metadata": {},
   "source": [
    "Consiste en despejar una de las variables de una de las ecuaciones originales, para luego reemplazar dicha variable en las ecuaciones restantes A partir de esto se obtiene un nuevo sistema con una ecuación y una variable menos Esto se repite hasta obtener un sistema de una ecuación y una incógnita.\n",
    "\n",
    "***Ejemplo:***\n",
    "\n",
    "$$x+y=6$$\n",
    "$$-3x+y=2$$\n",
    "\n",
    "Para resolver el sistema de ecuaciones lineales por el método de sustitución, seguimos los siguientes pasos:\n",
    "\n",
    "1. **Resolución de la primera ecuación para una de las variables:**\n",
    "   - Tomamos la primera ecuación $x + y = 6$ y resolvemos para $y$.\n",
    "   - Obtenemos $y = 6 - x$.\n",
    "<p>&nbsp;</p>\n",
    "\n",
    "2. **Sustitución en la segunda ecuación:**\n",
    "   - Sustituimos $y$ en la segunda ecuación $-3x + y = 2$ con $6 - x$.\n",
    "   - La ecuación se convierte en $-3x + (6 - x) = 2$.\n",
    "<p>&nbsp;</p>\n",
    "\n",
    "3. **Resolución de la ecuación resultante para la otra variable:**\n",
    "   - Simplificamos y resolvemos la ecuación $-3x + 6 - x = 2$.\n",
    "   - Esto nos da $x = 1$.\n",
    "<p>&nbsp;</p>\n",
    "\n",
    "4. **Sustitución del valor encontrado en la primera ecuación:**\n",
    "   - Sustituimos $x = 1$ en la primera ecuación original $x + y = 6$.\n",
    "   - Obtenemos $y = 5$.\n",
    "\n",
    "Por lo tanto, la solución del sistema es $x = 1$ y $y = 5$."
   ]
  },
  {
   "cell_type": "markdown",
   "id": "c764f10d",
   "metadata": {},
   "source": [
    "#### Igualación"
   ]
  },
  {
   "cell_type": "markdown",
   "id": "f5f92c19",
   "metadata": {},
   "source": [
    "En este método se despeja la misma variable en todas las ecuaciones del sistema, para luego igualar entre si las nuevas\n",
    "ecuaciones, obteniendo un nuevo sistema con una ecuación y una incógnita menos que el sistema original Esto se repite hasta\n",
    "obtener un sistema de una ecuación y una incógnita.\n",
    "\n",
    "***Ejemplo:***\n",
    "\n",
    "Retomando el anterior sistema de ecuaciones lineales:\n",
    "\n",
    "$$x+y=6$$\n",
    "$$-3x+y=2$$\n",
    "\n",
    "Para resolver el sistema de ecuaciones lineales por el método de igualación, seguimos estos pasos:\n",
    "\n",
    "1. **Resolver Ambas Ecuaciones para la Misma Variable:**\n",
    "   - Resolvemos ambas ecuaciones para $y$.\n",
    "   - De la primera ecuación $x + y = 6$, obtenemos $y = 6 - x$.\n",
    "   - De la segunda ecuación $-3x + y = 2$, obtenemos $y = 3x + 2$.\n",
    "<p>&nbsp;</p>\n",
    "\n",
    "2. **Igualar las Expresiones Obtenidas para la Variable:**\n",
    "   - Igualamos las dos expresiones de $y$: $6 - x = 3x + 2$.\n",
    "<p>&nbsp;</p>\n",
    "\n",
    "3. **Resolver la Ecuación Resultante:**\n",
    "   - Simplificamos y resolvemos la ecuación $6 - x = 3x + 2$ para $x$.\n",
    "   - Obtenemos $x = 1$.\n",
    "<p>&nbsp;</p>\n",
    "\n",
    "4. **Sustituir el Valor de $x$ en una de las Ecuaciones Originales para Obtener $y$:**\n",
    "   - Sustituimos $x = 1$ en la primera ecuación original $x + y = 6$.\n",
    "   - Resolviendo para $y$, obtenemos $y = 5$.\n",
    "\n",
    "Por lo tanto, la solución del sistema es $x = 1$ y $y = 5$."
   ]
  },
  {
   "cell_type": "markdown",
   "id": "7399762e",
   "metadata": {},
   "source": [
    "#### Reducción"
   ]
  },
  {
   "cell_type": "markdown",
   "id": "ccf72a14",
   "metadata": {},
   "source": [
    "Este método se basa en realizar combinaciones lineales (multiplicando por un escalar) de las ecuaciones lineales, esto con el propósito de eliminar alguna variable inicial.\n",
    "\n",
    "***Ejemplo:***\n",
    "\n",
    "Retomando el anterior sistema de ecuaciones lineales:\n",
    "\n",
    "$$x+y=6$$\n",
    "$$-3x+y=2$$\n",
    "\n",
    "Para resolver el sistema de ecuaciones lineales por el método de reducción, seguimos estos pasos:\n",
    "\n",
    "1. **Modificar las Ecuaciones para Igualar los Coeficientes:**\n",
    "   - Multiplicamos la primera ecuación $x + y = 6$ por 3 para igualar los coeficientes de $x$.\n",
    "   - Obtenemos la ecuación modificada: $3x + 3y = 18$.\n",
    "<p>&nbsp;</p>\n",
    "\n",
    "2. **Sumar las Ecuaciones para Eliminar una Variable:**\n",
    "   - Sumamos la ecuación modificada $3x + 3y = 18$ y la segunda ecuación $-3x + y = 2$.\n",
    "   - Al sumarlas, $x$ se elimina, quedando $0x + 4y = 20$.\n",
    "<p>&nbsp;</p>\n",
    "\n",
    "3. **Resolver la Ecuación Resultante:**\n",
    "   - Simplificamos la ecuación resultante a $4y = 20$.\n",
    "   - Resolviendo para $y$, obtenemos $y = 5$.\n",
    "<p>&nbsp;</p>\n",
    "\n",
    "4. **Sustituir el Valor de $y$ en una de las Ecuaciones Originales:**\n",
    "   - Sustituimos $y = 5$ en la primera ecuación original $x + y = 6$.\n",
    "   - Resolviendo para $x$, obtenemos $x = 1$.\n",
    "\n",
    "La solución del sistema, por lo tanto, es $x = 1$ y $y = 5$."
   ]
  },
  {
   "cell_type": "markdown",
   "id": "8ac4b7d9",
   "metadata": {},
   "source": [
    "### Aplicaciones en Ingeniería Civil"
   ]
  },
  {
   "cell_type": "markdown",
   "id": "2f9fc918",
   "metadata": {},
   "source": [
    "En ingeniería civil, los sistemas de ecuaciones se utilizan para:\n",
    "\n",
    "- Modelar y resolver problemas estructurales, como el cálculo de fuerzas y tensiones en diferentes partes de una estructura.\n",
    "<p>&nbsp;</p>\n",
    "\n",
    "- Diseñar sistemas de transporte y tráfico.\n",
    "<p>&nbsp;</p>\n",
    "\n",
    "- Analizar flujos de agua y sistemas de drenaje.\n",
    "<p>&nbsp;</p>\n",
    "\n",
    "- Optimizar el uso de recursos y la planificación de proyectos.\n",
    "\n"
   ]
  },
  {
   "cell_type": "markdown",
   "id": "37e6ac34",
   "metadata": {},
   "source": [
    "### Conclusión"
   ]
  },
  {
   "cell_type": "markdown",
   "id": "de7199a7",
   "metadata": {},
   "source": [
    "La solución de sistemas de ecuaciones es una habilidad crucial para los ingenieros civiles, ya que proporciona una base para el análisis y diseño en una amplia gama de aplicaciones. A través de este tema, los estudiantes aprenderán los conceptos teóricos y prácticos necesarios para abordar estos desafíos con confianza y eficacia."
   ]
  },
  {
   "cell_type": "markdown",
   "id": "ebc12e88",
   "metadata": {},
   "source": [
    "## Ecuación Cuadrática"
   ]
  },
  {
   "cell_type": "markdown",
   "id": "34adbe76",
   "metadata": {},
   "source": [
    "### Definición de Ecuación Cuadrática"
   ]
  },
  {
   "cell_type": "markdown",
   "id": "700f110d",
   "metadata": {},
   "source": [
    "Una ecuación cuadrática es una ecuación polinómica de segundo grado. La forma general de una ecuación cuadrática es:\n",
    "\n",
    "$$ ax^2 + bx + c = 0 $$\n",
    "\n",
    "donde $x$ representa una variable o incógnita, y $a$, $b$, y $c$ son coeficientes numéricos con $a \\neq 0$."
   ]
  },
  {
   "cell_type": "markdown",
   "id": "8fb9fb3a",
   "metadata": {},
   "source": [
    "### Características de las Ecuaciones Cuadráticas"
   ]
  },
  {
   "cell_type": "markdown",
   "id": "a72e84b9",
   "metadata": {},
   "source": [
    "1. **Grado:** El grado de una ecuación cuadrática es $2$, lo cual indica el mayor exponente de $x$.\n",
    "<p>&nbsp;</p>\n",
    "\n",
    "2. **Coeficientes:** \n",
    "   - $a$ es el coeficiente de $x^2$ y no puede ser cero.\n",
    "   - $b$ es el coeficiente de $x$.\n",
    "   - $c$ es el término constante.\n",
    "<p>&nbsp;</p>\n",
    "\n",
    "3. **Gráfica:** La representación gráfica de una ecuación cuadrática es una parábola. La dirección (hacia arriba o hacia abajo) de la parábola depende del signo del coeficiente $a$."
   ]
  },
  {
   "cell_type": "markdown",
   "id": "bf47d916",
   "metadata": {},
   "source": [
    "### Solución de Ecuaciones Cuadráticas"
   ]
  },
  {
   "cell_type": "markdown",
   "id": "a3621bb6",
   "metadata": {},
   "source": [
    "Las ecuaciones cuadráticas pueden resolverse por varios métodos:\n",
    "\n",
    "1. **Factorización:** Descomponiendo la ecuación en dos binomios.\n",
    "<p>&nbsp;</p>\n",
    "\n",
    "2. **Fórmula Cuadrática:** Si $ax^2 + bx + c = 0$, entonces las soluciones para $x$ son:\n",
    "   \n",
    "   $$x = \\frac{-b \\pm \\sqrt{b^2 - 4ac}}{2a}$$\n",
    "\n",
    "   donde $\\sqrt{b^2 - 4ac}$ es conocido como el discriminante.\n",
    "<p>&nbsp;</p>\n",
    "\n",
    "3. **Completar el Cuadrado:** Un método que implica reorganizar la ecuación para formar un cuadrado perfecto.\n"
   ]
  },
  {
   "cell_type": "markdown",
   "id": "13a705c5",
   "metadata": {},
   "source": [
    "### El Discriminante"
   ]
  },
  {
   "cell_type": "markdown",
   "id": "8bd89dac",
   "metadata": {},
   "source": [
    "El discriminante $\\Delta = b^2 - 4ac$ proporciona información sobre la naturaleza de las soluciones de una ecuación cuadrática:\n",
    "\n",
    "- Si $\\Delta > 0$, hay dos soluciones reales y distintas.\n",
    "<p>&nbsp;</p>\n",
    "\n",
    "- Si $\\Delta = 0$, hay una única solución real (raíces repetidas).\n",
    "<p>&nbsp;</p>\n",
    "\n",
    "- Si $\\Delta < 0$, las soluciones son complejas y conjugadas.\n"
   ]
  },
  {
   "cell_type": "markdown",
   "id": "e62341b4",
   "metadata": {},
   "source": [
    "### Aplicaciones en Ingeniería Civil"
   ]
  },
  {
   "cell_type": "markdown",
   "id": "190dbae6",
   "metadata": {},
   "source": [
    "Las ecuaciones cuadráticas son fundamentales en varias áreas de la ingeniería civil, como:\n",
    "\n",
    "- **Análisis Estructural:** En el cálculo de cargas y momentos de fuerzas.\n",
    "<p>&nbsp;</p>\n",
    "\n",
    "- **Dinámica y Cinemática:** En la descripción de trayectorias parabólicas en proyectos como el lanzamiento de proyectiles o el diseño de ciertas estructuras arquitectónicas.\n",
    "<p>&nbsp;</p>\n",
    "\n",
    "- **Optimización de Recursos:** En la planificación y asignación de recursos en proyectos de construcción.\n"
   ]
  },
  {
   "cell_type": "markdown",
   "id": "9803cf0d",
   "metadata": {},
   "source": [
    "## Actividades para el estudiante"
   ]
  },
  {
   "cell_type": "markdown",
   "id": "9c2cfbca",
   "metadata": {},
   "source": [
    "### Lenguaje Algebraico"
   ]
  },
  {
   "cell_type": "markdown",
   "id": "1ce13525",
   "metadata": {},
   "source": [
    "1. Simplifica la expresión algebraica: $3x - 2(4x - 5)$.\n",
    "<p>&nbsp;</p>\n",
    "\n",
    "2. Expresa la frase \"*el triple de un número disminuido en siete*\" en lenguaje algebraico.\n",
    "<p>&nbsp;</p>\n",
    "\n",
    "3. Factoriza la expresión $x^2 - 4x + 4$.\n",
    "<p>&nbsp;</p>\n",
    "\n",
    "4. Halla el valor de $y$ en la expresión $y = 2x^2 - 3x + 5$ cuando $x = 3$.\n",
    "<p>&nbsp;</p>\n",
    "\n",
    "5. Si $a + b = 10$ y $a - b = 4$, encuentra los valores de $a$ y $b$."
   ]
  },
  {
   "cell_type": "markdown",
   "id": "b8b4ef5c",
   "metadata": {},
   "source": [
    "### Solución de Sistemas de Ecuaciones"
   ]
  },
  {
   "cell_type": "markdown",
   "id": "715faff1",
   "metadata": {},
   "source": [
    "1. Resuelva cada uno de los siguientes sistemas por por los métodos vistos en clase:\n",
    "\n",
    "- Sustitución\n",
    "- Reducción\n",
    "- Igualación\n",
    "\n",
    "a. \n",
    "\n",
    "\\begin{eqnarray} y = 2x+3 \\\\ x + y = 7 \\end{eqnarray}\n",
    "\n",
    "b. \n",
    "\\begin{eqnarray} 3x - y = 2 \\\\ 2x + 2y = 10 \\end{eqnarray}\n",
    "\n",
    "c.\n",
    "\\begin{eqnarray} y = x + 1 \\\\ 2y = 3x - 1 \\end{eqnarray}\n",
    "\n",
    "d.\n",
    "\\begin{eqnarray} x + y + 2z = 3 \\\\ 3x - y + z = 1 \\\\ 2x + 3y - 4z = 8 \\end{eqnarray}\n",
    "\n",
    "2. Determina si el siguiente sistema tiene solución, y en caso afirmativo, encuéntrela:\n",
    "\\begin{eqnarray} x + 2y = 4 \\\\ 2x + 4y = 8 \\end{eqnarray}\n",
    "Sustente su respuesta.\n",
    "<p>&nbsp;</p>\n",
    "\n",
    "3. Utiliza el método que consideres más adecuado para resolver el siguiente sistema de ecuaciones lineales:\n",
    "\\begin{eqnarray} 4x - 5y = -1 \\\\ -x + 3y = 12 \\end{eqnarray}\n",
    "\n",
    "Justifique su elección.\n",
    "\n",
    "\n"
   ]
  },
  {
   "cell_type": "markdown",
   "id": "8827b142",
   "metadata": {},
   "source": [
    "### Ecuaciones Cuadráticas"
   ]
  },
  {
   "cell_type": "markdown",
   "id": "fc6716db",
   "metadata": {},
   "source": [
    "1. Resuelve por factorización: $x^2 - 5x + 6 = 0$.\n",
    "<p>&nbsp;</p>\n",
    "\n",
    "2. Utiliza la fórmula cuadrática para resolver: $2x^2 - 3x - 2 = 0$.\n",
    "<p>&nbsp;</p>\n",
    "\n",
    "3. Completa el cuadrado para resolver la ecuación: $x^2 + 6x + 8 = 0$.\n",
    "<p>&nbsp;</p>\n",
    "\n",
    "4. Determina el número de soluciones reales de la ecuación: $x^2 - 4x + 4 = 0$.\n",
    "<p>&nbsp;</p>\n",
    "\n",
    "5. Encuentra las raíces de la ecuación cuadrática: $x^2 - x - 6 = 0$.\n",
    "\n",
    "Estos ejercicios están diseñados para reforzar los conceptos aprendidos en las áreas de lenguaje algebraico, solución de sistemas de ecuaciones y ecuaciones cuadráticas. Se recomienda a los estudiantes intentar resolverlos antes de buscar las respuestas o pedir ayuda, para así evaluar y fortalecer su comprensión de estos temas fundamentales en la ingeniería civil y matemáticas en general."
   ]
  },
  {
   "cell_type": "markdown",
   "id": "cc35e358",
   "metadata": {},
   "source": [
    "### Problemas Prácticos para Extraer Ecuaciones y Encontrar Soluciones"
   ]
  },
  {
   "cell_type": "markdown",
   "id": "86d8e220",
   "metadata": {},
   "source": [
    "#### Problemas de Lenguaje Algebraico"
   ]
  },
  {
   "cell_type": "markdown",
   "id": "952e3daf",
   "metadata": {},
   "source": [
    "1. **Presupuesto de Construcción:** Un proyecto de construcción tiene un presupuesto de $\\$50,000$. Si el costo de los materiales es de $\\$20,000$, ¿cuánto queda disponible para mano de obra y otros gastos?\n",
    "<p>&nbsp;</p>\n",
    "\n",
    "2. **Diseño de una Viga:** Una viga debe tener un largo total de $12$ metros. Si una sección de la viga mide $x$ metros y la otra sección mide el doble, ¿cuánto mide cada sección?\n",
    "<p>&nbsp;</p>\n",
    "\n",
    "3. **Distribución de Carga:** En un sistema de soporte, la carga $P$ se distribuye entre dos soportes, $A$ y $B$. Si la carga total es de $500$ kg y el soporte $A$ lleva $150$ kg más que el soporte $B$, ¿cuánto peso soporta cada uno?\n",
    "<p>&nbsp;</p>\n",
    "\n",
    "4. **Área de un Triángulo:** El área de un triángulo se calcula como $\\frac{1}{2} \\times base \\times altura$. Si la base del triángulo es de $8$ metros y su área es de $24$ metros cuadrados, ¿cuál es la altura del triángulo?\n",
    "<p>&nbsp;</p>\n",
    "\n",
    "5. **Costo de Materiales:** El costo de cierto material se calcula a $\\$15,000$ por metro cuadrado. Si un proyecto necesita $200$ metros cuadrados de este material, ¿cuál será el costo total?\n"
   ]
  },
  {
   "cell_type": "markdown",
   "id": "73759de7",
   "metadata": {},
   "source": [
    "#### Problemas de Sistemas de Ecuaciones"
   ]
  },
  {
   "cell_type": "markdown",
   "id": "7c5c5676",
   "metadata": {},
   "source": [
    "1. **Planificación Urbana:** Una ciudad planea dos nuevos parques. Si el área total combinada de los parques es de $150$ hectáreas y el primer parque es $30$ hectáreas más grande que el segundo, ¿cuál es el área de cada parque?\n",
    "<p>&nbsp;</p>\n",
    "\n",
    "2. **Diseño de Carreteras:** Un proyecto de carretera incluye dos segmentos que suman $100$ kilómetros. Si el primer segmento es $10$ kilómetros más largo que el segundo, ¿cuál es la longitud de cada segmento?\n",
    "<p>&nbsp;</p>\n",
    "\n",
    "3. **Distribución de Recursos Hídricos:** Dos tanques de agua tienen una capacidad total de $8000$ litros. Si el primer tanque tiene $2000$ litros más que el segundo, ¿cuál es la capacidad de cada tanque?\n",
    "<p>&nbsp;</p>\n",
    "\n",
    "4. **Análisis de Costos:** Una empresa tiene dos tipos de gastos: fijos y variables. Si los gastos totales son de $\\$10,000$ y los gastos fijos son el doble de los gastos variables, ¿cuánto es cada tipo de gasto?\n",
    "<p>&nbsp;</p>\n",
    "\n",
    "5. **Cálculo de Dimensiones:** Un rectángulo tiene un perímetro de $50$ metros y su longitud es el triple de su ancho. ¿Cuáles son las dimensiones del rectángulo?\n"
   ]
  },
  {
   "cell_type": "markdown",
   "id": "22f5347f",
   "metadata": {},
   "source": [
    "#### Problemas de Ecuaciones Cuadráticas"
   ]
  },
  {
   "cell_type": "markdown",
   "id": "06c8ef9b",
   "metadata": {},
   "source": [
    "1. **Proyecto de Lanzamiento:** Un objeto se lanza verticalmente hacia arriba con una ecuación de movimiento $h = -5t^2 + 40t$, donde $h$ es la altura en metros y $t$ el tiempo en segundos. ¿En qué momento el objeto alcanza su máxima altura?\n",
    "<p>&nbsp;</p>\n",
    "\n",
    "2. **Diseño de una Curva:** En un diseño de carretera, la trayectoria de una curva está definida por la ecuación $y = x^2 - 6x + 8$. ¿En qué punto(s) la curva intercepta el eje $x$?\n",
    "<p>&nbsp;</p>\n",
    "\n",
    "3. **Capacidad de un Contenedor:** Un contenedor tiene una forma cónica con una altura de $10$ metros. Si el volumen del contenedor se calcula como $V = \\frac{1}{3}\\pi r^2h$ y el volumen es de 1000 metros cúbicos, ¿cuál es el radio de la base del contenedor?\n",
    "<p>&nbsp;</p>\n",
    "\n",
    "4. **Optimización de Área:** Un agricultor tiene 100 metros de cerca para delimitar un corral rectangular contra un muro existente, usando el muro como uno de los lados del corral. ¿Cuáles son las dimensiones del corral que maximizan el área?\n",
    "<p>&nbsp;</p>\n",
    "\n",
    "5. **Punto de Quiebre en Costos:** Una empresa de construcción tiene un costo fijo de $\\$10,000$ y un costo variable de $\\$500$ por unidad producida. Si el precio de venta por unidad es de $\\$800$, ¿cuántas unidades debe producir y vender la empresa  para no tener pérdidas ni ganancias?"
   ]
  },
  {
   "cell_type": "code",
   "execution_count": null,
   "id": "6dab5c66-bd4d-4f40-a201-2c8243869780",
   "metadata": {},
   "outputs": [],
   "source": []
  }
 ],
 "metadata": {
  "kernelspec": {
   "display_name": "Python 3 (ipykernel)",
   "language": "python",
   "name": "python3"
  },
  "language_info": {
   "codemirror_mode": {
    "name": "ipython",
    "version": 3
   },
   "file_extension": ".py",
   "mimetype": "text/x-python",
   "name": "python",
   "nbconvert_exporter": "python",
   "pygments_lexer": "ipython3",
   "version": "3.12.4"
  },
  "toc": {
   "base_numbering": 1,
   "nav_menu": {},
   "number_sections": true,
   "sideBar": true,
   "skip_h1_title": true,
   "title_cell": "Table of Contents",
   "title_sidebar": "Contents",
   "toc_cell": false,
   "toc_position": {
    "height": "calc(100% - 180px)",
    "left": "10px",
    "top": "150px",
    "width": "256px"
   },
   "toc_section_display": true,
   "toc_window_display": false
  }
 },
 "nbformat": 4,
 "nbformat_minor": 5
}
