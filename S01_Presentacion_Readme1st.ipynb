{
 "cells": [
  {
   "cell_type": "markdown",
   "id": "5c927fb3",
   "metadata": {},
   "source": [
    "<h1 align=\"center\">Geometría Analítica y Vectorial</h1>\n",
    "<h1 align=\"center\">Presentación del curso</h1>\n",
    "<h1 align=\"center\">2024</h1>\n",
    "<h1 align=\"center\">MEDELLÍN - COLOMBIA </h1>"
   ]
  },
  {
   "cell_type": "markdown",
   "id": "2b971996",
   "metadata": {},
   "source": [
    "*** \n",
    "|[![Outlook](https://img.shields.io/badge/Microsoft_Outlook-0078D4?style=plastic&logo=microsoft-outlook&logoColor=white)](mailto:calvar52@eafit.edu.co)||[![Open In Colab](https://colab.research.google.com/assets/colab-badge.svg)](https://colab.research.google.com/github/carlosalvarezh/Geometria_Analitica_Vectorial/blob/main/S01_Presentacion_Readme1st.ipynb)\n",
    "|-:|:-|--:|\n",
    "|[![LinkedIn](https://img.shields.io/badge/linkedin-%230077B5.svg?style=plastic&logo=linkedin&logoColor=white)](https://www.linkedin.com/in/carlosalvarez5/)|[![@alvarezhenao](https://img.shields.io/twitter/url/https/twitter.com/alvarezhenao.svg?style=social&label=Follow%20%40alvarezhenao)](https://twitter.com/alvarezhenao)|[![@carlosalvarezh](https://img.shields.io/badge/github-%23121011.svg?style=plastic&logo=github&logoColor=white)](https://github.com/carlosalvarezh)|\n",
    "\n",
    "<table>\n",
    " <tr align=left><td><img align=left src=\"https://github.com/carlosalvarezh/Curso_CEC_EAFIT/blob/main/images/CCLogoColorPop1.gif?raw=true\" width=\"25\">\n",
    " <td>Text provided under a Creative Commons Attribution license, CC-BY. All code is made available under the FSF-approved MIT license.(c) Carlos Alberto Alvarez Henao</td>\n",
    "</table>\n",
    "\n",
    "***"
   ]
  },
  {
   "cell_type": "markdown",
   "id": "def56b6d",
   "metadata": {},
   "source": [
    "# Introducción más que necesaria"
   ]
  },
  {
   "cell_type": "markdown",
   "id": "e9810223",
   "metadata": {},
   "source": [
    "Este material que les presento es el fruto de un extenso recorrido por diversos documentos que he explorado y estudiado a lo largo de mi carrera profesional. Ahora, transformados en contenidos desde mi perspectiva como docente, estos apuntes representan más que simples lecciones: son una entidad viva y en constante evolución. Al igual que el conocimiento mismo, este material está sujeto a cambios y mejoras continuas a lo largo del curso. No es perfecto y puede contener errores, pero aquí es donde entra en juego su papel crucial. Los invito a ser co-creadores activos de este proceso de aprendizaje. Sus comentarios, observaciones y aportes son esenciales para enriquecer y perfeccionar estos contenidos. Juntos, podemos ajustar, modificar y mejorar tanto el contenido como el estilo de este material, asegurando que sea lo más preciso, relevante y útil posible para todos. Su participación no solo enriquecerá estos recursos, sino que también potenciará su propio proceso de aprendizaje, permitiéndoles involucrarse de manera más profunda y significativa en el tema del curso: *Geometría Analítica y Vectorial*.\n",
    "\n",
    "En la elaboración de estas notas de clase, se ha incluido material proveniente de diversos autores. Siempre he procurado ser meticuloso y respetar los derechos de autor, citando las fuentes bibliográficas correspondientes. No obstante, reconozco que pueden existir omisiones involuntarias en este aspecto. Por ello, ofrezco mis disculpas anticipadas a los autores originales por cualquier referencia que haya podido pasar inadvertida. Agradezco de antemano a quienes, al identificar alguna fuente primaria no citada, me informen al respecto. De esta manera, podré realizar las correcciones necesarias para asegurar el reconocimiento adecuado y mantener la integridad académica de este material.\n",
    "\n",
    "<p style=\"text-align:right;\">Carlos Alberto Alvarez Henao, Docente</p>"
   ]
  },
  {
   "cell_type": "markdown",
   "id": "50afde30",
   "metadata": {},
   "source": [
    "## Microcurrículo"
   ]
  },
  {
   "cell_type": "markdown",
   "id": "b347b5d9",
   "metadata": {},
   "source": [
    "### Identificación del curso"
   ]
  },
  {
   "cell_type": "markdown",
   "id": "71142fb5",
   "metadata": {},
   "source": [
    "- ***Nivel de formación del programa:*** Pregrado\n",
    "- ***Denominación del programa:*** Ingeniería Civil\n",
    "- ***Nombre de la Asignatura:*** Geometría Analítica y Vectorial\n",
    "- ***Unidad de Organización Curricular-UOC:*** Estructuras\n",
    "- ***Propósitos de formación de la UOC:*** Desarrollar las competencias, conocimientos y habilidades requeridas por el ingeniero civil para desarrollar obras de infraestructura seguras y económicas considerando los contextos sociales y económicos. \n",
    "- ***Tipo de crédito:*** Teórico práctico\n",
    "- ***Tipo de asignatura:*** Específica del programa\n",
    "- ***Componente del plan de estudios al que pertenece:*** Obligatorio\n",
    "- ***Nivel en el que se ubica en el plan de estudios:*** 2\n",
    "- ***Código de asignatura:*** MT00205450\n",
    "- ***Número de Créditos:*** 3\n",
    "- ***Horas totales (según el número de créditos):*** 144\n",
    "- ***Horas totales de interacción (sincrónico y asincrónico):*** 64\n",
    "- ***Horas totales de trabajo independiente:*** 88\n",
    "\n"
   ]
  },
  {
   "cell_type": "markdown",
   "id": "351f055c",
   "metadata": {},
   "source": [
    "### COMPETENCIAS GENÉRICAS "
   ]
  },
  {
   "cell_type": "markdown",
   "id": "47cba68a",
   "metadata": {},
   "source": [
    "- ***Lectura crítica:*** RAE-1-Competencia Genérica: Analizo un texto relacionándolo con un contexto para asumir una postura crítica ante su tesis principal.\n",
    "<p>&nbsp;</p>\n",
    "\n",
    "- ***Razonamiento cuantitativo:*** RAE-2-Competencia Genérica: Aplico estrategias para la solución de situaciones que contengan información que pueda ser gestionada de manera cuantitativa."
   ]
  },
  {
   "cell_type": "markdown",
   "id": "924152b2",
   "metadata": {},
   "source": [
    "### COMPETENCIAS ESPECÍFICAS"
   ]
  },
  {
   "cell_type": "markdown",
   "id": "f3192fa3",
   "metadata": {},
   "source": [
    "- ***RAE-2-Competencia Específica: Problemas propios:*** Aplico conceptos físicos y matemáticos a través de las ecuaciones inherentes a la geometría analítica, la geometría vectorial y las condiciones de equilibrio estático de una partícula, a partir de los fundamentos básicos de la geometría, la trigonometría y el equilibrio de partículas. Empleo los fundamentos de la trigonometría para hacer mediciones simples de agrimensura y acotar elementos de aplicación a la ingeniería civil. Formulo ecuaciones de la recta y plano tanto en 2D como en 3D como herramienta para resolver problemas aplicados a la ingeniería. Resuelvo sistemas de ecuaciones lineales cuadráticas aplicados a la solución de problemas reales de la ingeniería cotidiana, atendiendo necesidades regionales y locales.\n",
    "<p>&nbsp;</p>\n",
    "\n",
    "- ***RAE-5-Competencia Específica: Modelos:*** Determino los requisitos mínimos de equilibrios de un sistema estático para garantizar la estabilidad de un sistema estructural simple. Modelo las fuerzas externas en un diagrama de cuerpo libre de un sólido estructural para el diseño de obras civiles más seguras y económicas, con respeto por el medio ambiente y responsabilidad social. "
   ]
  },
  {
   "cell_type": "markdown",
   "id": "d4e753a4",
   "metadata": {},
   "source": [
    "### CONTENIDO PROGRAMÁTICO"
   ]
  },
  {
   "cell_type": "markdown",
   "id": "556af624",
   "metadata": {},
   "source": [
    "|**Semana** | **Fecha**         |**Contenido** |**Observación**|\n",
    "|:-----:|:-------------:|:-----------|:----------------------|\n",
    "|01|06-08/02/2024|Descripción del curso y Pacto pedagógico| |\n",
    "|02|13-15/02/2024|Solución de sistemas de ecuaciones por el método analítico||\n",
    "|03|20-22/02/2024|Trigonometría||\n",
    "|04|27-29/02/2024||1a evaluación (15%)|\n",
    "|05|05-07/03/2024|Introducción a la geometría plana||\n",
    "|06|12-14/03/2024|La línea recta|2a evaluación (20%)|\n",
    "|07|19-21/03/2024|Geometría Vectorial||\n",
    "|- |25-29/03/2024||Semana Santa|\n",
    "|08|02-04/04/2024|||\n",
    "|09|09-11/04/2024||3a evaluación (20%)|\n",
    "|10|16-18/04/2024|La recta en el espacio 3D||\n",
    "|11|23-25/04/2024|El plano en el espacio 3D||\n",
    "|12|30/04-02/05/2024|Introducción a la Mecánica y Estática de partículas en 2D||\n",
    "|13|07-09/05/2024|||\n",
    "|14|14-16/05/2024|||\n",
    "|15|21-23/05/2024|Estática de partículas en 3D||\n",
    "|16|28-30/05/2024||4a evaluación (20%)|\n",
    "||||Semana de Receso académico para preparación de finales|\n",
    "||||Semana de finales|\n",
    "||||Cierre académico - Reporte del 100%|"
   ]
  },
  {
   "cell_type": "markdown",
   "id": "fb49df36",
   "metadata": {},
   "source": [
    "### EVALUACIÓN"
   ]
  },
  {
   "cell_type": "markdown",
   "id": "05c194fc",
   "metadata": {},
   "source": [
    "|Actividad evaluativa|Semana|Porcentaje (%)|Competencia a evaluar|Carácter (Individual/Grupal)|\n",
    "|:-------------------|:----------:|:------------:|:--------------------|:--------------------------|\n",
    "|1a Evaluación    | 4 | 15 | | Individual|\n",
    "|2a Evaluación | 6 | 20 | | Individual|\n",
    "|3a Evaluación | 9 | 20 | | Individual|\n",
    "|4a Evaluación |16 | 20 | | Grupal   |\n",
    "|Evento evaluativo final| 17-18 | 25 |Evaluación final             | Individual|"
   ]
  },
  {
   "cell_type": "markdown",
   "id": "f3dec64a",
   "metadata": {},
   "source": [
    "### RECURSOS BIBLIOGRÁFICOS Y BASES DE DATOS"
   ]
  },
  {
   "cell_type": "markdown",
   "id": "7397d7fb",
   "metadata": {},
   "source": [
    "***General:***\n",
    "- Precálculo: Matemáticas para el Cálculo. James Stewart, Lothar Redlin, Saleem Watson. Sexta Edición. Cengaje Leaning Editorial, 2012Matemáticas operativas. Luis H. Diez 14ª ed. 1998.\n",
    "- Álgebra, trigonometría y geometría analítica. ZILL & Dewar. Editorial McGraw-Hill. 3ª ed. 2012.\n",
    "- Geometría Analítica. LEHMAN. Editorial LIMUSA.\n",
    "- Geometría Analítica e introducción al Cálculo Vectorial. PÉREZ & PANIAGUA. Fondo Editorial ITM. 21ª ed. 2016.\n",
    "- Geometría Plana y del Espacio y Trigonometría, BALDOR. Grupo Patria Cultural.\n",
    "- Geometría Analítica.  OTEYZA, ELENA; OSNAYA, EMMA; GÓMEZ, JOSÉ, RAMÍREZ , ARTURO:  \n",
    "- Mecánica Vectorial para Ingenieros: Estática. BEER; JOHNSTON; MAZUREK; CORNWELL & SELF. Editorial McGraw-Hill. 12ª ed. 2019.\n",
    "- Mecánica Vectorial para Ingenieros. Estática. HIBBELER. Editorial Prentice Hall – Pearson. 14ª ed. 2016.\n",
    "- Ingeniería Mecánica: Estática. Pytel & Kiusaalas. Cengage Learning. 3ª ed. 2010.\n",
    "\n",
    "***Bibliografía en Ingles:***\n",
    "- Margaret L. Lial; John Hornsby, David I.; Schneider, Callie Daniels, Trigonometry\n",
    "- Earl W. Swokowski; Jeffery A. Cole, Algebra and Trigonometry with Analytic Geometry\n",
    "- Jay Abramson, Precalculus\n",
    "- Young H. Kim, A Basic Approach to Precalculus Trigonometry\n",
    "- G. Viglino; M. Berger, Precalculus with early trigonometry 3rd edition\n",
    "- Swokowski Cole, Algebra and Trigonometry with Analytic Geometry, Class Edition, 12th Edition\n",
    "\n",
    "\n",
    "\n",
    "\n"
   ]
  },
  {
   "cell_type": "code",
   "execution_count": null,
   "id": "226f3d52",
   "metadata": {},
   "outputs": [],
   "source": []
  }
 ],
 "metadata": {
  "kernelspec": {
   "display_name": "Python 3 (ipykernel)",
   "language": "python",
   "name": "python3"
  },
  "language_info": {
   "codemirror_mode": {
    "name": "ipython",
    "version": 3
   },
   "file_extension": ".py",
   "mimetype": "text/x-python",
   "name": "python",
   "nbconvert_exporter": "python",
   "pygments_lexer": "ipython3",
   "version": "3.11.3"
  },
  "toc": {
   "base_numbering": 1,
   "nav_menu": {},
   "number_sections": true,
   "sideBar": true,
   "skip_h1_title": true,
   "title_cell": "Table of Contents",
   "title_sidebar": "Contents",
   "toc_cell": false,
   "toc_position": {
    "height": "calc(100% - 180px)",
    "left": "10px",
    "top": "150px",
    "width": "256px"
   },
   "toc_section_display": true,
   "toc_window_display": false
  }
 },
 "nbformat": 4,
 "nbformat_minor": 5
}
