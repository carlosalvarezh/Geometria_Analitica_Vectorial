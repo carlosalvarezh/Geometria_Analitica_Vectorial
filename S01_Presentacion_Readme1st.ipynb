{
 "cells": [
  {
   "cell_type": "markdown",
   "id": "5c927fb3",
   "metadata": {},
   "source": [
    "<h1 align=\"center\">Geometría Analítica y Vectorial</h1>\n",
    "<h1 align=\"center\">Presentación del curso</h1>\n",
    "<h1 align=\"center\">2024</h1>\n",
    "<h1 align=\"center\">MEDELLÍN - COLOMBIA </h1>"
   ]
  },
  {
   "cell_type": "markdown",
   "id": "2b971996",
   "metadata": {},
   "source": [
    "*** \n",
    "|[![Outlook](https://img.shields.io/badge/Microsoft_Outlook-0078D4?style=plastic&logo=microsoft-outlook&logoColor=white)](mailto:calvarezh@udemedellin.edu.co)||[![Open In Colab](https://colab.research.google.com/assets/colab-badge.svg)](https://colab.research.google.com/github/carlosalvarezh/Geometria_Analitica_Vectorial/blob/main/S01_Presentacion_Readme1st.ipynb)\n",
    "|-:|:-|--:|\n",
    "|[![LinkedIn](https://img.shields.io/badge/linkedin-%230077B5.svg?style=plastic&logo=linkedin&logoColor=white)](https://www.linkedin.com/in/carlosalvarez5/)|[![@alvarezhenao](https://img.shields.io/twitter/url/https/twitter.com/alvarezhenao.svg?style=social&label=Follow%20%40alvarezhenao)](https://twitter.com/alvarezhenao)|[![@carlosalvarezh](https://img.shields.io/badge/github-%23121011.svg?style=plastic&logo=github&logoColor=white)](https://github.com/carlosalvarezh)|\n",
    "\n",
    "<table>\n",
    " <tr align=left><td><img align=left src=\"https://github.com/carlosalvarezh/Curso_CEC_EAFIT/blob/main/images/CCLogoColorPop1.gif?raw=true\" width=\"25\">\n",
    " <td>Text provided under a Creative Commons Attribution license, CC-BY. All code is made available under the FSF-approved MIT license.(c) Carlos Alberto Alvarez Henao</td>\n",
    "</table>\n",
    "\n",
    "***"
   ]
  },
  {
   "cell_type": "markdown",
   "id": "def56b6d",
   "metadata": {},
   "source": [
    "# Introducción más que necesaria"
   ]
  },
  {
   "cell_type": "markdown",
   "id": "e9810223",
   "metadata": {},
   "source": [
    "Este material que les presento es el fruto de un extenso recorrido por diversos documentos que he explorado y estudiado a lo largo de mi carrera profesional. Ahora, transformados en contenidos desde mi perspectiva como docente, estos apuntes representan más que simples lecciones: son una entidad viva y en constante evolución. Al igual que el conocimiento mismo, este material está sujeto a cambios y mejoras continuas a lo largo del curso. No es perfecto y puede contener errores, pero aquí es donde entra en juego su papel crucial. Los invito a ser co-creadores activos de este proceso de aprendizaje. Sus comentarios, observaciones y aportes son esenciales para enriquecer y perfeccionar estos contenidos. Juntos, podemos ajustar, modificar y mejorar tanto el contenido como el estilo de este material, asegurando que sea lo más preciso, relevante y útil posible para todos. Su participación no solo enriquecerá estos recursos, sino que también potenciará su propio proceso de aprendizaje, permitiéndoles involucrarse de manera más profunda y significativa en el tema del curso: *Geometría Analítica y Vectorial*.\n",
    "\n",
    "En la elaboración de estas notas de clase, se ha incluido material proveniente de diversos autores. Siempre he procurado ser meticuloso y respetar los derechos de autor, citando las fuentes bibliográficas correspondientes. No obstante, reconozco que pueden existir omisiones involuntarias en este aspecto. Por ello, ofrezco mis disculpas anticipadas a los autores originales por cualquier referencia que haya podido pasar inadvertida. Agradezco de antemano a quienes, al identificar alguna fuente primaria no citada, me informen al respecto. De esta manera, podré realizar las correcciones necesarias para asegurar el reconocimiento adecuado y mantener la integridad académica de este material.\n",
    "\n",
    "<p style=\"text-align:right;\">Carlos Alberto Alvarez Henao, Docente</p>"
   ]
  },
  {
   "cell_type": "markdown",
   "id": "a22fbf3d",
   "metadata": {},
   "source": [
    "## Microcurrículo"
   ]
  },
  {
   "cell_type": "markdown",
   "id": "6403f524",
   "metadata": {},
   "source": [
    "### Identificación del curso"
   ]
  },
  {
   "cell_type": "markdown",
   "id": "05cb9f49",
   "metadata": {},
   "source": [
    "- ***Nivel de formación del programa:*** Pregrado\n",
    "- ***Denominación del programa:*** Ingeniería Civil\n",
    "- ***Nombre de la Asignatura:*** Geometría Analítica y Vectorial\n",
    "- ***Unidad de Organización Curricular-UOC:*** Estructuras\n",
    "- ***Propósitos de formación de la UOC:*** Desarrollar las competencias, conocimientos y habilidades requeridas por el ingeniero civil para desarrollar obras de infraestructura seguras y económicas considerando los contextos sociales y económicos. \n",
    "- ***Tipo de crédito:*** Teórico práctico\n",
    "- ***Tipo de asignatura:*** Específica del programa\n",
    "- ***Componente del plan de estudios al que pertenece:*** Obligatorio\n",
    "- ***Nivel en el que se ubica en el plan de estudios:*** 2\n",
    "- ***Código de asignatura:*** MT00205450\n",
    "- ***Número de Créditos:*** 3\n",
    "- ***Horas totales (según el número de créditos):*** 144\n",
    "- ***Horas totales de interacción (sincrónico y asincrónico):*** 64\n",
    "- ***Horas totales de trabajo independiente:*** 88\n",
    "\n"
   ]
  },
  {
   "cell_type": "markdown",
   "id": "269bea2f",
   "metadata": {},
   "source": [
    "### COMPETENCIAS GENÉRICAS "
   ]
  },
  {
   "cell_type": "markdown",
   "id": "ea57f1f5",
   "metadata": {},
   "source": [
    "- ***Lectura crítica:*** RAE-1-Competencia Genérica: Analizo un texto relacionándolo con un contexto para asumir una postura crítica ante su tesis principal.\n",
    "<p>&nbsp;</p>\n",
    "\n",
    "- ***Razonamiento cuantitativo:*** RAE-2-Competencia Genérica: Aplico estrategias para la solución de situaciones que contengan información que pueda ser gestionada de manera cuantitativa."
   ]
  },
  {
   "cell_type": "markdown",
   "id": "b7edd5cb",
   "metadata": {},
   "source": [
    "### COMPETENCIAS ESPECÍFICAS"
   ]
  },
  {
   "cell_type": "markdown",
   "id": "c19b9dc4",
   "metadata": {},
   "source": [
    "- ***RAE-2-Competencia Específica: Problemas propios:*** Aplico conceptos físicos y matemáticos a través de las ecuaciones inherentes a la geometría analítica, la geometría vectorial y las condiciones de equilibrio estático de una partícula, a partir de los fundamentos básicos de la geometría, la trigonometría y el equilibrio de partículas. Empleo los fundamentos de la trigonometría para hacer mediciones simples de agrimensura y acotar elementos de aplicación a la ingeniería civil. Formulo ecuaciones de la recta y plano tanto en 2D como en 3D como herramienta para resolver problemas aplicados a la ingeniería. Resuelvo sistemas de ecuaciones lineales cuadráticas aplicados a la solución de problemas reales de la ingeniería cotidiana, atendiendo necesidades regionales y locales.\n",
    "<p>&nbsp;</p>\n",
    "\n",
    "- ***RAE-5-Competencia Específica: Modelos:*** Determino los requisitos mínimos de equilibrios de un sistema estático para garantizar la estabilidad de un sistema estructural simple. Modelo las fuerzas externas en un diagrama de cuerpo libre de un sólido estructural para el diseño de obras civiles más seguras y económicas, con respeto por el medio ambiente y responsabilidad social. "
   ]
  },
  {
   "cell_type": "markdown",
   "id": "d0e5178f",
   "metadata": {},
   "source": [
    "### CONTENIDO PROGRAMÁTICO"
   ]
  },
  {
   "cell_type": "markdown",
   "id": "f00b7036",
   "metadata": {},
   "source": [
    "|**Semana** | **Fecha**         |**Contenido** |**Observación**|\n",
    "|:-----:|:-------------:|:-----------|:----------------------|\n",
    "|01|06/02|Presentación del curso. Aplicaciones a la Ingeniería Civil| |\n",
    "|01|08/02|***Sistemas de ecuaciones I:*** lineales y cuadráticas| |\n",
    "|02|13/02|***Sistemas de ecuaciones II:*** lineales y cuadráticas||\n",
    "|02|15/02|***Trigonometría I:*** Funciones trigonométricas. Ley de seno y coseno. Identidades trigonométricas. Solución de triángulos||\n",
    "|03|20/02|***Trigonometría II:*** Problemas de aplicación ||\n",
    "|03|22/02|***Trigonometría III:*** Problemas de aplicación||\n",
    "|04|27/02|***Introducción a la geometría Analítica Plana:*** Sistema coordenado.\tDistancia entre dos puntos (segmento de recta).\tRazón de división de un segmento.  Angulo de inclinación y pendiente de una recta.\tPosición relativa entre rectas. Ángulo entre dos rectas. Definición de vector para aplicaciones en el plano||\n",
    "|04|29/02||***Quiz 1 (15%)*** Sistemas de ecuaciones y Trigonometría |\n",
    "|05|05/03|***Introducción a la geometría plana:*** Ejercicios||\n",
    "|05|07/03|***La línea la recta:*** Ecuación de la recta. Formas de la ecuación de la recta.\tDistancia punto – recta. Familia de rectas||\n",
    "|06|12/03|***La línea recta:*** Problemas de aplicación||\n",
    "|06|14/03|***La línea recta*** Problemas de aplicación - familia de rectas||\n",
    "|07|19/03|***Introducción a la Geometría Vectorial 3D:*** El espacio cartesiano 3D y ubicación de puntos en el espacio: Distancia ente dos puntos 3D. Cosenos directores. Razón de división de un segmento. Definición vector. Componentes rectangulares de un vector en el espacio||\n",
    "|07|21/03||***Quiz 2(20%)*** Introducción geometría 2D y Recta 2D|\n",
    "|- |25-29/03||Semana Santa|\n",
    "|08|02/04|***Introducción a la Geometría Vectorial 3D:*** Ejercicios||\n",
    "|08|04/04|***Geometría Vectorial:*** Operaciones entre vectores. Normalización (Vector unitario). Producto por escalar. Producto escalar o producto interior. Producto vectorial. Triple producto escalar o triple producto mixto||\n",
    "|09|09/04|***Geometría Vectorial:*** Suma de vectores por el método gráfico (triángulo y paralelogramo).\tEjercicios||\n",
    "|09|11/04||***Quiz 3 (10%)*** Introducción a la Geometría Vectorial 3D|\n",
    "|10|16/04|***Geometría Vectorial:*** Suma de vectores en el espacio 2D y 3D por descomposición. Ejercicios||\n",
    "|10|18/04|***La recta en el espacio 3D*** Vector director. Forma paramétrica y simétrica.\tPosición relativa de rectas. Intersección de rectas. Angulo entre dos rectas||\n",
    "|11|23/04|***La recta en el espacio 3D*** Ejercicios||\n",
    "|11|25/04||***Quiz 4 (15%)*** Geometría Vectorial 3D: Operaciones entre vectores|\n",
    "|12|30/04|***El plano en el espacio 3D:***\tEcuación general del plano.\tPosición relativa entre planos.\tAngulo entre dos planos. Distancia punto- plano. Trazas de un plano. Posición relativa recta – plano. Familia de planos. Punto de radiación. Ecuación general de la recta. Planos proyectantes de una recta||\n",
    "|12|02/05|***El plano en el espacio 3D:*** Ejercicios||\n",
    "|13|07/05|***El plano en el espacio 3D:*** Ejercicios familia||\n",
    "|13|09/05|***Introducción a la Mecánica vectorial:*** Conceptos y principios fundamentales. Tipos de fuerzas. Unidades||\n",
    "|||***Estática de partículas (2D):*** Cables. Ley de Hooke (aplicación resortes). Poleas ||\n",
    "|14|14/05||***Quiz 5 (15%)*** Línea recta y plano en 3D|\n",
    "|14|16/05|***Estática de partículas (2D)*** Taller ejercicios de aplicación||\n",
    "|15|21/05|***Estática de partículas (2D)*** Aplicaciones con equilibrio en varios puntos. Máximos y mínimos||\n",
    "|15|23/05|***Estática de partículas (3D)***||\n",
    "|16|28/05|***Estática de partículas (3D)***||\n",
    "|16|30/05|***Estática de partículas (3D)***||\n",
    "||||Semana de Receso académico para preparación de finales|\n",
    "|17|04-14/06||***Examen final (25%)***|\n"
   ]
  },
  {
   "cell_type": "markdown",
   "id": "0278b146",
   "metadata": {},
   "source": [
    "### EVALUACIÓN"
   ]
  },
  {
   "cell_type": "markdown",
   "id": "684e1902",
   "metadata": {},
   "source": [
    "|Actividad evaluativa|Semana|Porcentaje (%)|Competencia a evaluar|Carácter (Individual/Grupal)|\n",
    "|:-------------------|:----------:|:------------:|:--------------------|:--------------------------|\n",
    "|1a Evaluación    | 4 | 15 | | Individual|\n",
    "|2a Evaluación | 6 | 20 | | Individual|\n",
    "|3a Evaluación | 9 | 20 | | Individual|\n",
    "|4a Evaluación |16 | 20 | | Grupal   |\n",
    "|Evento evaluativo final| 17-18 | 25 |Evaluación final             | Individual|"
   ]
  },
  {
   "cell_type": "markdown",
   "id": "86a73438",
   "metadata": {},
   "source": [
    "### RECURSOS BIBLIOGRÁFICOS Y BASES DE DATOS"
   ]
  },
  {
   "cell_type": "markdown",
   "id": "233f4535",
   "metadata": {},
   "source": [
    "***General:***\n",
    "- ***Precálculo: Matemáticas para el Cálculo. James Stewart, Lothar Redlin, Saleem Watson. Sexta Edición. Cengaje Leaning Editorial, 2012Matemáticas operativas. Luis H. Diez 14ª ed. 1998.***\n",
    "- Álgebra, trigonometría y geometría analítica. ZILL & Dewar. Editorial McGraw-Hill. 3ª ed. 2012.\n",
    "- ***Geometría Analítica. LEHMAN. Editorial LIMUSA.***\n",
    "- Geometría Analítica e introducción al Cálculo Vectorial. PÉREZ & PANIAGUA. Fondo Editorial ITM. 21ª ed. 2016.\n",
    "- Geometría Plana y del Espacio y Trigonometría, BALDOR. Grupo Patria Cultural.\n",
    "- Geometría Analítica.  OTEYZA, ELENA; OSNAYA, EMMA; GÓMEZ, JOSÉ, RAMÍREZ , ARTURO:  \n",
    "- ***Mecánica Vectorial para Ingenieros: Estática. BEER; JOHNSTON; MAZUREK; CORNWELL & SELF. Editorial McGraw-Hill. 12ª ed. 2019.***\n",
    "- Mecánica Vectorial para Ingenieros. Estática. HIBBELER. Editorial Prentice Hall – Pearson. 14ª ed. 2016.\n",
    "- Ingeniería Mecánica: Estática. Pytel & Kiusaalas. Cengage Learning. 3ª ed. 2010.\n",
    "\n",
    "***Bibliografía en Ingles:***\n",
    "- Margaret L. Lial; John Hornsby, David I.; Schneider, Callie Daniels, Trigonometry\n",
    "- Earl W. Swokowski; Jeffery A. Cole, Algebra and Trigonometry with Analytic Geometry\n",
    "- Jay Abramson, Precalculus\n",
    "- Young H. Kim, A Basic Approach to Precalculus Trigonometry\n",
    "- G. Viglino; M. Berger, Precalculus with early trigonometry 3rd edition\n",
    "- Swokowski Cole, Algebra and Trigonometry with Analytic Geometry, Class Edition, 12th Edition\n",
    "\n",
    "\n",
    "\n",
    "\n"
   ]
  },
  {
   "cell_type": "markdown",
   "id": "e06756b6",
   "metadata": {},
   "source": [
    "# Aplicaciones a la Ingeniería Civil"
   ]
  },
  {
   "cell_type": "markdown",
   "id": "350a4554",
   "metadata": {},
   "source": [
    "<p float=\"center\">\n",
    "  <img src=\"https://github.com/carlosalvarezh/Geometria_Analitica_Vectorial/blob/main/Images/CivilEng.PNG?raw=true\" width=\"750\" />\n",
    "</p>\n",
    "\n",
    "<p style=\"text-align: center;\">\n",
    "    <strong>Tomado de:</strong> Fuentes varias de internet. Todas las imagenes tienen libre reproducción.\n",
    "</p>"
   ]
  },
  {
   "cell_type": "markdown",
   "id": "76c7e832",
   "metadata": {},
   "source": [
    "En el contexto de la [Ingeniería Civil](https://en.wikipedia.org/wiki/Civil_engineering), la *[Geometría Analítica y Vectorial](https://en.wikipedia.org/wiki/Analytic_geometry)* encuentra aplicaciones en numerosos y variados aspectos de la profesión. La comprensión y habilidad para aplicar estos conceptos es esencial para los ingenieros civiles en su vida profesional. A continuación, se detallan algunas de las aplicaciones más relevantes:"
   ]
  },
  {
   "cell_type": "markdown",
   "id": "d1ef40e7",
   "metadata": {},
   "source": [
    "***Diseño Estructural y Arquitectónico:***"
   ]
  },
  {
   "cell_type": "markdown",
   "id": "cb313730",
   "metadata": {},
   "source": [
    "<p float=\"center\">\n",
    "  <img src=\"https://github.com/carlosalvarezh/Geometria_Analitica_Vectorial/blob/main/Images/Loads.PNG?raw=true\" width=\"500\" />\n",
    "</p>\n",
    "\n",
    "<p style=\"text-align: center;\">\n",
    "    <strong>Tomado de:</strong> Fuentes varias de internet. Todas las imagenes tienen libre reproducción.\n",
    "</p>\n",
    "\n",
    "- La *geometría analítica* es clave en el diseño de estructuras y elementos arquitectónicos, permitiendo calcular dimensiones precisas y ángulos críticos. Esto incluye el diseño de elementos estructurales como vigas, columnas y losas, así como aspectos estéticos y funcionales de edificaciones y otras estructuras."
   ]
  },
  {
   "cell_type": "markdown",
   "id": "219636a4",
   "metadata": {},
   "source": [
    "***Ingeniería de Transporte:***"
   ]
  },
  {
   "cell_type": "markdown",
   "id": "ede8f860",
   "metadata": {},
   "source": [
    "<p float=\"center\">\n",
    "  <img src=\"https://github.com/carlosalvarezh/Geometria_Analitica_Vectorial/blob/main/Images/Peralte.jpg?raw=true\" width=\"500\" />\n",
    "</p>\n",
    "\n",
    "<p style=\"text-align: center;\">\n",
    "    <strong>Tomado de:</strong> Fuentes varias de internet. Todas las imagenes tienen libre reproducción.\n",
    "</p>\n",
    "\n",
    "- La geometría vectorial juega un papel crucial en el diseño de infraestructuras de transporte como carreteras, puentes y túneles. El análisis de curvas, pendientes y niveles es fundamental para garantizar la seguridad y eficiencia de estas estructuras."
   ]
  },
  {
   "cell_type": "markdown",
   "id": "1c22ec47",
   "metadata": {},
   "source": [
    "***Análisis Hidráulico y Gestión de Recursos Hídricos:***"
   ]
  },
  {
   "cell_type": "markdown",
   "id": "7bc93122",
   "metadata": {},
   "source": [
    "<p float=\"center\">\n",
    "  <img src=\"https://github.com/carlosalvarezh/Geometria_Analitica_Vectorial/blob/main/Images/Hydraulic.jpg?raw=true\" width=\"500\" />\n",
    "</p>\n",
    "\n",
    "<p style=\"text-align: center;\">\n",
    "    <strong>Tomado de:</strong> Fuentes varias de internet. Todas las imagenes tienen libre reproducción.\n",
    "</p>\n",
    "\n",
    "- La modelización y análisis de sistemas hidráulicos, como presas, canales y sistemas de riego, requieren un entendimiento profundo de la geometría y el cálculo vectorial para optimizar el flujo de agua y garantizar la seguridad estructural."
   ]
  },
  {
   "cell_type": "markdown",
   "id": "ad238897",
   "metadata": {},
   "source": [
    "***Ingeniería Geotécnica y Topografía:***"
   ]
  },
  {
   "cell_type": "markdown",
   "id": "fda64663",
   "metadata": {},
   "source": [
    "<p float=\"center\">\n",
    "  <img src=\"https://github.com/carlosalvarezh/Geometria_Analitica_Vectorial/blob/main/Images/Geotechnical.webp?raw=true\" width=\"500\" />\n",
    "</p>\n",
    "\n",
    "<p style=\"text-align: center;\">\n",
    "    <strong>Tomado de:</strong> Fuentes varias de internet. Todas las imagenes tienen libre reproducción.\n",
    "</p>\n",
    "\n",
    "- En la ingeniería geotécnica, la geometría analítica ayuda en el análisis del terreno y en la planificación de cimentaciones, excavaciones y obras subterráneas. La topografía, por su parte, utiliza estos conceptos para la medición y representación del terreno, esencial en la planificación de cualquier proyecto de construcción."
   ]
  },
  {
   "cell_type": "markdown",
   "id": "bcba1440",
   "metadata": {},
   "source": [
    "***Análisis y Diseño Sísmico:***"
   ]
  },
  {
   "cell_type": "markdown",
   "id": "7f2d992a",
   "metadata": {},
   "source": [
    "|Amenaza Sísmica en Colombia|Cargas Sísmicas|\n",
    "|:----------------------------:|:-------------:|\n",
    "|<p float=\"center\"><img src=\"https://github.com/carlosalvarezh/Geometria_Analitica_Vectorial/blob/main/Images/SeismicColombianMap.gif?raw=true\" width=\"300\" /></p>|<p float=\"center\"><img src=\"https://github.com/carlosalvarezh/Geometria_Analitica_Vectorial/blob/main/Images/Seismic.png?raw=true\" width=\"500\" /></p>|\n",
    "\n",
    "<p style=\"text-align: center;\">\n",
    "    <strong>Tomado de:</strong> Fuentes varias de internet. Todas las imagenes tienen libre reproducción.\n",
    "</p>\n",
    "\n",
    "- En zonas propensas a terremotos, el análisis sísmico es vital. La geometría y el cálculo vectorial permiten entender y simular cómo las fuerzas sísmicas afectan a las estructuras, lo que es crucial para diseñar edificaciones que puedan resistir tales eventos."
   ]
  },
  {
   "cell_type": "markdown",
   "id": "3537808f",
   "metadata": {},
   "source": [
    "***Otros:***\n",
    "\n",
    "- **Innovación y Tecnología en Construcción:*** Con la integración de nuevas tecnologías como la impresión 3D en la construcción, la geometría analítica y vectorial se vuelve esencial para modelar y diseñar componentes estructurales complejos.\n",
    "\n",
    "- ***Sostenibilidad y Medio Ambiente:*** La geometría analítica y vectorial también contribuye al diseño ambientalmente sostenible, optimizando el uso de recursos y minimizando el impacto ambiental de los proyectos.\n",
    "\n",
    "La Geometría Analítica y Vectorial es una herramienta multifacética en la Ingeniería Civil, crucial para enfrentar los desafíos de diseño, planificación y ejecución de proyectos de infraestructura de manera segura, eficiente y sostenible. Este curso proporcionará a los estudiantes las bases teóricas y prácticas necesarias para aplicar estos conceptos en una amplia gama de situaciones profesionales."
   ]
  }
 ],
 "metadata": {
  "kernelspec": {
   "display_name": "Python 3 (ipykernel)",
   "language": "python",
   "name": "python3"
  },
  "language_info": {
   "codemirror_mode": {
    "name": "ipython",
    "version": 3
   },
   "file_extension": ".py",
   "mimetype": "text/x-python",
   "name": "python",
   "nbconvert_exporter": "python",
   "pygments_lexer": "ipython3",
   "version": "3.11.3"
  },
  "toc": {
   "base_numbering": 1,
   "nav_menu": {},
   "number_sections": true,
   "sideBar": true,
   "skip_h1_title": true,
   "title_cell": "Table of Contents",
   "title_sidebar": "Contents",
   "toc_cell": false,
   "toc_position": {
    "height": "calc(100% - 180px)",
    "left": "10px",
    "top": "150px",
    "width": "256px"
   },
   "toc_section_display": true,
   "toc_window_display": false
  }
 },
 "nbformat": 4,
 "nbformat_minor": 5
}
