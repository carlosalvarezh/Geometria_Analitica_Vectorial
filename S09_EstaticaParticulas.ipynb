{
 "cells": [
  {
   "cell_type": "markdown",
   "id": "79e70a7c-bd34-4afb-8335-8cea8ddfeee3",
   "metadata": {},
   "source": [
    "<h1 align=\"center\">Geometría Analítica y Vectorial</h1>\n",
    "<h1 align=\"center\">Estática de Partículas</h1>\n",
    "<h1 align=\"center\">2024</h1>\n",
    "<h1 align=\"center\">MEDELLÍN - COLOMBIA </h1>"
   ]
  },
  {
   "cell_type": "markdown",
   "id": "27184795-c234-4ce0-a635-e4ec61d61457",
   "metadata": {},
   "source": [
    "*** \n",
    "|[![Outlook](https://img.shields.io/badge/Microsoft_Outlook-0078D4?style=plastic&logo=microsoft-outlook&logoColor=white)](mailto:calvarezh@udemedellin.edu.co)||[![Open In Colab](https://colab.research.google.com/assets/colab-badge.svg)](https://colab.research.google.com/github/carlosalvarezh/Geometria_Analitica_Vectorial/blob/main/S09_EstaticaParticulas.ipynb)\n",
    "|-:|:-|--:|\n",
    "|[![LinkedIn](https://img.shields.io/badge/linkedin-%230077B5.svg?style=plastic&logo=linkedin&logoColor=white)](https://www.linkedin.com/in/carlosalvarez5/)|[![@alvarezhenao](https://img.shields.io/twitter/url/https/twitter.com/alvarezhenao.svg?style=social&label=Follow%20%40alvarezhenao)](https://twitter.com/alvarezhenao)|[![@carlosalvarezh](https://img.shields.io/badge/github-%23121011.svg?style=plastic&logo=github&logoColor=white)](https://github.com/carlosalvarezh)|\n",
    "\n",
    "<table>\n",
    " <tr align=left><td><img align=left src=\"https://github.com/carlosalvarezh/Curso_CEC_EAFIT/blob/main/images/CCLogoColorPop1.gif?raw=true\" width=\"25\">\n",
    " <td>Text provided under a Creative Commons Attribution license, CC-BY. All code is made available under the FSF-approved MIT license.(c) Carlos Alberto Alvarez Henao</td>\n",
    "</table>\n",
    "\n",
    "***"
   ]
  },
  {
   "cell_type": "markdown",
   "id": "e3445d54",
   "metadata": {},
   "source": [
    "## Estática de partículas"
   ]
  },
  {
   "cell_type": "markdown",
   "id": "cea971a4",
   "metadata": {},
   "source": [
    "### Introducción al Concepto de Partícula"
   ]
  },
  {
   "cell_type": "markdown",
   "id": "8d3535bc",
   "metadata": {},
   "source": [
    "En el contexto de este capítulo, el término \"partícula\" se utiliza para referirse a cuerpos cuyo tamaño y forma no influyen significativamente en la solución de problemas mecánicos. Esto implica que todas las fuerzas actuantes sobre un cuerpo se consideran como si estuvieran aplicadas en un solo punto, independientemente del tamaño real del cuerpo. Por ejemplo, en un modelo mecánico de la Vía Láctea, estructuras tan grandes como el Sol y el sistema solar podrían ser representadas simplemente como una partícula.\n",
    "\n",
    "- **Descomposición y Resultante de Fuerzas:** El primer objetivo del capítulo es enseñar cómo se pueden combinar dos o más fuerzas que actúan sobre una partícula en una única fuerza resultante que tiene el mismo efecto que las fuerzas originales. Esta técnica es fundamental para simplificar el análisis de sistemas físicos complejos y para entender cómo las fuerzas combinadas afectan a un objeto.\n",
    "\n",
    "<p float=\"center\">\n",
    "  <img src=\"https://github.com/carlosalvarezh/Geometria_Analitica_Vectorial/blob/main/Images/Mecanica04_ResultanteFuerza.PNG?raw=true\" width=\"250\" />\n",
    "</p>\n",
    "\n",
    "- **Equilibrio de Fuerzas en un Plano:** La primera parte del capítulo se concentra en el estudio de fuerzas que actúan en un mismo plano, lo que es común en muchos problemas prácticos de la mecánica. Un ejemplo típico sería una caja suspendida por dos cadenas, donde las fuerzas en cada cadena y la gravedad interactúan para mantener la caja en equilibrio.\n",
    "\n",
    "$$R = \\sum F=0, \\sum F_x=0, \\sum F_y=0$$\n",
    "\n",
    "<p>&nbsp;</p>\n",
    "\n",
    "- **Fuerzas en el Espacio Tridimensional:** Posteriormente, el capítulo avanza hacia una situación más compleja analizando las fuerzas en un espacio tridimensional. Este análisis es crucial para aplicaciones reales donde las fuerzas no se limitan a un solo plano, como en el caso de estructuras que deben soportar cargas distribuidas de manera irregular o en diferentes direcciones.\n",
    "\n",
    "$$R = \\sum F=0, \\sum F_x=0, \\sum F_y=0, \\sum F_z=0$$\n"
   ]
  },
  {
   "cell_type": "markdown",
   "id": "905e05db",
   "metadata": {},
   "source": [
    "### Tipos de Fuerzas"
   ]
  },
  {
   "cell_type": "markdown",
   "id": "da61e845",
   "metadata": {},
   "source": [
    "En la estática de partículas, es esencial entender los diferentes tipos de fuerzas que pueden actuar sobre un objeto. Estas fuerzas se clasifican según su origen y modo de aplicación. A continuación se presentan las definiciones y formulaciones matemáticas de las fuerzas más comunes, junto con algunas adicionales que son relevantes en el estudio de la mecánica.\n",
    "\n",
    "- ***Peso o Fuerza Gravitatoria:*** El peso es la fuerza con la que la gravedad atrae a un objeto hacia el centro de la Tierra. La magnitud de esta fuerza es directamente proporcional a la masa del objeto y la aceleración debida a la gravedad $ g $.\n",
    "\n",
    "<p float=\"center\">\n",
    "  <img src=\"https://github.com/carlosalvarezh/Geometria_Analitica_Vectorial/blob/main/Images/Mecanica05_Peso.png?raw=true\" width=\"250\" />\n",
    "</p>\n",
    "\n",
    "$$W = mg$$\n",
    "Donde:\n",
    "  - $ W $ es el peso del objeto (en Newtons, N).\n",
    "  - $ m $ es la masa del objeto (en kilogramos, kg).\n",
    "  - $ g $ es la aceleración debida a la gravedad (aproximadamente $ 9.81 \\, \\text{m/s}^2 $ en la superficie de la Tierra).\n",
    "<p>&nbsp;</p>\n",
    "  \n",
    "- ***Fuerza Normal:*** La fuerza normal es una fuerza de contacto que una superficie ejerce sobre un objeto que está en contacto con ella. Esta fuerza actúa perpendicularmente a la superficie y evita que el objeto penetre en ella.\n",
    "\n",
    "<p float=\"center\">\n",
    "  <img src=\"https://github.com/carlosalvarezh/Geometria_Analitica_Vectorial/blob/main/Images/Mecanica06_FuerzaNormal.gif?raw=true\" width=\"250\" />\n",
    "</p>\n",
    "\n",
    "$$N = F_{\\text{normal}}$$\n",
    "Donde:\n",
    "  - $ N $ es la fuerza normal (en Newtons, N).\n",
    "<p>&nbsp;</p>\n",
    "\n",
    "- ***Fuerzas de Rozamiento:*** El rozamiento es una fuerza que se opone al movimiento relativo entre dos superficies en contacto. Existen dos tipos principales de rozamiento: estático y cinético.\n",
    "\n",
    "<p float=\"center\">\n",
    "  <img src=\"https://github.com/carlosalvarezh/Geometria_Analitica_Vectorial/blob/main/Images/Mecanica07_FuerzaRozamiento.gif?raw=true\" width=\"250\" />\n",
    "</p>\n",
    "\n",
    "  - **Fuerza de Rozamiento Estático ($ F_s $):** Actúa cuando el objeto está en reposo.\n",
    "  $$\n",
    "  F_s \\leq \\mu_s N\n",
    "  $$\n",
    "  Donde:\n",
    "    - $ \\mu_s $ es el coeficiente de rozamiento estático.\n",
    "    - $ N $ es la fuerza normal.\n",
    "\n",
    "  - **Fuerza de Rozamiento Cinético ($ F_k $):** Actúa cuando el objeto está en movimiento.\n",
    "  $$\n",
    "  F_k = \\mu_k N\n",
    "  $$\n",
    "  Donde:\n",
    "    - $ \\mu_k $ es el coeficiente de rozamiento cinético.\n",
    "<p>&nbsp;</p>\n",
    "\n",
    "- ***Fuerza de Tensión:*** La tensión es una fuerza que se transmite a través de un cable, cuerda o cualquier objeto elástico cuando se estira. Esta fuerza actúa a lo largo del objeto y es igual en magnitud en ambos extremos.\n",
    "\n",
    "<p float=\"center\">\n",
    "  <img src=\"https://github.com/carlosalvarezh/Geometria_Analitica_Vectorial/blob/main/Images/Mecanica08_Tension.PNG?raw=true\" width=\"350\" />\n",
    "</p>\n",
    "\n",
    "$$\n",
    "T = F_{\\text{tensión}}\n",
    "$$\n",
    "Donde:\n",
    "  - $ T $ es la fuerza de tensión (en Newtons, N).\n",
    "<p>&nbsp;</p>\n",
    "\n",
    "- ***Fuerza Elástica:*** La fuerza elástica es la fuerza ejercida por un resorte u otro objeto elástico cuando se deforma. Esta fuerza sigue la ley de Hooke, que establece que la fuerza es proporcional a la deformación del objeto.\n",
    "\n",
    "<p float=\"center\">\n",
    "  <img src=\"https://github.com/carlosalvarezh/Geometria_Analitica_Vectorial/blob/main/Images/Mecanica09_Elastica.jpg?raw=true\" width=\"250\" />\n",
    "</p>\n",
    "\n",
    "$$F = -k x$$\n",
    "Donde:\n",
    "  - $ F $ es la fuerza elástica (en Newtons, N).\n",
    "  - $ k $ es la constante del resorte (en Newtons por metro, N/m).\n",
    "  - $ x $ es la deformación del resorte desde su posición de equilibrio (en metros, m).\n",
    "<p>&nbsp;</p>\n",
    "\n",
    "- ***Fuerza de Empuje:*** El empuje es una fuerza aplicada a un objeto para acelerarlo, generalmente relacionada con la tercera ley de Newton. Se manifiesta cuando una masa es acelerada, como en el caso de motores y propulsores.\n",
    "\n",
    "<p float=\"center\">\n",
    "  <img src=\"https://github.com/carlosalvarezh/Geometria_Analitica_Vectorial/blob/main/Images/Mecanica10_Empuje.jpeg?raw=true\" width=\"250\" />\n",
    "</p>\n",
    "\n",
    "$$F_{\\text{empuje}} = m a$$\n",
    "Donde:\n",
    "  - $ F_{\\text{empuje}} $ es la fuerza de empuje (en Newtons, N).\n",
    "  - $ m $ es la masa del objeto (en kilogramos, kg).\n",
    "  - $ a $ es la aceleración (en metros por segundo cuadrado, m/s²).\n",
    "<p>&nbsp;</p>\n",
    "\n",
    "- ***Fuerza Centrífuga:*** La fuerza centrífuga es una fuerza aparente que actúa sobre un objeto en un sistema de referencia en rotación, empujando al objeto hacia afuera del centro de rotación. Es proporcional a la masa del objeto y al cuadrado de su velocidad angular.\n",
    "\n",
    "<p float=\"center\">\n",
    "  <img src=\"https://github.com/carlosalvarezh/Geometria_Analitica_Vectorial/blob/main/Images/Mecanica11_Centrifuga.jpg?raw=true\" width=\"200\" />\n",
    "</p>\n",
    "\n",
    "$$F_c = m \\omega^2 r$$\n",
    "Donde:\n",
    "  - $ F_c $ es la fuerza centrífuga (en Newtons, N).\n",
    "  - $ m $ es la masa del objeto (en kilogramos, kg).\n",
    "  - $ \\omega $ es la velocidad angular (en radianes por segundo, rad/s).\n",
    "  - $ r $ es el radio de la trayectoria circular (en metros, m).\n",
    "<p>&nbsp;</p>\n",
    "\n",
    "- ***Fuerza Electroestática:*** La fuerza electrostática es la fuerza entre dos cargas eléctricas. La magnitud de esta fuerza está dada por la ley de Coulomb.\n",
    "\n",
    "<p float=\"center\">\n",
    "  <img src=\"https://github.com/carlosalvarezh/Geometria_Analitica_Vectorial/blob/main/Images/Mecanica12_Electrostatica.png?raw=true\" width=\"150\" />\n",
    "</p>\n",
    "\n",
    "$$F_e = k_e \\frac{|q_1 q_2|}{r^2}$$\n",
    "Donde:\n",
    "  - $ F_e $ es la fuerza electrostática (en Newtons, N).\n",
    "  - $ k_e $ es la constante de Coulomb ($8.9875 \\times 10^9 \\, \\text{N} \\cdot \\text{m}^2/\\text{C}^2 $).\n",
    "  - $ q_1 $ y $ q_2 $ son las magnitudes de las cargas (en Coulombs, C).\n",
    "  - $ r $ es la distancia entre las cargas (en metros, m)."
   ]
  },
  {
   "cell_type": "markdown",
   "id": "3a31b756",
   "metadata": {},
   "source": [
    "### Equilibrio de una partícula"
   ]
  },
  {
   "cell_type": "markdown",
   "id": "505278de",
   "metadata": {},
   "source": [
    "#### Definición de Equilibrio"
   ]
  },
  {
   "cell_type": "markdown",
   "id": "8e29b8b7",
   "metadata": {},
   "source": [
    "Una partícula está en equilibrio cuando la resultante de todas las fuerzas que actúan sobre ella es cero. \n",
    "\n",
    "Esto significa que el efecto neto de las fuerzas es nulo y la partícula no experimenta aceleración. Matemáticamente, esto se expresa como:\n",
    "$$\n",
    "\\mathbf{R} = \\sum \\mathbf{F} = 0\n",
    "$$\n",
    "Donde:\n",
    "- $\\mathbf{R}$ es la resultante de todas las fuerzas.\n",
    "- $\\sum \\mathbf{F}$ es la suma vectorial de todas las fuerzas que actúan sobre la partícula.\n"
   ]
  },
  {
   "cell_type": "markdown",
   "id": "2c375567",
   "metadata": {},
   "source": [
    "#### Condición de Equilibrio con Dos Fuerzas"
   ]
  },
  {
   "cell_type": "markdown",
   "id": "617ee1f6",
   "metadata": {},
   "source": [
    "Una partícula sometida a dos fuerzas estará en equilibrio si ambas fuerzas tienen la misma magnitud, la misma línea de acción, pero sentidos opuestos. En este caso, la resultante de las dos fuerzas es cero.\n",
    "\n",
    "<p float=\"center\">\n",
    "  <img src=\"https://github.com/carlosalvarezh/Geometria_Analitica_Vectorial/blob/main/Images/Mecanica16_Equilibrio.PNG?raw=true\" width=\"100\" />\n",
    "</p>"
   ]
  },
  {
   "cell_type": "markdown",
   "id": "d768f711",
   "metadata": {},
   "source": [
    "#### Equilibrio con Múltiples Fuerzas"
   ]
  },
  {
   "cell_type": "markdown",
   "id": "452be34d",
   "metadata": {},
   "source": [
    "Para una partícula en equilibrio bajo la acción de varias fuerzas, como se muestra en la figura, la resultante de las fuerzas se determina por la regla del polígono. Si al disponer las fuerzas punta a cola, el polígono formado es cerrado, la partícula está en equilibrio.\n",
    "\n",
    "<p float=\"center\">\n",
    "  <img src=\"https://github.com/carlosalvarezh/Geometria_Analitica_Vectorial/blob/main/Images/Mecanica16a_Equilibrio.PNG?raw=true\" width=\"200\" />\n",
    "</p>"
   ]
  },
  {
   "cell_type": "markdown",
   "id": "581f90ff",
   "metadata": {},
   "source": [
    "#### Representación Gráfica del Equilibrio"
   ]
  },
  {
   "cell_type": "markdown",
   "id": "a47177ec",
   "metadata": {},
   "source": [
    "El polígono cerrado de fuerzas proporciona una representación gráfica del equilibrio. Cuando las fuerzas se acomodan punta a cola y forman un polígono cerrado, la partícula está en equilibrio.\n",
    "\n",
    "<p float=\"center\">\n",
    "  <img src=\"https://github.com/carlosalvarezh/Geometria_Analitica_Vectorial/blob/main/Images/Mecanica16b_Equilibrio.PNG?raw=true\" width=\"200\" />\n",
    "</p>"
   ]
  },
  {
   "cell_type": "markdown",
   "id": "06228e73",
   "metadata": {},
   "source": [
    "#### Representación Algebraica del Equilibrio"
   ]
  },
  {
   "cell_type": "markdown",
   "id": "c663d69a",
   "metadata": {},
   "source": [
    "Para expresar algebraicamente las condiciones de equilibrio de una partícula, se descomponen las fuerzas en sus componentes rectangulares:\n",
    "$$\n",
    "\\sum \\left( F_x \\mathbf{i} + F_y \\mathbf{j} \\right) = 0 \\quad \\text{o} \\quad \\left( \\sum F_x \\right) \\mathbf{i} + \\left( \\sum F_y \\right) \\mathbf{j} = 0\n",
    "$$\n",
    "Las condiciones necesarias y suficientes para el equilibrio de una partícula en términos escalares son:\n",
    "$$\n",
    "\\sum F_x = 0 \\quad \\text{y} \\quad \\sum F_y = 0\n",
    "$$"
   ]
  },
  {
   "cell_type": "markdown",
   "id": "8a84ca54",
   "metadata": {},
   "source": [
    "#### Ejemplo de Equilibrio de una Partícula"
   ]
  },
  {
   "cell_type": "markdown",
   "id": "b7221cc6",
   "metadata": {},
   "source": [
    "Consideremos la partícula mostrada en la figura anterior con cuatro fuerzas actuando sobre ella. Las condiciones de equilibrio se verifican descomponiendo las fuerzas en sus componentes $x$ e $y$ y sumando cada componente por separado:\n",
    "$$\n",
    "\\begin{aligned}\n",
    "\\sum F_x & = 300 \\, \\text{lb} - (200 \\, \\text{lb}) \\sin 30^\\circ - (400 \\, \\text{lb}) \\sin 30^\\circ \\\\\n",
    "& = 300 \\, \\text{lb} - 100 \\, \\text{lb} - 200 \\, \\text{lb} = 0 \\\\\n",
    "\\sum F_y & = -173.2 \\, \\text{lb} - (200 \\, \\text{lb}) \\cos 30^\\circ + (400 \\, \\text{lb}) \\cos 30^\\circ \\\\\n",
    "& = -173.2 \\, \\text{lb} - 173.2 \\, \\text{lb} + 346.4 \\, \\text{lb} = 0\n",
    "\\end{aligned}\n",
    "$$\n"
   ]
  },
  {
   "cell_type": "markdown",
   "id": "8b592770",
   "metadata": {},
   "source": [
    "### Diagrama de cuerpo libre"
   ]
  },
  {
   "cell_type": "markdown",
   "id": "c83012be",
   "metadata": {},
   "source": [
    "Un diagrama espacial es un esquema que muestra las condiciones físicas reales de un problema de ingeniería mecánica. Este diagrama es fundamental para entender el contexto y los elementos involucrados en el problema.\n",
    "\n",
    "Un **diagrama de cuerpo libre (DCL)** es una representación gráfica que muestra una partícula o un cuerpo aislado (libre de su entorno) y todas las fuerzas que actúan sobre él. Este enfoque simplifica el análisis y permite aplicar los métodos estudiados para determinar la resultante de varias fuerzas actuando sobre la partícula.\n",
    "\n",
    "Para aplicar las ecuaciones de equilibrio, debemos tomar en cuenta todas las fuerzas que actúan sobre una partícula; por tal motivo, no se debe exagerar la importancia de trazar primero un diagrama de cuerpo libre. Para construir un diagrama de cuerpo libre, se requiere llevar a cabo los siguientes tres pasos.\n",
    "\n",
    "- ***Trace un perfil delineado:*** Imagine que la partícula está aislada o \"liberada\" de su entorno, lo cual requiere eliminar todos los soportes y dibujar la forma bosquejada de la partícula.\n",
    "<p>&nbsp;</p>\n",
    "\n",
    "- ***Muestre todas las fuerzas:*** Indique sobre este bosquejo todas las fuerzas que actúan sobre la partícula. Aquéllas pueden ser fuerzas activas, que tienden a poner la partícula en movimiento; o fuerzas reactivas, que son el resultado de las restricciones o soportes que tienden a evitar el movimiento. Para tomar en cuenta todas esas fuerzas, puede resultar útil trazar los límites de la partícula y señalar con cuidado cada fuerza que actúa sobre ella.\n",
    "<p>&nbsp;</p>\n",
    "\n",
    "- ***Identifique cada una de las fuerzas:*** Las fuerzas que son conocidas deberían marcarse con sus propias magnitudes y direcciones. Para representar las magnitudes y las direcciones de las fuerzas desconocidas se usan letras."
   ]
  },
  {
   "cell_type": "markdown",
   "id": "de38de70",
   "metadata": {},
   "source": [
    "- ***Ejemplo 01:*** Considere un embalaje de madera de $75 \\, \\text{kg}$ que se eleva hacia una plataforma de un camión, sostenido por un cable vertical unido en $A$ a dos cuerdas que pasan sobre poleas fijas en $B$ y $C$. El objetivo es determinar la tensión en las cuerdas $AB$ y $AC$.\n",
    "\n",
    "<p float=\"center\">\n",
    "  <img src=\"https://github.com/carlosalvarezh/Geometria_Analitica_Vectorial/blob/main/Images/Mecanica13_DiagramaCuerpoLibre.PNG?raw=true\" width=\"250\" />\n",
    "</p>\n",
    "\n",
    "  1. **Diagrama Espacial (Figura a):** Muestra el embalaje, el cable y las cuerdas en su disposición física.\n",
    "<p>&nbsp;</p>\n",
    " \n",
    "  2. **Diagrama de Cuerpo Libre (Figura b):** Se elige el punto $A$ como el cuerpo libre. Las fuerzas actuantes en $A$ son:\n",
    "     - El peso del embalaje, $W$:\n",
    "     $$W = mg = (75 \\, \\text{kg})(9.81 \\, \\text{m/s}^2) = 736 \\, \\text{N}$$\n",
    "     - Las tensiones en las cuerdas $AB$ y $AC$, representadas como $\\mathbf{T}_{AB}$ y $\\mathbf{T}_{AC}$, respectivamente.\n",
    "<p>&nbsp;</p>\n",
    " \n",
    "  3. **Triángulo de Fuerzas (Figura 2.24c):** Muestra que, para el equilibrio, las tres fuerzas deben formar un triángulo cerrado:\n",
    "   $$\\frac{T_{AB}}{\\sin 60^\\circ} = \\frac{T_{AC}}{\\sin 40^\\circ} = \\frac{736 \\, \\text{N}}{\\sin 80^\\circ}$$\n",
    "   Resolviendo las ecuaciones:\n",
    "   $$T_{AB} = 647 \\, \\text{N}, \\quad T_{AC} = 480 \\, \\text{N}$$\n"
   ]
  },
  {
   "cell_type": "markdown",
   "id": "b8f35ac2",
   "metadata": {},
   "source": [
    "- ***Ejemplo02:*** En la operación de descarga de un barco, un cable soporta un automóvil de $3500 \\mathrm{lb}$. Un operario ata una cuerda al cable en $A$ y jala de ella para centrar el automóvil en la posición deseada sobre el muelle. En la ilustración, el automóvil está estacionario, el ángulo entre el cable y la vertical es de $2^{\\circ}$, mientras que el ángulo entre la cuerda y la horizontal es de $30^{\\circ}$. ¿Cuáles son las tensiones en la cuerda y en el cable?\n",
    "\n",
    "<p float=\"center\">\n",
    "  <img src=\"https://github.com/carlosalvarezh/Geometria_Analitica_Vectorial/blob/main/Images/Mecanica14_Ejemplo02.PNG?raw=true\" width=\"250\" />\n",
    "</p>\n",
    "\n",
    "  - ***Estrategia:*** Este es un problema de equilibrio bajo tres fuerzas coplanares. Se puede considerar el punto $A$ como una partícula y resolver el problema mediante el triángulo de fuerzas.\n",
    "<p>&nbsp;</p>\n",
    "\n",
    "  - ***Modelar y analizar*** \n",
    "    - ***Diagrama de cuerpo libre:*** Se escoge el punto $A$ como la partícula y se dibuja el diagrama completo de cuerpo libre (figura 1). $T_{A B}$ es la tensión en el cable $A B$ y $T_{A C}$ es la tensión de la cuerda.\n",
    "    - ***Condición de equilibrio:*** Como sólo actúan tres fuerzas sobre el punto $A$, se dibuja un triángulo de fuerzas para expresar que éste se encuentra en equilibrio (figura 2). Con la ley de los senos se escribe\n",
    "    \n",
    "    $$\\frac{T_{AB}}{\\sin(120 ^\\circ{})}=\\frac{T_{AC}}{\\sin(2 ^\\circ{})}=\\frac{3500 \\text{ lb}}{\\sin(58 ^\\circ{})}$$\n",
    "    \n",
    "    Desarrollando los cálculos, se obtiene: $T_{AB}=3570 \\text{ lb}$, $T_{AC}=144 \\text{ lb}$"
   ]
  },
  {
   "cell_type": "markdown",
   "id": "c295606f",
   "metadata": {},
   "source": [
    "- ***Ejemplo 03:*** Como parte del diseño de un nuevo velero, se desea determinar la fuerza de arrastre que puede esperarse a cierta velocidad. Para hacerlo, se coloca un modelo del casco propuesto en un canal de prueba y se usan tres cables para mantener su proa en el eje del centro del canal. Las lecturas de los dinamómetros indican que para una velocidad dada la tensión es de $40 \\text{ lb}$ en el cable $AB$ y de $60 \\text{ lb}$ en el cable $AE$. Determine la fuerza de arrastre ejercida sobre el casco y la tensión en el cable $AC$.\n",
    "\n",
    "<p float=\"center\">\n",
    "  <img src=\"https://github.com/carlosalvarezh/Geometria_Analitica_Vectorial/blob/main/Images/Mecanica15_Ejemplo03.PNG?raw=true\" width=\"250\" />\n",
    "</p>\n",
    "\n",
    "***Solución:***\n",
    "\n",
    "Todos los cables se conectan en el punto $A$, de manera que se puede considerar como una partícula en equilibrio. Debido a que cuatro fuerzas actúan en $A$ (tensiones en los tres cables y la fuerza de arrastre), se deben usar las condiciones de equilibrio y la adición de fuerzas de las componentes para hallar las fuerzas desconocidas.\n",
    "\n",
    "- ***Determinación de los ángulos:*** En primer lugar se determinan los ángulos $\\alpha$ y $\\beta$ definiendo la dirección de los cables $A B$ y $A C$ :\n",
    "$$\n",
    "\\begin{aligned}\n",
    "\\tan \\alpha & =\\frac{7 \\text { pies }}{4 \\text { pies }}=1.75 & \\tan \\beta & =\\frac{1.5 \\text { pies }}{4 \\text { pies }}=0.375 \\\\\n",
    "\\alpha & =60.26^{\\circ} & \\beta & =20.56^{\\circ}\n",
    "\\end{aligned}\n",
    "$$\n",
    "$$\n",
    "\\begin{aligned}\n",
    "\\tan \\beta & =\\frac{1.5 \\text { pies }}{4 \\text { pies }}=0.375 \\\\\n",
    "\\beta & =20.56^{\\circ}\n",
    "\\end{aligned}\n",
    "$$\n",
    "\n",
    "- ***Diagrama de cuerpo libre:*** Se escoge el punto $A$ como cuerpo libre, se traza el diagrama del cuerpo libre (figura 1) que incluye las fuerzas ejercidas por los tres cables sobre el casco, así como la fuerza de arrastre $\\mathbf{F}_D$ ejercida por el flujo.\n",
    "\n",
    "<p float=\"center\">\n",
    "  <img src=\"https://github.com/carlosalvarezh/Geometria_Analitica_Vectorial/blob/main/Images/Mecanica15a_Ejemplo03.PNG?raw=true\" width=\"200\" />\n",
    "</p>\n",
    "\n",
    "- ***Condición de equilibrio:*** Debido a que el punto $A$ está en equilibrio, la resultante de todas las fuerzas es cero:\n",
    "$$\n",
    "\\mathbf{R}=\\mathbf{T}_{A B}+\\mathbf{T}_{A C}+\\mathbf{T}_{A E}+\\mathbf{F}_D=0\n",
    "$$\n",
    "\n",
    "Como aparecen más de tres fuerzas, se descomponen las fuerzas en sus componentes $x$ y $y$ (figura 2 ):\n",
    "\n",
    "<p float=\"center\">\n",
    "  <img src=\"https://github.com/carlosalvarezh/Geometria_Analitica_Vectorial/blob/main/Images/Mecanica15b_Ejemplo03.PNG?raw=true\" width=\"200\" />\n",
    "</p>\n",
    "\n",
    "\n",
    "$$\n",
    "\\begin{aligned}\n",
    "\\mathbf{T}_{A B} & =-(40 \\mathrm{lb}) \\operatorname{sen} 60.26^{\\circ} \\mathbf{i}+(40 \\mathrm{lb}) \\cos 60.26^{\\circ} \\mathbf{j} \\\\\n",
    "& =-(34.73 \\mathrm{lb}) \\mathbf{i}+(19.84 \\mathrm{lb}) \\mathbf{j} \\\\\n",
    "\\mathbf{T}_{A C} & =T_{A C} \\operatorname{sen} 20.56^{\\circ} \\mathbf{i}+T_{A C} \\cos 20.56^{\\circ} \\mathbf{j} \\\\\n",
    "& =0.3512 T_{A C} \\mathbf{i}+0.9363 T_{A C} \\mathbf{j} \\\\\n",
    "\\mathbf{T}_{A E} & =-(60 \\mathrm{lb}) \\mathbf{j} \\\\\n",
    "\\mathbf{F}_D & =F_D \\mathbf{i}\n",
    "\\end{aligned}\n",
    "$$\n",
    "\n",
    "Se sustituyen las expresiones obtenidas en la ecuación (1) y se factorizan los vectores unitarios $\\mathbf{i}$ y $\\mathbf{j}$, por lo que se obtiene\n",
    "$$\n",
    "\\left(-34.73 \\mathrm{lb}+0.3512 T_{A C}+F_D\\right) \\mathbf{i}+\\left(19.84 \\mathrm{lb}+0.9363 T_{A C}-60 \\mathrm{lb}\\right) \\mathbf{j}=0\n",
    "$$\n",
    "\n",
    "Esta ecuación se cumplirá si y sólo si los coeficientes de $\\mathbf{i}$ y $\\mathbf{j}$ son iguales a cero. Así se obtienen las siguientes dos ecuaciones de equilibrio, que expresan, respectivamente, que la suma de las componentes $x$ y la suma de las componentes $y$ de las fuerzas dadas debe ser cero.\n",
    "$$\n",
    "\\begin{array}{ll}\n",
    "\\Sigma F_x=0: & -34.73 \\mathrm{lb}+0.3512 T_{A C}+F_D=0 \\\\\n",
    "\\Sigma F_y=0: & 19.84 \\mathrm{lb}+0.9363 T_{A C}-60 \\mathrm{lb}=0\n",
    "\\end{array}\n",
    "$$\n",
    "\n",
    "De la ecuación (3) se encuentra\n",
    "$$\n",
    "\\begin{aligned}\n",
    "& T_{A C}=+42.9 \\mathrm{lb} \\\\\n",
    "& F_D=+19.66 \\mathrm{lb}\n",
    "\\end{aligned}\n",
    "$$\n",
    "y sustituyendo este valor en la ecuación (2) se obtiene\n",
    "\n",
    "Al dibujar el diagrama de cuerpo libre se supuso que había un sentido para cada fuerza desconocida. El signo positivo en la respuesta señala que el sentido supuesto era el correcto. Puede dibujarse el polígono de fuerzas completo (figura 3) y así comprobar los resultados.\n",
    "\n",
    "<p float=\"center\">\n",
    "  <img src=\"https://github.com/carlosalvarezh/Geometria_Analitica_Vectorial/blob/main/Images/Mecanica15c_Ejemplo03.PNG?raw=true\" width=\"200\" />\n",
    "</p>"
   ]
  },
  {
   "cell_type": "markdown",
   "id": "cf3c45ac",
   "metadata": {},
   "source": [
    "- ***Ejemplo 04:*** Determine la longitud requerida para el cable de corriente alterna de la figura, de manera que la lámpara de $8 \\text{ kg}$ esté suspendida en la posición que se muestra. La longitud no deformada del resorte $AB$ es $l'_{AB}= 0.4 \\text{ m}$, y el resorte tiene una rigidez de $k_{AB} = 300 \\text{ N/m}$.\n",
    "\n",
    "<p float=\"center\">\n",
    "  <img src=\"https://github.com/carlosalvarezh/Geometria_Analitica_Vectorial/blob/main/Images/Mecanica17_Ejemplo04.PNG?raw=true\" width=\"200\" />\n",
    "</p>\n",
    "\n",
    "Si se conoce la fuerza presente en el resorte $A B$, el alargamiento del resorte se puede encontrar mediante $F=k s$. A partir de la geometría del problema, es posible calcular la longitud requerida de $A C$.\n",
    "\n",
    "\n",
    "- ***Diagrama de cuerpo libre*** \n",
    "\n",
    "<p float=\"center\">\n",
    "  <img src=\"https://github.com/carlosalvarezh/Geometria_Analitica_Vectorial/blob/main/Images/Mecanica17a_Ejemplo04.PNG?raw=true\" width=\"200\" />\n",
    "</p>\n",
    "\n",
    "La lámpara tiene un peso $W=$ $8(9.81)=78.5 \\mathrm{~N}$ y entonces el diagrama de cuerpo libre del anillo en $A$ se muestra en la figura $3-8 b$.\n",
    "\n",
    "Ecuaciones de equilibrio. Si utilizamos $\\operatorname{los}$ ejes $x, y$,\n",
    "$$\n",
    "\\begin{array}{ll}\n",
    "\\xrightarrow{+} \\Sigma F_x=0 ; & T_{A B}-T_{A C} \\cos 30^{\\circ}=0 \\\\\n",
    "+\\uparrow \\Sigma F_y=0 ; & T_{A C} \\operatorname{sen} 30^{\\circ}-78.5 \\mathrm{~N}=0\n",
    "\\end{array}\n",
    "$$\n",
    "$\\mathrm{Al}$ resolver estas ecuaciones obtenemos\n",
    "$$\n",
    "\\begin{aligned}\n",
    "& T_{A C}=157.0 \\mathrm{~N} \\\\\n",
    "& T_{A B}=135.9 \\mathrm{~N}\n",
    "\\end{aligned}\n",
    "$$\n",
    "\n",
    "Entonces, el estiramiento del resorte $A B$ es\n",
    "$$\n",
    "T_{A B}=k_{A B} s_{A B}\n",
    "$$\n",
    "$$\n",
    "\\begin{aligned}\n",
    "135.9 \\mathrm{~N} & =300 \\mathrm{~N} / \\mathrm{m}\\left(s_{A B}\\right) \\\\\n",
    "s_{A B} & =0.453 \\mathrm{~m}\n",
    "\\end{aligned}\n",
    "$$\n",
    "y la longitud alargada es, por tanto\n",
    "$$\n",
    "\\begin{aligned}\n",
    "& l_{A B}=l_{A B}^{\\prime}+s_{A B} \\\\\n",
    "& l_{A B}=0.4 \\mathrm{~m}+0.453 \\mathrm{~m}=0.853 \\mathrm{~m}\n",
    "\\end{aligned}\n",
    "$$\n",
    "\n",
    "La distancia horizontal de $C$ a $B$, figura 3-8a, requiere que\n",
    "$$\n",
    "\\begin{aligned}\n",
    "2 \\mathrm{~m} & =l_{A C} \\cos 30^{\\circ}+0.853 \\mathrm{~m} \\\\\n",
    "l_{A C} & =1.32 \\mathrm{~m}\n",
    "\\end{aligned}\n",
    "$$\n",
    "\n",
    "\n"
   ]
  },
  {
   "cell_type": "markdown",
   "id": "b4ab32fa",
   "metadata": {},
   "source": [
    "### Ejercicios"
   ]
  },
  {
   "cell_type": "markdown",
   "id": "989b4260",
   "metadata": {},
   "source": [
    "Revisar los problemas desde la página $41$ a la $45$ del libro *Mecánica Vectorial para Ingenieros de Beer & Johnston, 11th Ed*."
   ]
  },
  {
   "cell_type": "markdown",
   "id": "682989e0",
   "metadata": {},
   "source": []
  },
  {
   "cell_type": "code",
   "execution_count": null,
   "id": "8459ace4",
   "metadata": {},
   "outputs": [],
   "source": []
  }
 ],
 "metadata": {
  "kernelspec": {
   "display_name": "Python 3 (ipykernel)",
   "language": "python",
   "name": "python3"
  },
  "language_info": {
   "codemirror_mode": {
    "name": "ipython",
    "version": 3
   },
   "file_extension": ".py",
   "mimetype": "text/x-python",
   "name": "python",
   "nbconvert_exporter": "python",
   "pygments_lexer": "ipython3",
   "version": "3.11.8"
  },
  "toc": {
   "base_numbering": 1,
   "nav_menu": {},
   "number_sections": true,
   "sideBar": true,
   "skip_h1_title": true,
   "title_cell": "Table of Contents",
   "title_sidebar": "Contents",
   "toc_cell": false,
   "toc_position": {
    "height": "calc(100% - 180px)",
    "left": "10px",
    "top": "150px",
    "width": "219.429px"
   },
   "toc_section_display": true,
   "toc_window_display": false
  }
 },
 "nbformat": 4,
 "nbformat_minor": 5
}
