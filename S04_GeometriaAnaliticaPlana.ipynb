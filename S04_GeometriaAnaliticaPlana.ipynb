{
 "cells": [
  {
   "cell_type": "markdown",
   "id": "b42acfc5",
   "metadata": {},
   "source": [
    "<h1 align=\"center\">Geometría Analítica y Vectorial</h1>\n",
    "<h1 align=\"center\">Geometría Analítica Plana</h1>\n",
    "<h1 align=\"center\">2024</h1>\n",
    "<h1 align=\"center\">MEDELLÍN - COLOMBIA </h1>"
   ]
  },
  {
   "cell_type": "markdown",
   "id": "7fe66782",
   "metadata": {},
   "source": [
    "*** \n",
    "|[![Outlook](https://img.shields.io/badge/Microsoft_Outlook-0078D4?style=plastic&logo=microsoft-outlook&logoColor=white)](mailto:calvarezh@udemedellin.edu.co)||[![Open In Colab](https://colab.research.google.com/assets/colab-badge.svg)](https://colab.research.google.com/github/carlosalvarezh/Geometria_Analitica_Vectorial/blob/main/S04_GeometriaAnaliticaPlana.ipynb)\n",
    "|-:|:-|--:|\n",
    "|[![LinkedIn](https://img.shields.io/badge/linkedin-%230077B5.svg?style=plastic&logo=linkedin&logoColor=white)](https://www.linkedin.com/in/carlosalvarez5/)|[![@alvarezhenao](https://img.shields.io/twitter/url/https/twitter.com/alvarezhenao.svg?style=social&label=Follow%20%40alvarezhenao)](https://twitter.com/alvarezhenao)|[![@carlosalvarezh](https://img.shields.io/badge/github-%23121011.svg?style=plastic&logo=github&logoColor=white)](https://github.com/carlosalvarezh)|\n",
    "\n",
    "<table>\n",
    " <tr align=left><td><img align=left src=\"https://github.com/carlosalvarezh/Curso_CEC_EAFIT/blob/main/images/CCLogoColorPop1.gif?raw=true\" width=\"25\">\n",
    " <td>Text provided under a Creative Commons Attribution license, CC-BY. All code is made available under the FSF-approved MIT license.(c) Carlos Alberto Alvarez Henao</td>\n",
    "</table>\n",
    "\n",
    "***"
   ]
  },
  {
   "cell_type": "markdown",
   "id": "dcce8ed6",
   "metadata": {},
   "source": [
    "## Definición"
   ]
  },
  {
   "cell_type": "markdown",
   "id": "f0d3663c",
   "metadata": {},
   "source": [
    "La Geometría Analítica es una rama del álgebra, un gran invento de Descartes y Fermat, que se ocupa del modelado de algunos objetos geométricos, como líneas, puntos, curvas, etc. Es una asignatura matemática que utiliza simbolismo y métodos algebraicos para resolver los problemas. Establece la correspondencia entre las ecuaciones algebraicas y las curvas geométricas. El término alternativo que se utiliza para representar la geometría analítica es \"Geometría de coordenadas\".\n",
    "\n",
    "Cubre algunos temas importantes como puntos medios y distancia, líneas paralelas y perpendiculares en el plano coordenado, segmentos de línea divisoria, distancia entre la línea y un punto, etc. El estudio de la geometría analítica es importante ya que proporciona el conocimiento para el siguiente nivel de matemáticas. Es la forma tradicional de aprender el pensamiento lógico y las habilidades para resolver problemas. En este capítulo, estudiaremos los términos utilizados en la geometría analítica, fórmulas, plano cartesiano, sus aplicaciones y algunos problemas resueltos.\n",
    "\n",
    "Resumiendo, la geometría analítica plana es una rama de la matemática que se ocupa del estudio de figuras geométricas mediante un sistema de coordenadas y el uso de métodos algebraicos. Esta fusión de la geometría y el álgebra permite la solución de problemas geométricos de manera más eficiente y precisa."
   ]
  },
  {
   "cell_type": "markdown",
   "id": "1b19feac",
   "metadata": {},
   "source": [
    "## Sistema Coordenado"
   ]
  },
  {
   "cell_type": "markdown",
   "id": "2a973aa3",
   "metadata": {},
   "source": [
    "Un [sistema de coordenadas](https://en.wikipedia.org/wiki/Coordinate_system) es un marco de referencia que utiliza números o coordenadas para determinar de manera única la posición de un punto o de un objeto espacial en un espacio de dimensiones específicas. Los sistemas de coordenadas son fundamentales en disciplinas como la matemática, la física, la ingeniería y la geografía para describir la posición o ubicación de objetos en espacios bidimensionales, tridimensionales o incluso de mayor dimensión."
   ]
  },
  {
   "cell_type": "markdown",
   "id": "6683eb0b",
   "metadata": {},
   "source": [
    "#### Recta numérica"
   ]
  },
  {
   "cell_type": "markdown",
   "id": "52580363",
   "metadata": {},
   "source": [
    "<p float=\"center\">\n",
    "  <img src=\"https://github.com/carlosalvarezh/Geometria_Analitica_Vectorial/blob/main/Images/CoordSystem00.png?raw=true\" width=\"500\" />\n",
    "</p>\n",
    "\n",
    "En este sistema, se elige un punto arbitrario $O$ (el origen ) en una línea dada. La coordenada de un punto $P$ se define como la distancia con signo de $O$ a $P$ , donde la distancia con signo es la distancia tomada como positiva o negativa dependiendo de en qué lado de la línea se encuentre $P$. A cada punto se le asigna una coordenada única y cada número real es la coordenada de un punto único. \n",
    "\n",
    "La porción de la línea recta comprendida entre dos de sus puntos se le llama *segmento rectilíneo*. Por ejemplo, el segmento entre los puntos $0$ y $1$"
   ]
  },
  {
   "cell_type": "markdown",
   "id": "c4aecfb4",
   "metadata": {},
   "source": [
    "#### Cartesianas"
   ]
  },
  {
   "cell_type": "markdown",
   "id": "c2150cab",
   "metadata": {},
   "source": [
    "El sistema de coordenadas más comúnmente utilizado en geometría analítica plana es el sistema de coordenadas cartesianas. Este sistema utiliza dos líneas numéricas perpendiculares, denominadas ejes, que se cortan en un punto llamado origen. El eje horizontal es conocido como eje $X$ y el vertical como eje $Y$. Cada punto en el plano puede ser representado por un par de números $(x, y)$, denominados coordenadas, que indican las distancias al origen en dirección de los ejes $X$ e $Y$, respectivamente.\n",
    "\n",
    "<p float=\"center\">\n",
    "  <img src=\"https://github.com/carlosalvarezh/Geometria_Analitica_Vectorial/blob/main/Images/CoordSystem01.png?raw=true\" width=\"200\" />\n",
    "</p>\n",
    "\n",
    "En el plano , se eligen dos rectas perpendiculares y las coordenadas de un punto se toman como las distancias con signo a las rectas. En tres dimensiones, se eligen tres planos mutuamente ortogonales y las tres coordenadas de un punto son las distancias con signo a cada uno de los planos. Esto se puede generalizar para crear n coordenadas para cualquier punto en el espacio euclidiano de n dimensiones."
   ]
  },
  {
   "cell_type": "markdown",
   "id": "cf137cdd",
   "metadata": {},
   "source": [
    "#### Polares"
   ]
  },
  {
   "cell_type": "markdown",
   "id": "71f8ffaf",
   "metadata": {},
   "source": [
    "Las coordenadas polares son un sistema de coordenadas bidimensional en el que cada punto o posición del plano se determina mediante un ángulo y una distancia.\n",
    "\n",
    "<p float=\"center\">\n",
    "  <img src=\"https://github.com/carlosalvarezh/Geometria_Analitica_Vectorial/blob/main/Images/CoordSystem03.png?raw=true\" width=\"300\" />\n",
    "</p>\n",
    "\n",
    "Se elige un punto como polo y se toma una semirrecta desde este punto como eje polar. Para un ángulo dado \n",
    "$ \\theta $, hay una única línea recta que pasa por el polo cuyo ángulo con el eje polar es \n",
    "$ \\theta $ (medido en sentido contrario al de las agujas del reloj desde el eje hasta la línea). Entonces hay un único punto en esta línea cuya distancia con signo al origen es r para un número dado r. Para un par de coordenadas dado \n",
    "$ (r,\\theta )$ hay un único punto, pero cualquier punto está representado por muchos pares de coordenadas. Por ejemplo, \n",
    "$ (r,\\theta )$, $ (r,\\theta +2\\pi )$ y $ (-r,\\theta +\\pi )$ son todas coordenadas polares para el mismo punto. El polo está representado por $ (0,\\theta )$ para cualquier valor de $ \\theta $."
   ]
  },
  {
   "cell_type": "markdown",
   "id": "23719fc8",
   "metadata": {},
   "source": [
    "#### Cilíndricas"
   ]
  },
  {
   "cell_type": "markdown",
   "id": "4d717cd7",
   "metadata": {},
   "source": [
    "El sistema de coordenadas cilíndricas \n",
    "\n",
    "<p float=\"center\">\n",
    "  <img src=\"https://github.com/carlosalvarezh/Geometria_Analitica_Vectorial/blob/main/Images/CoordSystem02.png?raw=true\" width=\"200\" />\n",
    "</p>\n",
    "\n",
    "$\\textstyle{\\mathcal {C}}$=$(\\rho ,\\varphi ,z)|\\ \\rho >0,\\ 0\\leq \\varphi <2\\pi ,\\ z\\in \\mathbb {R} \\}$ se usa para representar los puntos de un espacio euclídeo tridimensional. Resulta especialmente útil en problemas con simetría axial. Este sistema de coordenadas es una generalización del sistema de coordenadas polares del plano euclídeo, al que se añade un tercer eje de referencia ortogonal a los otros dos. La primera coordenada es la distancia existente entre el eje \n",
    "$\\displaystyle{Oz}$ y el punto, la segunda es el ángulo que forman el eje $\\displaystyle{Ox}$ y la recta que pasa por ambos puntos, mientras que la tercera es la coordenada $\\displaystyle{z}$ que determina la altura del cilindro."
   ]
  },
  {
   "cell_type": "markdown",
   "id": "8a1e6761",
   "metadata": {},
   "source": [
    "### Distancia entre dos puntos (Segmento de recta)"
   ]
  },
  {
   "cell_type": "markdown",
   "id": "a2d20f1f",
   "metadata": {},
   "source": [
    "La distancia entre dos puntos $A(x_1, y_1)$ y $B(x_2, y_2)$ en el plano cartesiano puede ser calculada utilizando el teorema de Pitágoras:\n",
    "\n",
    "<p float=\"center\">\n",
    "  <img src=\"https://github.com/carlosalvarezh/Geometria_Analitica_Vectorial/blob/main/Images/FormulaDistancia2Puntos.webp?raw=true\" width=\"350\" />\n",
    "</p>\n",
    "\n",
    "Esta fórmula es esencial en ingeniería civil para determinar distancias exactas en proyectos de construcción."
   ]
  },
  {
   "cell_type": "markdown",
   "id": "2d37dc1c",
   "metadata": {},
   "source": [
    "#### Ejemplo:"
   ]
  },
  {
   "cell_type": "markdown",
   "id": "ce8fb2c8",
   "metadata": {},
   "source": [
    "Demostrar que los puntos $P_1(3,3), P_2(-3,-3), P_3(-3 \\sqrt{3}, 3 \\sqrt{3})$ son vértices de un triángulo equilátero.\n",
    "\n",
    "- ***Solución:*** Empleando la fórmula de la distancia entre pares de puntos, tenemos:\n",
    "$$\n",
    "\\begin{aligned}\n",
    "\\left|\\overline{P_1 P_2}\\right| & =\\sqrt{(3+3)^2+(3+3)^2}=6 \\sqrt{2} \\\\\n",
    "\\left|\\overline{P_2 P_3}\\right| & =\\sqrt{(-3+3 \\sqrt{3})^2+(-3-3 \\sqrt{3})^2} \\\\\n",
    "& =\\sqrt{(9-18 \\sqrt{3}+27)+(9+18 \\sqrt{3}+27)} \\\\\n",
    "& =\\sqrt{36+36}=6 \\sqrt{2} \\\\\n",
    "\\left|\\overline{P_3 P_1}\\right| & =\\sqrt{(-3 \\sqrt{3}-3)^2+(3 \\sqrt{3}-3)^2}=6 \\sqrt{2}\n",
    "\\end{aligned}\n",
    "$$\n",
    "\n",
    "Luego el triángulo es equilátero, ya que todos sus lados son de igual longitud."
   ]
  },
  {
   "cell_type": "markdown",
   "id": "f31849bc",
   "metadata": {},
   "source": [
    "### Razón de División de un Segmento"
   ]
  },
  {
   "cell_type": "markdown",
   "id": "fceb67ca",
   "metadata": {},
   "source": [
    "El resultado de la comparación de dos cantidades de la misma especie, se llama razón o relación de dichas cantidades. Las razones o relaciones pueden ser razones por cociente o geométricas.\n",
    "\n",
    "La razón por cociente o geométrica es el resultado de la comparación de dos cantidades homogéneas con el objeto de saber cuántas veces la una contiene a la otra.\n",
    "\n",
    "***Observación:*** En geometría analítica las razones deben considerarse con su signo o sentido porque se trata de segmentos de recta dirigidos.\n",
    "\n",
    "Dados 2 puntos en el plano $A\\left(x_1, y_1\\right)$ y $B\\left(x_2, y_2\\right)$ que son los extremos de una recta, \n",
    "\n",
    "<p float=\"center\">\n",
    "  <img src=\"https://github.com/carlosalvarezh/Geometria_Analitica_Vectorial/blob/main/Images/Razon2Puntos.PNG?raw=true\" width=\"350\" />\n",
    "</p>\n",
    "\n",
    "la razón que divide al segmento de recta se define como:\n",
    "\n",
    "$$r=\\frac{\\overline{P_1 P}}{\\overline{P P_2}}$$\n",
    "\n",
    "Para determinar la razón dados los extremos de la recta y el punto de división se utiliza la siguiente fórmula:\n",
    "$$\n",
    "r=\\frac{x-x_1}{x_2-x} \\quad \\text { o } \\quad r=\\frac{y-y_1}{y_2-y}\n",
    "$$\n",
    "\n",
    "Para encontrar el punto en el plano de la división dados los extremos de la recta y la razón se utilizan las fórmulas:\n",
    "$$\n",
    "x=\\frac{x_1+r x_2}{1+r} \\quad y=\\frac{y_1+r y_2}{1+r}\n",
    "$$\n",
    "\n",
    "***Ejemplo:***\n",
    "\n",
    "<p float=\"center\">\n",
    "  <img src=\"https://github.com/carlosalvarezh/Geometria_Analitica_Vectorial/blob/main/Images/Razon2Puntos03.PNG?raw=true\" width=\"250\" />\n",
    "</p>\n",
    "\n",
    "Problema: Hallar las coordenadaş del Punto $(X, Y)$, que divide al segmento determinado por los Puntos: $\\mathrm{P}_1(1,7)$ y $\\mathrm{P}_2(6,-3)$, en la razón $\\mathrm{r}=\\frac{2}{3}$\n",
    "\n",
    "- ***Hallar $\\mathrm{x}$***\n",
    "\n",
    "$$\n",
    "x=\\frac{x_1+x_2 r}{1+r}\n",
    "$$\n",
    "\n",
    "Sustituimos:\n",
    "$$\n",
    "x=\\frac{1+6\\left(\\frac{2}{3}\\right)}{1+\\left(\\frac{2}{3}\\right)}\n",
    "$$\n",
    "\n",
    "Desarrollamos:\n",
    "$$\n",
    "X=\\frac{1+\\left(\\frac{12}{3}\\right)}{\\frac{3}{3}+\\frac{2}{3}}=\\frac{1+4}{\\frac{5}{3}}=\\frac{5}{\\frac{5}{3}}\n",
    "$$\n",
    "\n",
    "Simplificamos\n",
    "$$\n",
    "x=\\frac{\\frac{5}{1}}{\\frac{5}{3}}=\\frac{15}{5}=3\n",
    "$$\n",
    "\n",
    "- ***Hallar $\\mathrm{y}$***\n",
    "$$\n",
    "y=\\frac{y_1+y_2 r}{1+r}\n",
    "$$\n",
    "\n",
    "Sustituimos:\n",
    "$$\n",
    "y=\\frac{7+(-3)\\left(\\frac{2}{3}\\right)}{1+\\left(\\frac{2}{3}\\right)}\n",
    "$$\n",
    "\n",
    "Desarrollamos:\n",
    "$$\n",
    "y=\\frac{7-\\left(\\frac{6}{3}\\right)}{\\frac{3}{3}+\\frac{2}{3}}=\\frac{7-2}{\\frac{5}{3}}=\\frac{5}{\\frac{5}{3}}\n",
    "$$\n",
    "\n",
    "Simplificamos\n",
    "$$\n",
    "y=\\frac{\\frac{5}{1}}{\\frac{5}{3}}=\\frac{15}{5}=3\n",
    "$$\n",
    "\n",
    "Con esto, el punto $P(X,Y)$ con razón $r = 2/3$ tiene coordenadas $P(3,3)$\n",
    "\n",
    "<p float=\"center\">\n",
    "  <img src=\"https://github.com/carlosalvarezh/Geometria_Analitica_Vectorial/blob/main/Images/Razon2Puntos04.PNG?raw=true\" width=\"250\" />\n",
    "</p>\n"
   ]
  },
  {
   "cell_type": "markdown",
   "id": "0acfcc49",
   "metadata": {},
   "source": [
    "### Segmento dirigido"
   ]
  },
  {
   "cell_type": "markdown",
   "id": "03d5fcfc",
   "metadata": {},
   "source": [
    "<p float=\"center\">\n",
    "  <img src=\"https://github.com/carlosalvarezh/Geometria_Analitica_Vectorial/blob/main/Images/Line09.PNG?raw=true\" width=\"350\" />\n",
    "</p>\n",
    "\n",
    "A la porción de una línea recta comprendida entre dos de sus puntos se llama segmento rectilíneo o simplemente segmento. Los dos puntos se llaman extremos del segmento y se consideran parte de este.\n",
    "\n",
    "Un segmento que se le asigna una direccion se le denomina *segmento dirigido*. Por lo tanto, en un segmento con extremos $A$ y $B$  se pueden especificar dos direcciones asi:\n",
    "\n",
    "- El segmento dirigido que va de $A$ a $B$, es decir, el segmento $AB$. Entonces, $A$ es el origen o punto inicial, y $B$ es el extremo o punto final. La longitud del segmento $AB$ se representa como $\\overline{AB}$\n",
    "\n",
    "<p float=\"center\">\n",
    "  <img src=\"https://github.com/carlosalvarezh/Geometria_Analitica_Vectorial/blob/main/Images/Line07.PNG?raw=true\" width=\"250\" />\n",
    "</p>\n",
    "\n",
    "- El segmento dirigido que va de $B$ a $A$, es decir, el segmento $BA$. Entonces, $B$ es el origen o punto inicial, y $A$ es el extremo o punto final. La longitud del segmento $BA$ se representa como $\\overline{BA}$\n",
    "\n",
    "<p float=\"center\">\n",
    "  <img src=\"https://github.com/carlosalvarezh/Geometria_Analitica_Vectorial/blob/main/Images/Line08.PNG?raw=true\" width=\"250\" />\n",
    "</p>\n",
    "\n",
    "- ***Nota:*** Como la longitud es una magnitud, no interesa el sentido, entonces: $\\overline{AB}=\\overline{BA}$. Sin embargo, para especificar, de forma arbitraria, que un segmento dirigido en un sentido tiene *longitud \"positiva\"*, mientras que otro segmento con la misma longitud pero dirigido en sentido opuesto tendrá *longitud \"negativa\"* se escribe: $\\overline{AB}=-\\overline{BA}$ "
   ]
  },
  {
   "cell_type": "markdown",
   "id": "ea548a9b",
   "metadata": {},
   "source": [
    "#### Ejemplos"
   ]
  },
  {
   "cell_type": "markdown",
   "id": "45a67412",
   "metadata": {},
   "source": [
    "***Ejemplo 1:*** En un sistema coordenado lineal, $P_1\\left(x_1\\right)$ y $P_2\\left(x_2\\right)$ son los puntos extremos dados de un segmento dirigido. \n",
    "\n",
    "<p float=\"center\">\n",
    "  <img src=\"https://github.com/carlosalvarezh/Geometria_Analitica_Vectorial/blob/main/Images/Line10.PNG?raw=true\" width=\"250\" />\n",
    "</p>\n",
    "\n",
    "Demostrar que la coordenada $(x)$ de un punto $P$ que divide a $P_1 P_2$ en la razón dada $r=\\overline{P_1 P}: \\overline{P P_2}$ es\n",
    "$$\n",
    "x=\\frac{x_1+r x_2}{1+r}, r \\neq-1\n",
    "$$\n",
    "\n",
    "- ***Solución:***\n",
    "\n",
    "Para demostrar esta fórmula, utilizaremos el concepto de la división de un segmento en una razón dada. El punto $ P $ divide al segmento dirigido $ P_1P_2 $ en la razón $ r = \\frac{\\overline{P_1P}}{\\overline{PP_2}} $. Aquí, $ \\overline{P_1P} $ y $ \\overline{PP_2} $ son las longitudes de los segmentos de línea desde $ P_1 $ hasta $ P $, y desde $ P $ hasta $ P_2 $, respectivamente.\n",
    "\n",
    "En un sistema de coordenadas lineal, las coordenadas de los puntos están relacionadas con las longitudes de los segmentos de la siguiente manera:\n",
    "\n",
    "- La longitud del segmento $ \\overline{P_1P} $ es $ x - x_1 $ (si $ x > x_1 $) o $ x_1 - x $ (si $ x < x_1 $).\n",
    "- La longitud del segmento $ \\overline{PP_2} $ es $ x_2 - x $ (si $ x_2 > x $) o $ x - x_2 $ (si $ x_2 < x $).\n",
    "\n",
    "Dado que estamos trabajando en un sistema lineal, podemos utilizar la fórmula general para la división de un segmento en una razón dada. La fórmula para encontrar el punto $ x $ que divide el segmento $ P_1P_2 $ en la razón $ r $ es:\n",
    "\n",
    "$$ x = \\frac{rx_2 + x_1}{1 + r} $$\n",
    "\n",
    "Ahora, vamos a demostrar esta fórmula partiendo de la definición de $ r $:\n",
    "\n",
    "1. $ r = \\frac{\\overline{P_1P}}{\\overline{PP_2}} $.\n",
    "\n",
    "Para un sistema lineal, esto se convierte en:\n",
    "\n",
    "$$ r = \\frac{x - x_1}{x_2 - x} $$\n",
    "\n",
    "2. Despejamos $ x $ de esta ecuación. Primero, multiplicamos ambos lados de la ecuación por $ (x_2 - x) $ y luego por $ (1 + r) $ para obtener la fórmula.\n",
    "\n",
    "Procedamos con los cálculos.\n",
    "\n",
    "La ecuación resultante al despejar $ x $ es:\n",
    "\n",
    "$$ x = \\frac{r x_2 + x_1}{r + 1} $$\n",
    "\n",
    "Esta es precisamente la fórmula que queríamos demostrar. Demuestra que la coordenada $ x $ de un punto $ P $ que divide el segmento $ P_1P_2 $ en una razón $ r $ es $ \\frac{x_1 + r x_2}{1 + r} $, siempre que $ r \\neq -1 $. \n",
    "\n",
    "Esta fórmula es útil en geometría analítica para encontrar puntos específicos en un segmento de línea dado, basándose en la razón dada para dividir ese segmento."
   ]
  },
  {
   "cell_type": "markdown",
   "id": "7d865eaf",
   "metadata": {},
   "source": [
    "#### Ejercicios"
   ]
  },
  {
   "cell_type": "markdown",
   "id": "de07646d",
   "metadata": {},
   "source": [
    "- Haciendo $r=1$ en la fórmula obtenida en el ejemplo 1, demostrar que la coordenada del punto medio de un segmento rectilíneo es la media aritmética de las coordenadas de sus puntos extremos.\n",
    "<p>&nbsp;</p>\n",
    "\n",
    "- Hallar los puntos de trisección y el punto medio del segmento dirigido cuyos extremos son los puntos $(-7)$ y $(-19)$.\n",
    "<p>&nbsp;</p>\n",
    "\n",
    "- Un cuadrado, de lado igual a $2 a$, tiene su centro en el origen $y$ sus lados son paralelos a los ejes coordenados, Hallar las coordenadas de sus cuatro vértices.\n",
    "<p>&nbsp;</p>\n",
    "\n",
    "- Los vértices de un triángulo rectángulo son los puntos $(1,-2)$, $(4,-2),(4,2)$. Determinar las longitudes de los catetos. y después calcular el área del triángulo y la longitud de la hipotenusa.\n",
    "<p>&nbsp;</p>\n",
    "\n",
    "- Demostrar que los segmentos que unen los puntos medios de los lados sucesivos del cuadrilátero del ejercicio 1 forman un paralelogramo.\n",
    "<p>&nbsp;</p>\n",
    "\n",
    "- Dado el segmento de recta con extremos en los puntos $ A(-4, 1) $ y $ B(6, 9) $, encuentre las coordenadas del punto $ C $ que divide el segmento $ AB $ en la razón $ 3:2 $.  \n",
    "<p>&nbsp;</p>\n",
    "\n",
    "- ***Aplicación Práctica en Ingeniería Civil:*** Considere un segmento de recta que representa un tramo de carretera. Los extremos de este tramo son los puntos $P(2, -3)$ y $Q(10, 5)$. Se planea construir un punto de parada en este tramo de manera que divida al segmento $ PQ $ en una razón de $1:4$. Determine las coordenadas del punto donde se deberá construir el punto de parada.  \n",
    "<p>&nbsp;</p>\n",
    "\n",
    "- ***División de un Segmento en una Razón Negativa:*** Los puntos $ M(3, 7) $ y $ N(-5, -1) $ son los extremos de un segmento de recta. Encuentre las coordenadas del punto $ R $ que divide el segmento $ MN $ en la razón $ -1:3 $. (***Nota:*** Una razón negativa implica que el punto de división se encuentra en la extensión del segmento fuera de $ MN $.)\n",
    "<p>&nbsp;</p>\n",
    "\n",
    "- Los vértices de un triángulo son $(2,-1),(-4,7),(8,0)$. Hallar, para cada una de las medianas, el punto de trisección más cercano al punto medio del lado correspondiente. Demostrar que este punto es el mismo para cada una de las medianas $y$, por tanto, que las medianas concurren en un punto. Este punto se llama baricentro del triángulo.\n",
    "<p>&nbsp;</p>\n",
    "\n"
   ]
  },
  {
   "cell_type": "markdown",
   "id": "57ed6508",
   "metadata": {},
   "source": [
    "## Línea Recta"
   ]
  },
  {
   "cell_type": "markdown",
   "id": "3d0141dd",
   "metadata": {},
   "source": [
    "### Ecuación general"
   ]
  },
  {
   "cell_type": "markdown",
   "id": "3ebd062c",
   "metadata": {},
   "source": [
    "#### Introducción"
   ]
  },
  {
   "cell_type": "markdown",
   "id": "27be5612",
   "metadata": {},
   "source": [
    "La forma general de la ecuación de una línea recta se expresa como:\n",
    "\n",
    "$$Ax + By + C = 0$$\n",
    "\n",
    "donde $ A $, $ B $, y $ C $ son constantes reales, y $ x $ e $ y $ son las variables que representan las coordenadas en un plano cartesiano. Esta forma de la ecuación de la recta es bastante versátil y se utiliza en diversas aplicaciones matemáticas, especialmente en geometría analítica, álgebra lineal y en campos aplicados como la ingeniería civil. A continuación, describiré detalladamente cada uno de los componentes de esta ecuación y su significado."
   ]
  },
  {
   "cell_type": "markdown",
   "id": "5d957456",
   "metadata": {},
   "source": [
    "#### Componentes de la Ecuación $ Ax + By + C = 0 $"
   ]
  },
  {
   "cell_type": "markdown",
   "id": "6ed0b6f7",
   "metadata": {},
   "source": [
    "- **$A$ y $B$:** \n",
    "   - Son coeficientes que representan las componentes horizontal y vertical de la línea, respectivamente.\n",
    "   - Estos coeficientes determinan la pendiente de la línea, que es $-A/B$ si $ B \\neq 0$. Si $ B = 0 $, la línea es vertical.\n",
    "<p>&nbsp;</p>\n",
    "\n",
    "- **$ C $:** \n",
    "   - Es la constante que determina la posición de la línea en relación con el origen del plano cartesiano.\n",
    "   - Si $ C = 0 $, la línea pasa por el origen.\n",
    "<p>&nbsp;</p>\n",
    "\n",
    "- **$ x $ e $ y $:**\n",
    "   - Representan las coordenadas de cualquier punto que se encuentre en la línea recta.\n"
   ]
  },
  {
   "cell_type": "markdown",
   "id": "436a2794",
   "metadata": {},
   "source": [
    "#### Ventajas de la Ecuación $ Ax + By + C = 0 $"
   ]
  },
  {
   "cell_type": "markdown",
   "id": "213a4ffd",
   "metadata": {},
   "source": [
    "- **Flexibilidad en la Representación:** Puede representar cualquier línea recta en el plano, incluidas las verticales, para las cuales la forma pendiente-intercepto no es adecuada.\n",
    "<p>&nbsp;</p>\n",
    "\n",
    "- **Utilidad en Análisis Algebraico:** Se integra bien en sistemas de ecuaciones y métodos algebraicos avanzados.\n",
    "<p>&nbsp;</p>\n",
    "\n",
    "- **Aplicabilidad General:** No está limitada a la representación gráfica de líneas; también se utiliza en análisis teóricos y aplicaciones prácticas."
   ]
  },
  {
   "cell_type": "markdown",
   "id": "975ee0b9",
   "metadata": {},
   "source": [
    "#### Interpretación y Aplicaciones"
   ]
  },
  {
   "cell_type": "markdown",
   "id": "62322d74",
   "metadata": {},
   "source": [
    "- Esta forma de la ecuación es particularmente útil en situaciones donde la pendiente de la línea no es fácilmente discernible o cuando se trabaja con líneas verticales.\n",
    "<p>&nbsp;</p>\n",
    "\n",
    "- En la ingeniería civil, la forma general se utiliza para definir límites y fronteras de parcelas de terreno, en la planificación de carreteras, y en el análisis estructural donde las relaciones lineales no son evidentes.\n",
    "<p>&nbsp;</p>\n",
    "\n",
    "- Además, es útil en sistemas de ecuaciones lineales y en el análisis de intersecciones de líneas, ya que facilita el trabajo con matrices y determinantes."
   ]
  },
  {
   "cell_type": "markdown",
   "id": "a98dc938",
   "metadata": {},
   "source": [
    "### Ecuación pendiente-intercepto"
   ]
  },
  {
   "cell_type": "markdown",
   "id": "031a18c1",
   "metadata": {},
   "source": [
    "#### Introducción"
   ]
  },
  {
   "cell_type": "markdown",
   "id": "15025e0b",
   "metadata": {},
   "source": [
    "La ecuación $ y = mx + b $ es conocida como la forma de pendiente-intercepto de la ecuación de una línea recta. Es una de las maneras más comunes y útiles de representar una línea recta en un plano cartesiano. Esta ecuación se caracteriza por su simplicidad y por la información directa que proporciona sobre la línea que representa. A continuación, describiré detalladamente cada uno de los componentes de esta ecuación y su significado en el contexto de la geometría analítica."
   ]
  },
  {
   "cell_type": "markdown",
   "id": "29f9944e",
   "metadata": {},
   "source": [
    "#### Componentes de la Ecuación $ y = mx + b $"
   ]
  },
  {
   "cell_type": "markdown",
   "id": "e9d268cf",
   "metadata": {},
   "source": [
    "- **$ y $:** \n",
    "   - Representa la coordenada vertical (eje Y) de cualquier punto que se encuentre en la línea recta.\n",
    "<p>&nbsp;</p>\n",
    "\n",
    "- **$ m $:** \n",
    "   - Es la pendiente de la línea recta. Define la inclinación o declive de la línea en relación al eje X. La pendiente es un número real que indica cuánto cambia $ y $ por cada unidad de cambio en $ x $.\n",
    "   - Una pendiente positiva indica que la línea asciende de izquierda a derecha, mientras que una pendiente negativa indica que la línea desciende de izquierda a derecha.\n",
    "   - Si $ m = 0 $, la línea es horizontal, y si $ m $ es infinita, la línea es vertical.\n",
    "<p>&nbsp;</p>\n",
    "\n",
    "- **$ x $:**\n",
    "   - Representa la coordenada horizontal (eje X) de cualquier punto que se encuentre en la línea recta.\n",
    "<p>&nbsp;</p>\n",
    "\n",
    "- **$ b $:**\n",
    "   - Es el intercepto Y de la línea recta, es decir, el punto en el que la línea corta (intercepta) al eje Y. \n",
    "   - Representa el valor de $ y $ cuando $ x = 0 $. \n",
    "   - Si $ b = 0 $, la línea pasa por el origen del plano cartesiano.\n"
   ]
  },
  {
   "cell_type": "markdown",
   "id": "7e3bddb8",
   "metadata": {},
   "source": [
    "#### Interpretación y Aplicaciones"
   ]
  },
  {
   "cell_type": "markdown",
   "id": "327b9c0c",
   "metadata": {},
   "source": [
    "- La forma de pendiente-intercepto permite identificar rápidamente las características clave de una línea recta: su inclinación y su posición relativa en el plano. \n",
    "<p>&nbsp;</p>\n",
    "\n",
    "- En ingeniería civil y en muchas otras áreas, esta forma de la ecuación de la recta se utiliza para modelar relaciones lineales, como la relación entre diferentes magnitudes físicas o económicas. \n",
    "<p>&nbsp;</p>\n",
    "\n",
    "- Por ejemplo, en la planificación urbana, esta ecuación puede representar desde la pendiente de una carretera hasta la relación costo-beneficio de un proyecto de construcción."
   ]
  },
  {
   "cell_type": "markdown",
   "id": "a198a5a5",
   "metadata": {},
   "source": [
    "#### Ventajas de la Ecuación $ y = mx + b $"
   ]
  },
  {
   "cell_type": "markdown",
   "id": "1149f234",
   "metadata": {},
   "source": [
    "- **Simplicidad y Facilidad de Uso:** Es fácil de recordar y de utilizar para graficar líneas rectas y para hacer cálculos rápidos.\n",
    "<p>&nbsp;</p>\n",
    "\n",
    "- **Visualización Directa:** Ofrece una manera intuitiva de visualizar cómo una línea se comporta en el plano cartesiano.\n",
    "<p>&nbsp;</p>\n",
    "\n",
    "- **Adaptabilidad:** Puede ser fácilmente convertida a otras formas de ecuaciones de línea recta, como la forma general $Ax + By + C = 0$ o la forma punto-pendiente.\n",
    "\n"
   ]
  },
  {
   "cell_type": "markdown",
   "id": "cccaa098",
   "metadata": {},
   "source": [
    "### Ecuación de la recta que pasa por dos puntos"
   ]
  },
  {
   "cell_type": "markdown",
   "id": "2fc90d9b",
   "metadata": {},
   "source": [
    "Geométricamente, una recta queda perfectamente determinada por dos cualquiera de sus puntos. Analíticamente, la ecuación de una recta también queda perfectamente determinada conociendo las coordenadas de dos de cualquiera de sus puntos.\n",
    "\n",
    "<p float=\"center\">\n",
    "  <img src=\"https://github.com/carlosalvarezh/Geometria_Analitica_Vectorial/blob/main/Images/Line03.jpg?raw=true\" width=\"350\" />\n",
    "</p>\n",
    "\n",
    "La recta que pasa por los puntos $P_1$ y $P_2$ tiene por ecuación:\n",
    "\n",
    "$$y-y_1=\\frac{y_1-y_2}{x_1-x_2}(x-x_1)$$\n",
    "\n",
    "con $x_1 \\neq x_2$\n",
    "\n",
    "***Ejemplo:*** Hallar la ecuación de la recta que pasa por los puntos $P_1=(-3,1)$ y el punto $P_2=(5,2)$\n",
    "\n",
    "Se tiene que de $P_1, x_1=-3$ y $y_1=1$, de $P_2$ se tiene $x_2=5, y_2=2$. Entonces,\n",
    "\n",
    "$$\n",
    "\\begin{gathered}\n",
    "y-1=\\frac{1-2}{-3-5}(x+3) \\\\\n",
    "y-1=\\frac{-1}{-8}(x+3) \\\\\n",
    "-8(y-1)=-1(x+3) \\\\\n",
    "-8 y+8=-x-3 \\\\\n",
    "x-8 y=-11\n",
    "\\end{gathered}\n",
    "$$"
   ]
  },
  {
   "cell_type": "markdown",
   "id": "6554def2",
   "metadata": {},
   "source": [
    "### Ecuación de la recta en forma simétrica"
   ]
  },
  {
   "cell_type": "markdown",
   "id": "1738674c",
   "metadata": {},
   "source": [
    "Otra de las formas que se emplean para describir la ecuación de la recta es su forma simétrica:\n",
    "\n",
    "$$\\frac{x}{a} + \\frac{y}{b}=1$$"
   ]
  },
  {
   "cell_type": "markdown",
   "id": "03d9bb2b",
   "metadata": {},
   "source": [
    "### Ejercicios Ecuaciones de la Recta"
   ]
  },
  {
   "cell_type": "markdown",
   "id": "654922e9",
   "metadata": {},
   "source": [
    "***Forma General ($Ax + By + C = 0$)***\n",
    "\n",
    "1. A partir de la ecuación pendiente-intercepto $ y = 3x - 4 $, reescribe la ecuación en su forma general.\n",
    "<p>&nbsp;</p>\n",
    "\n",
    "2. Convierte la ecuación $ y = -\\frac{1}{2}x + 6 $ a su forma general.\n",
    "<p>&nbsp;</p>\n",
    "\n",
    "3. Dada la ecuación de una línea horizontal $ y = 5 $, escribe esta ecuación en forma general.\n",
    "<p>&nbsp;</p>\n",
    "\n",
    "4. Escribe la ecuación de la línea vertical que pasa por $ x = -3 $ en forma general.\n",
    "<p>&nbsp;</p>\n",
    "\n",
    "5. Convierte la ecuación $ y = \\frac{4}{5}x - 7 $ a la forma general.\n",
    "\n",
    "***Forma Pendiente-Intercepto ($y = mx + b$)***\n",
    "\n",
    "1. A partir de la ecuación general $ 2x - 3y + 6 = 0 $, reescribe la ecuación en su forma pendiente-intercepto.\n",
    "<p>&nbsp;</p>\n",
    "\n",
    "2. Convierte la ecuación $ 5x + 4y - 20 = 0 $ a su forma pendiente-intercepto.\n",
    "<p>&nbsp;</p>\n",
    "\n",
    "3. Dada la ecuación general de una línea horizontal $ 3y = 9 $, escribe esta ecuación en forma pendiente-intercepto.\n",
    "<p>&nbsp;</p>\n",
    "\n",
    "4. Reflexiona sobre cómo escribirías la ecuación de una línea vertical (por ejemplo, $ x = 4 $) en forma pendiente-intercepto.\n",
    "<p>&nbsp;</p>\n",
    "\n",
    "5. Convierte la ecuación $ 7x - y = 14 $ a la forma pendiente-intercepto.\n",
    "\n",
    "\n",
    "***Ecuación de la recta que pasa por dos puntos:*** \n",
    "\n",
    "  Hallar la ecuación de la recta que pasa por los puntos:  \n",
    "\n",
    "1. $A(-2,8), B(4,7)$  \n",
    "<p>&nbsp;</p>\n",
    "\n",
    "2. $D(0,0), E(-8,14)$  \n",
    "<p>&nbsp;</p>\n",
    "\n",
    "3. $M(5,-1), N(-2,17)$  \n",
    "<p>&nbsp;</p>\n",
    "\n",
    "4. $W(-7,-2), Y(4,-7)$  \n",
    "<p>&nbsp;</p>\n",
    "\n",
    "5. $P(3,3), Q(9,23)$  \n",
    "\n",
    "***Forma simétrica:***\n",
    "\n",
    "1. Deduce la ecuación de la recta en su forma simétrica de acuerdo a los siguientes datos:  \n",
    "a) $a=4, \\quad b=2$  \n",
    "c) $a=\\frac{2}{3}, \\quad b=-\\frac{2}{5}$  \n",
    "b) $a=2, \\quad b=\\frac{1}{2}$  \n",
    "d) $a=-1, \\quad b=3$  \n",
    "<p>&nbsp;</p>\n",
    "\n",
    "2. Una recta tiene de ecuación $4 x+8 y-12=0$, determina su ecuación en forma simétrica y su gráfica.\n",
    "<p>&nbsp;</p>\n",
    "\n",
    "3. Una recta tiene de ecuación $3 x-8 y+4=0$, determina su ecuación en forma simétrica y su gráfica.\n",
    "<p>&nbsp;</p>\n",
    "\n",
    "4. Una recta tiene de ecuación $\\frac{x}{5}+\\frac{y}{3}=1$ determina su ecuación en forma general y su gráfica.\n",
    "<p>&nbsp;</p>\n",
    "\n",
    "5. Una recta tiene de ecuación $\\frac{x}{\\frac{5}{3}}-\\frac{y}{\\frac{4}{7}}=1$ determina su ecuación en forma general y su gráfica."
   ]
  },
  {
   "cell_type": "markdown",
   "id": "0f37a7ec",
   "metadata": {},
   "source": [
    "### Ángulo de Inclinación y Pendiente de una Recta"
   ]
  },
  {
   "cell_type": "markdown",
   "id": "244d2a08",
   "metadata": {},
   "source": [
    "<p float=\"center\">\n",
    "  <img src=\"https://github.com/carlosalvarezh/Geometria_Analitica_Vectorial/blob/main/Images/PendienteRecta03.png?raw=true\" width=\"350\" />\n",
    "</p>\n",
    "\n",
    "La pendiente de una recta es una medida que indica la inclinación de dicha recta en un plano cartesiano. Matemáticamente, se define como la variación vertical (en el eje $Y$) por cada unidad de variación horizontal (en el eje $X$). La pendiente es un concepto clave en muchas áreas, incluyendo la ingeniería civil, donde se utiliza para diseñar caminos, canales, estructuras, entre otros.\n",
    "\n",
    "<p float=\"center\">\n",
    "  <img src=\"https://github.com/carlosalvarezh/Geometria_Analitica_Vectorial/blob/main/Images/PendienteRecta00.png?raw=true\" width=\"200\" />\n",
    "</p>\n",
    "\n",
    "Existen diferentes formas de calcular la pendiente, dependiendo de los datos que se tenga. A seguir exploraremos algunas de esas formas:"
   ]
  },
  {
   "cell_type": "markdown",
   "id": "ff612f4e",
   "metadata": {},
   "source": [
    "#### Formas de Calcular la Pendiente"
   ]
  },
  {
   "cell_type": "markdown",
   "id": "3a4abb64",
   "metadata": {},
   "source": [
    "##### Fórmula de la Pendiente entre Dos Puntos"
   ]
  },
  {
   "cell_type": "markdown",
   "id": "23a29215",
   "metadata": {},
   "source": [
    "La pendiente de una recta que pasa por dos puntos $ A(x_1, y_1) $ y $ B(x_2, y_2) $ se calcula mediante la fórmula:\n",
    "\n",
    "$$ m = \\frac{y_2 - y_1}{x_2 - x_1} $$\n",
    "\n",
    "- ***Ejemplo:*** Encuentre la pendiente de la recta que pasa por los puntos $ A(1, 2) $ y $ B(4, 8) $.\n",
    "\n",
    "  Aplicando la fórmula, tenemos:\n",
    "\n",
    "$$ m = \\frac{8 - 2}{4 - 1} = \\frac{6}{3} = 2 $$\n",
    "\n",
    "  La pendiente de la recta es $2$, lo que significa que por cada unidad que se mueve horizontalmente, la recta se eleva $2$ unidades verticalmente.\n",
    "\n",
    "\n",
    "***Ejercicios pendiente entre dos puntos***  \n",
    "1. Hallar la pendiente y la inclinación de la recta que pasa por los puntos \n",
    "  - $A(-3,-2)$ y $B(4,8)$  \n",
    "  - $C(3,-4)$ y $D(2,7)$  \n",
    "  - $R(-5, 3)$ y $S(6,9)$  \n",
    "  - $M(2,4)$ y $N(5,-6)$  \n",
    "  - $A(3,-2)$ y $B(-4,7)$  \n",
    "\n",
    "2. Encuentra la ecuación de la recta que tiene pendiente $-\\frac{1}{5}$ y pasa por el punto $(-3,2)$.  \n",
    "<p>&nbsp;</p>\n",
    "\n",
    "3. Pasa a la forma general la recta que pasa por el punto $(3,-4)$ con pendiente $m = -\\frac{1}{3}$  \n",
    "<p>&nbsp;</p>\n",
    "\n",
    "4. Determina la ecuación de la recta, en su forma general, con pendiente $m$ que pasa por el punto que se indica en cada caso:  \n",
    "  - $m=2$, punto $(2,3)$  \n",
    "  - $m=-3$, punto $(0,-4)$  \n",
    "  - $m=-\\frac{5}{3}$, punto $(0,0)$  \n",
    "  - $m=1$, punto $(-3,-7)$  \n",
    "  - $m=\\frac{2}{5}$, punto $(-3,0)$  \n",
    "\n",
    "***Nota:*** La inclinación se refiere al ángulo que forma con el eje $x$."
   ]
  },
  {
   "cell_type": "markdown",
   "id": "e0837860",
   "metadata": {},
   "source": [
    "##### Pendiente a partir de la Ecuación de la Recta"
   ]
  },
  {
   "cell_type": "markdown",
   "id": "522585c5",
   "metadata": {},
   "source": [
    "Cuando se conoce la ecuación de la recta en su forma $ y = mx + b $, la pendiente es el coeficiente $ m $.\n",
    "\n",
    "- ***Ejemplo:*** Dada la ecuación de la recta $ y = 3x + 1 $, encuentre su pendiente.\n",
    "\n",
    "  La pendiente $ m $ es el coeficiente de $ x $, que en este caso es 3.\n"
   ]
  },
  {
   "cell_type": "markdown",
   "id": "900d6db9",
   "metadata": {},
   "source": [
    "##### Pendiente a partir de una Ecuación General de la Recta"
   ]
  },
  {
   "cell_type": "markdown",
   "id": "02e67ef2",
   "metadata": {},
   "source": [
    "Si tenemos la ecuación de la recta en su forma general $ Ax + By + C = 0 $, la pendiente se calcula como:\n",
    "\n",
    "$$ m = -\\frac{A}{B} $$\n",
    "\n",
    "- ***Ejemplo:*** Encuentre la pendiente de la recta con ecuación $ 2x + 5y - 3 = 0 $.\n",
    "\n",
    "  Aplicando la fórmula, obtenemos:\n",
    "\n",
    "$$ m = -\\frac{2}{5} $$\n",
    "\n",
    "  Así, la pendiente de la recta es $ -\\frac{2}{5} $, indicando una inclinación negativa."
   ]
  },
  {
   "cell_type": "markdown",
   "id": "00ffe474",
   "metadata": {},
   "source": [
    "##### Pendiente de una Recta Perpendicular"
   ]
  },
  {
   "cell_type": "markdown",
   "id": "fc7e68d0",
   "metadata": {},
   "source": [
    "Si conocemos la pendiente de una recta, la pendiente de una recta perpendicular a esta es el negativo del inverso de la pendiente original, es decir, si $L_1$, $L_2$ son dos rectas perpendiculares entre sí y, $m_1$, $m_2$ son sus respectivas pendientes, entonces se cumple:\n",
    "\n",
    "<p float=\"center\">\n",
    "  <img src=\"https://github.com/carlosalvarezh/Geometria_Analitica_Vectorial/blob/main/Images/PendienteRecta02.png?raw=true\" width=\"250\" />\n",
    "</p>\n",
    "\n",
    "\n",
    "$$m_1 \\times m_2 = -1$$\n",
    "\n",
    "con esto:\n",
    "\n",
    "$$m_1 = -\\frac{1}{m_2}$$\n",
    "\n",
    "o\n",
    "\n",
    "$$m_2 = -\\frac{1}{m_1}$$\n",
    "\n",
    "- ***Ejemplo:*** Si una recta tiene pendiente $m_1=-4$, ¿cuál es la pendiente, $m_2$ de una recta perpendicular a esta?\n",
    "\n",
    "  La pendiente de la recta perpendicular es $m_2 = -\\frac{1}{m_1}= -\\frac{1}{-4} = \\frac{1}{4}$."
   ]
  },
  {
   "cell_type": "markdown",
   "id": "70ba7ad6",
   "metadata": {},
   "source": [
    "#### Pendiente y el ángulo de inclinación $\\left(\\theta\\right)$"
   ]
  },
  {
   "cell_type": "markdown",
   "id": "917a5d3e",
   "metadata": {},
   "source": [
    "Si conocemos el ángulo de inclinación $\\theta$ de la recta con respecto al eje $X$, la pendiente se puede calcular como la tangente del ángulo:\n",
    "\n",
    "<p float=\"center\">\n",
    "  <img src=\"https://github.com/carlosalvarezh/Geometria_Analitica_Vectorial/blob/main/Images/PendienteRecta01.png?raw=true\" width=\"350\" />\n",
    "</p>\n",
    "\n",
    "$$m=tan(\\theta)$$\n",
    "\n",
    "La pendiente porcentual se puede expresar como la tangente del ángulo de inclinación multiplicada por $100\\%$. Para convertir un ángulo de inclinación $\\theta$ a una pendiente porcentual, usamos la siguiente fórmula:\n",
    "\n",
    "$$\\text{Pendiente en } \\% = \\tan(\\theta)×100\\%$$\n",
    "\n",
    "Interpretando lo anterior, se tienen las siguientes situaciones:\n",
    "\n",
    "- ***Pendiente del $100\\%$:*** Una pendiente del $100\\%$ significa que por cada unidad horizontal, hay un cambio de una unidad vertical. Esto corresponde a un ángulo de inclinación de $45$ grados, ya que $\\tan(45^\\circ)=1$.\n",
    "<p>&nbsp;</p>\n",
    "\n",
    "- ***Pendiente mayor al $100\\%$:*** Una pendiente mayor al $100\\%$ indica que el cambio vertical es mayor que el cambio horizontal, lo cual corresponde a un ángulo mayor a $45$ grados.\n",
    "<p>&nbsp;</p>\n",
    "\n",
    "- ***Pendiente menor al $100\\%$:*** Una pendiente menor al $100\\%$ indica que el cambio vertical es menor que el cambio horizontal, lo cual corresponde a un ángulo menor a $45$ grados.\n",
    "\n",
    "***Ejemplo:*** Se está diseñando una rampa que debe formar un ángulo de $ 15^\\circ $ con el suelo horizontal para cumplir con las normativas de accesibilidad. Calcule la pendiente de esta rampa.\n",
    "\n",
    "Dado que el ángulo de inclinación $ \\theta = 15^\\circ $, utilizamos la fórmula de la pendiente:\n",
    "\n",
    "$$ m = \\tan(\\theta) = \\tan(15^\\circ) $$\n",
    "\n",
    "Calculemos el valor de $ \\tan(15^\\circ) $:\n",
    "\n",
    "$$ m \\approx \\tan(15^\\circ) $$\n",
    "\n",
    "Vamos a calcular este valor.\n",
    "\n",
    "El valor de $ \\tan(15^\\circ) $ es aproximadamente $ 0.268 $. Por lo tanto, la pendiente de la rampa que forma un ángulo de $ 15^\\circ $ con el suelo horizontal es aproximadamente $ 0.268 $. Esto significa que por cada unidad horizontal, la rampa se eleva aproximadamente 0.268 unidades."
   ]
  },
  {
   "cell_type": "markdown",
   "id": "1ab34645",
   "metadata": {},
   "source": [
    "Estos métodos proporcionan una herramienta poderosa en geometría analítica y son esenciales en la ingeniería civil para el diseño y análisis de diversas estructuras y proyectos. La comprensión de cómo calcular y aplicar la pendiente permite a los ingenieros diseñar con precisión y eficiencia."
   ]
  },
  {
   "cell_type": "markdown",
   "id": "7eb2d746",
   "metadata": {},
   "source": [
    "#### Ejercicios cálculo de la pendiente"
   ]
  },
  {
   "cell_type": "markdown",
   "id": "eb25b379",
   "metadata": {},
   "source": [
    "- ***Cálculo de Pendiente entre Dos Puntos -*** En un proyecto de carretera, se tienen dos puntos clave, $ A(3, 5) $ y $ B(11, 9) $. Calcule la pendiente de la carretera entre estos dos puntos.\n",
    "<p>&nbsp;</p>\n",
    "\n",
    "- ***Pendiente a partir de la Ecuación de la Recta -*** Se está diseñando un canal de drenaje que sigue la línea definida por la ecuación $ y = -0.5x + 6 $. Determine la pendiente de este canal.\n",
    "<p>&nbsp;</p>\n",
    "\n",
    "- ***Pendiente a partir de una Ecuación General -*** En un plano urbano, una calle está definida por la ecuación $ 4x - 3y + 12 = 0 $. Calcule la pendiente de esta calle.\n",
    "<p>&nbsp;</p>\n",
    "\n",
    "- ***Pendiente de una Recta Perpendicular -*** Para el diseño de un cruce peatonal, se necesita que una rampa sea perpendicular a la calle, cuya pendiente es $0.3$. ¿Cuál debe ser la pendiente de la rampa?\n",
    "<p>&nbsp;</p>\n",
    "\n",
    "- ***Pendiente a partir de la Diferencia de Elevación -*** Se va a construir una rampa de acceso a un puente. La altura del puente es de $15$ metros sobre el nivel de la carretera, y la rampa debe iniciar su ascenso a $50$ metros de distancia horizontal de la base del puente. Calcule la pendiente necesaria para la rampa.\n",
    "<p>&nbsp;</p>\n",
    "\n",
    "- ***Diseño de una Rampa Accesible -*** Las normas de accesibilidad requieren que una rampa no tenga una inclinación mayor al $5\\%$. Determine el ángulo máximo de inclinación que puede tener esta rampa para cumplir con la normativa.\n",
    "<p>&nbsp;</p>\n",
    "\n",
    "- ***Inclinación de una Carretera -*** En un proyecto de carretera de montaña, se ha determinado que un tramo particular de la carretera tiene una inclinación del $12\\%$. Calcule el ángulo de inclinación de este tramo de la carretera."
   ]
  },
  {
   "cell_type": "markdown",
   "id": "bfcf5c21",
   "metadata": {},
   "source": [
    "### Posición Relativa entre Rectas"
   ]
  },
  {
   "cell_type": "markdown",
   "id": "237b525d",
   "metadata": {},
   "source": [
    "Las rectas en el plano pueden ser paralelas, secantes o perpendiculares. Las rectas paralelas tienen la misma pendiente, mientras que las rectas perpendiculares tienen pendientes que son negativas inversas entre sí ($m_1 \\cdot m_2 = -1$).\n",
    "\n",
    "<p float=\"center\">\n",
    "  <img src=\"https://github.com/carlosalvarezh/Geometria_Analitica_Vectorial/blob/main/Images/PendienteRecta04.png?raw=true\" width=\"350\" />\n",
    "</p>"
   ]
  },
  {
   "cell_type": "markdown",
   "id": "5b00ef3e",
   "metadata": {},
   "source": [
    "#### Ejercicios Posición Relativa entre Rectas\n"
   ]
  },
  {
   "cell_type": "markdown",
   "id": "626d9b18",
   "metadata": {},
   "source": [
    "- ***Condición de paralelismo***\n",
    "\n",
    "  - Hallar la ecuación de la recta que pasa por el punto $A(5,6)$ y es paralela a la recta que pasa por los puntos $M(-4,1)$ y $N(3,-2)$  \n",
    "  - Hallar la ecuación de la recta que pasa por el punto $D(-4,3)$ y es paralela a la recta que pasa por los puntos $J(5,-2)$ y $K(-1,-3)$.  \n",
    "  - ¿Cuál es la ecuación de la recta que pasa por el punto $(2,-3)$ y es paralela al eje $x$?  \n",
    "  - Da la ecuación de la recta paralela a la recta $4x - y + 5 = 0$ , que pasa por el punto $(-2,7)$.\n",
    "<p>&nbsp;</p>\n",
    "  \n",
    "- ***Condición de perpendicularidad***  \n",
    "  - Hallar la ecuación de la recta que pasa por el punto $A(-4,5)$ y es perpendicular a la recta que pasa por los puntos $F(-4,5)$ y $T(6,-3)$  \n",
    "  - Hallar la ecuación de la recta que pasa por el punto $B(2,-4)$ y es perpendicular a la recta que pasa por los puntos $P(-3,-4)$ y $R(6,5)$.  \n",
    "  - Encuentra la ecuación de la recta perpendicular a la recta $2x-6y+7=0$ que pasa por el punto $(-2,4)$.  \n",
    "  - La recta perpendicular a la recta $2x - 5y + 8 = 0$ que pasa por el punto $(2,-6)$, es :  "
   ]
  },
  {
   "cell_type": "markdown",
   "id": "d4e58be2",
   "metadata": {},
   "source": [
    "### Ángulo entre Dos Rectas"
   ]
  },
  {
   "cell_type": "markdown",
   "id": "eaab23f5",
   "metadata": {},
   "source": [
    "El ángulo entre dos rectas del plano es el menor de los dos ángulos que forman éstas entre sí. Son dos ángulos, uno de ellos es agudo y el otro obtuso, a no ser que sean perpendiculares generando un ángulo nulo. Su medida estará comprendida entre $0$ y $\\pi/2$. \n",
    "\n",
    "El ángulo entre dos rectas se puede calcular utilizando las pendientes de las rectas. Si $m_1$ y $m_2$ son las pendientes de las rectas, el ángulo $\\theta$ entre ellas se calcula como:\n",
    "\n",
    "$$\\tan(\\theta) = \\left| \\frac{m_2 - m_1}{1 + m_1m_2} \\right|$$\n",
    "\n",
    "***Ejemplo:*** Suponga que tiene dos rectas, $ L_1 $ y $ L_2 $, donde $ L_1 $ tiene una pendiente de $ m_1 = \\frac{3}{4} $ y $ L_2 $ tiene una pendiente de $ m_2 = \\frac{1}{3} $. Calcule el ángulo $ \\theta $ (theta) más pequeño entre las dos rectas.\n",
    "\n",
    "- ***Paso 1:*** Fórmula del Ángulo entre Dos Rectas\n",
    "\n",
    "El ángulo $ \\theta $ entre las dos rectas puede ser encontrado utilizando la siguiente fórmula:\n",
    "\n",
    "$$ \\tan(\\theta) = \\left| \\frac{m_2 - m_1}{1 + m_1m_2} \\right| $$\n",
    "\n",
    "- ***Paso 2: Aplicar la Fórmula***\n",
    "\n",
    "Insertamos las pendientes dadas para $ L_1 $ y $ L_2 $:\n",
    "\n",
    "$$ \\tan(\\theta) = \\left| \\frac{\\frac{1}{3} - \\frac{3}{4}}{1 + \\frac{3}{4} \\times \\frac{1}{3}} \\right| $$\n",
    "$$ \\tan(\\theta) = \\left| \\frac{\\frac{4}{12} - \\frac{9}{12}}{1 + \\frac{3}{12}} \\right| $$\n",
    "$$ \\tan(\\theta) = \\left| \\frac{-\\frac{5}{12}}{\\frac{15}{12}} \\right| $$\n",
    "$$ \\tan(\\theta) = \\left| \\frac{-5}{15} \\right| $$\n",
    "$$ \\tan(\\theta) = \\frac{1}{3} $$\n",
    "\n",
    "- ***Paso 3: Calcular el Ángulo***\n",
    "\n",
    "Para hallar el ángulo $ \\theta $, tomamos la tangente inversa de $ \\frac{1}{3} $:\n",
    "\n",
    "$$ \\theta = \\arctan\\left(\\frac{1}{3}\\right) $$\n",
    "\n",
    "Vamos a calcular el valor de $ \\theta $ en grados.\n",
    "\n",
    "El ángulo $ \\theta $ más pequeño entre las dos rectas con pendientes $ m_1 = \\frac{3}{4} $ y $ m_2 = \\frac{1}{3} $ es aproximadamente $ 18.43^\\circ $.\n"
   ]
  },
  {
   "cell_type": "markdown",
   "id": "df7243b4",
   "metadata": {},
   "source": [
    "#### Ejercicios ángulos entre dos rectas"
   ]
  },
  {
   "cell_type": "markdown",
   "id": "09591aa4",
   "metadata": {},
   "source": [
    "- Hallar el ángulo que forman las rectas $r: 2x - 3y + 5 = 0$ y $s: x + 4y - 2 = 0$.  \n",
    "<p>&nbsp;</p>\n",
    "\n",
    "- Hallar la ecuación de la recta que contiene al punto $P(2, 4)$ y forma con la recta de ecuación $2x + 5y - 3 = 0$ un ángulo de $45^\\circ$\n",
    "<p>&nbsp;</p>\n",
    "- ***Planeación de Canales de Drenaje -*** Un canal de drenaje debe ser diseñado para cruzar perpendiculamente un camino que tiene una pendiente de $0.1$. Si el canal debe ser inclinado a un ángulo de $25$ grados con respecto a la horizontal para asegurar un flujo adecuado de agua, ¿cuál será el ángulo que formará el canal con el camino?\n",
    "<p>&nbsp;</p>\n",
    "\n",
    "- ***Diseño de Techo a Dos Aguas -*** Un techo a dos aguas se diseña de manera que cada lado del techo incline hacia abajo desde el pico central. Si un lado del techo tiene una pendiente de $m = 0.3$, y el otro lado debe formar un ángulo de $120$ grados con el primero, calcule la pendiente del segundo lado del techo.\n"
   ]
  },
  {
   "cell_type": "markdown",
   "id": "40e3412a",
   "metadata": {},
   "source": [
    "### Familia de Rectas"
   ]
  },
  {
   "cell_type": "markdown",
   "id": "2485dc35",
   "metadata": {},
   "source": [
    "De lo visto hasta ahora se concluye que la ecuación de una recta puede determinarse si se conocen dos de las siguientes condiciones independientes: *dos puntos*, *la pendiente y un punto*, o *la pendiente y su intersección con el eje horizontal*, o *la intersección de la recta con los ejes coordenados*.  \n",
    "\n",
    "Con esto, una recta que cumple sólo una condición, no sería una recta única, ya que hay una infinidad de rectas que satisfacen esa misma condición.\n",
    "\n",
    "Así, se tiene que todas las rectas que cumplen con una condición geométrica determinada, forman una familia de rectas o un haz de rectas.\n",
    "\n",
    "<p float=\"center\">\n",
    "  <img src=\"https://github.com/carlosalvarezh/Geometria_Analitica_Vectorial/blob/main/Images/Line01.PNG?raw=true\" width=\"500\" />\n",
    "</p>\n",
    "\n",
    "Resumiendo, una familia de rectas es un conjunto de líneas rectas que comparten una característica común o cumplen una condición específica. Esta característica puede ser geométrica (como tener la misma pendiente) o algebraica (estar descritas por ecuaciones que tienen componentes comunes)."
   ]
  },
  {
   "cell_type": "markdown",
   "id": "f1986e2c",
   "metadata": {},
   "source": [
    "### Tipos de familias de rectas"
   ]
  },
  {
   "cell_type": "markdown",
   "id": "aa5b8234",
   "metadata": {},
   "source": [
    "#### Rectas Paralelas\n"
   ]
  },
  {
   "cell_type": "markdown",
   "id": "26d967bc",
   "metadata": {},
   "source": [
    "<p float=\"center\">\n",
    "  <img src=\"https://github.com/carlosalvarezh/Geometria_Analitica_Vectorial/blob/main/Images/Line02.PNG?raw=true\" width=\"250\" />\n",
    "</p>\n",
    "\n",
    "Las rectas paralelas son aquellas que tienen la misma pendiente y no se intersectan en ningún punto del plano. En la forma de pendiente-intercepto $y=mx+b$, dos líneas son paralelas si tienen el mismo valor de $m$ pero diferentes valores de $b$. En este caso, si conocemos únicamente la pendiente, podemos denominar a $b$ de forma genérica como $K$ ($K \\in Re$) y reescribimos la ecuación: \n",
    "\n",
    "\n",
    "$$y = mx + K$$\n",
    "\n",
    "En la figura, todas las rectas se ven iguales pero están cambiadas arriba y abajo del eje $y$. A medida que $b$ crece la recta asciende en el eje $y$, y a medida que $b$ disminuye la recta desciende en el eje $y$. Este comportamiento es a menudo conocido como desplazamiento vertical.\n",
    "\n",
    "- ***Ejemplo:*** \n",
    "\n",
    "  Escribe la ecuación para todas las rectas de la figura y la ecuación de la recta roja en la imagen anterior.\n",
    "\n",
    "  Ya que todas las rectas tienen la misma pendiente, podemos ver del gráfico que la pendiente es $m=-2$ (*por qué negativa?*) y escribir la ecuación de forma general como:\n",
    "  \n",
    "    $$y = -2x+K$$\n",
    "  \n",
    "  Ahora, podemos ver cualquier recta para determinar la pendiente, entonces la pendiente es $m = K = -2$, y podemos ver también en el gráfico que la recta roja tiene un intercepto $y$ de $1$. Por lo tanto, la ecuación de la recta roja es:\n",
    "\n",
    "$$ y=-2x+1$$\n",
    "<p>&nbsp;</p>"
   ]
  },
  {
   "cell_type": "markdown",
   "id": "76c7cad6",
   "metadata": {},
   "source": [
    "#### Haz de Rectas"
   ]
  },
  {
   "cell_type": "markdown",
   "id": "2e19167c",
   "metadata": {},
   "source": [
    "<p float=\"center\">\n",
    "  <img src=\"https://github.com/carlosalvarezh/Geometria_Analitica_Vectorial/blob/main/Images/Line04.PNG?raw=true\" width=\"250\" />\n",
    "</p>\n",
    "\n",
    "Es un conjunto de líneas que pasan por un punto común, conocido como el centro del haz. Cualquier par de estas rectas se intersecta en este punto. En este caso, si se conoce el valor del intercepto con el eje $y$, $b$, se puede reescribir la ecuación de las rectas de forma genérica como \n",
    "\n",
    "$$y = K x+ b$$\n",
    " \n",
    "En la figura se observa que $b=2$, entonces la familia de rectas de la figura tendrá la siguiente ecuación: \n",
    " \n",
    "$$y=Kx+2$$\n",
    " \n",
    " <p>&nbsp;</p>\n"
   ]
  },
  {
   "cell_type": "markdown",
   "id": "3f7c265d",
   "metadata": {},
   "source": [
    "#### Ejercicios familias de rectas"
   ]
  },
  {
   "cell_type": "markdown",
   "id": "499b2b03",
   "metadata": {},
   "source": [
    "- Determina la ecuación de la familia de rectas que son paralelas a la recta $4x-7y+8=0$ y realizar la gráfica correspondiente.\n",
    "<p>&nbsp;</p>\n",
    "\n",
    "- Escribe la ecuación de la familia de rectas que pasan por el punto $(2,1)$, y realiza la gráfica correspondiente.\n",
    "<p>&nbsp;</p>\n",
    "\n",
    "- Determina la ecuación de la familia de rectas que tienen la propiedad indicada en cada inciso. Además realiza las gráficas correspondientes (tres rectas en cada gráfica).\n",
    "  - Con pendiente $-1$  \n",
    "  - Paralela a $2x – 3y + 1 = 0$  \n",
    "  - Pasan por $(-1,5)$  \n",
    "  - Ordenada al origen de $6$ unidades."
   ]
  },
  {
   "cell_type": "markdown",
   "id": "77017fe5",
   "metadata": {},
   "source": [
    "### Punto de intersección entre rectas"
   ]
  },
  {
   "cell_type": "markdown",
   "id": "68cd860c",
   "metadata": {},
   "source": [
    "Dos rectas pueden tener un punto en común o pueden no tenerlo. Cuando las rectas no tienen ese punto en común, es porque las rectas son paralelas, es decir, poseen la misma pendiente.\n",
    "\n",
    "Por otro lado, si las rectas tienen punto en común, ese punto es el punto de intersección, y para encontrarlo se suele resolver un sistema de ecuaciones lineales.\n",
    "\n",
    "Para:\n",
    "\n",
    "\\begin{aligned}\n",
    "& l_1: A_1 x+B_1 y+C_1=0 \\\\\n",
    "& l_2: A_2 x+B_2 y+C_2=0\n",
    "\\end{aligned}\n",
    "\n",
    "La familia de rectas que pasa por el punto de intersección de $l_1$ y $l_2$ se puede expresar como:\n",
    "\n",
    "$$\\left(A_1 x+B_1 y+C_1\\right)+k\\left(A_2 x+B_2 y+C_2\\right)=0$$"
   ]
  },
  {
   "cell_type": "markdown",
   "id": "8b997620",
   "metadata": {},
   "source": [
    "#### Ejercicios de Punto de intersección entre rectas"
   ]
  },
  {
   "cell_type": "markdown",
   "id": "b36486e2",
   "metadata": {},
   "source": [
    "Determinar los puntos de intersección entre los pares de rectas dados, y en cada caso realizar la gráfica correspondiente.  \n",
    "1. $\\left\\{\\begin{array}{l}3 x+5 y=7 \\\\ 2 x-y=-4\\end{array}\\right.$  \n",
    "<p>&nbsp;</p>\n",
    "\n",
    "2. $\\left\\{\\begin{array}{c}14 x-11 y=-2 \\\\ 13 y+8 x=30\\end{array}\\right.$  \n",
    "<p>&nbsp;</p>\n",
    "\n",
    "3. $\\left\\{\\begin{array}{c}7 x-4 y=5 \\\\ 9 x+8 y=13\\end{array}\\right.$  \n",
    "<p>&nbsp;</p>\n",
    "\n",
    "4. $\\left\\{\\begin{array}{l}15 x-11 y=-87 \\\\ -12 x-5 y=-27\\end{array}\\right.$  \n",
    "<p>&nbsp;</p>\n",
    "\n",
    "5. $\\left\\{\\begin{array}{c}9 x+16 y=7 \\\\ 4 y-3 x=0\\end{array}\\right.$  "
   ]
  },
  {
   "cell_type": "markdown",
   "id": "17758a1e",
   "metadata": {},
   "source": [
    "### Forma normal de la ecuación de la recta"
   ]
  },
  {
   "cell_type": "markdown",
   "id": "5d53a543",
   "metadata": {},
   "source": [
    "La forma normal de la línea recta es\n",
    "\n",
    "$$l: x \\cos \\omega+y \\sin \\omega-P=0$$\n",
    "\n",
    "En donde $P$ es un número positivo, numéricamente igual a la longitud normal trazada desde el origen hasta la recta y $\\boldsymbol{\\omega}$ es el ángulo positivo medido desde el eje $x$ hasta la normal $P$.\n",
    "\n",
    "<p float=\"center\">\n",
    "  <img src=\"https://github.com/carlosalvarezh/Geometria_Analitica_Vectorial/blob/main/Images/Line11.PNG?raw=true\" width=\"250\" />\n",
    "</p>\n",
    "\n",
    "\n",
    "***Ejemplo:*** Demuestre la ecuación de la forma normal de la ecuación de la recta\n",
    "\n",
    "<p float=\"center\">\n",
    "  <img src=\"https://github.com/carlosalvarezh/Geometria_Analitica_Vectorial/blob/main/Images/Line12.PNG?raw=true\" width=\"250\" />\n",
    "</p>\n",
    "\n",
    "Considerando el punto que intercepta la normal con la línea recta.\n",
    "\n",
    "Tenemos:\n",
    "$$\n",
    "\\begin{aligned}\n",
    "& x_1=P \\cos \\omega \\\\\n",
    "& y_1=P \\sin \\omega\n",
    "\\end{aligned}\n",
    "$$\n",
    "\n",
    "En este caso tenemos que la pendiente de la línea normal $\\boldsymbol{l}$ es $m_P=$ $\\tan \\omega$. Debido a que $\\boldsymbol{P}$ y $\\boldsymbol{l}$ son perpendiculares:\n",
    "$$\n",
    "\\begin{aligned}\n",
    "& m_l \\cdot m_P=-1 \\\\\n",
    "& m_l \\cdot \\tan \\omega=-1 \\\\\n",
    "& m_l \\cdot \\frac{\\sin \\omega}{\\cos \\omega}=-1 \\\\\n",
    "& m_l=-\\frac{\\cos \\omega}{\\sin \\omega}\n",
    "\\end{aligned}\n",
    "$$\n",
    "\n",
    "Sabiendo que para un segmento cualquiera la pendiente de la recta es conocida, entonces para un segmento $\\overline{P P_1}$ la pendiente es\n",
    "Tenemos:\n",
    "$$\n",
    "m=\\frac{y-y_1}{x-x_1}=\\frac{y-P \\sin \\omega}{x-P \\cos \\omega}\n",
    "$$\n",
    "\n",
    "Sustituimos $m$ en $m_l$\n",
    "$$\n",
    "\\begin{aligned}\n",
    "& \\frac{y-P \\sin \\omega}{x-P \\cos \\omega}=-\\frac{\\cos \\omega}{\\sin \\omega} \\\\\n",
    "& (y-P \\sin \\omega) \\sin \\omega=-\\cos \\omega(x-P \\cos \\omega) \\\\\n",
    "& y \\sin \\omega-P \\sin ^2 \\omega=-x \\cos \\omega+P \\cos ^2 \\omega \\\\\n",
    "& x \\cos \\omega+y \\sin \\omega-P\\left(\\sin ^2 \\omega+\\cos ^2 \\omega\\right)=0 \\\\\n",
    "& x \\cos \\omega+y \\sin \\omega-P=0\n",
    "\\end{aligned}\n",
    "$$"
   ]
  },
  {
   "cell_type": "markdown",
   "id": "ec571076",
   "metadata": {},
   "source": [
    "### Distancia de una línea recta a un punto"
   ]
  },
  {
   "cell_type": "markdown",
   "id": "69e3ea3c",
   "metadata": {},
   "source": [
    "<p float=\"center\">\n",
    "  <img src=\"https://github.com/carlosalvarezh/Geometria_Analitica_Vectorial/blob/main/Images/Line13.PNG?raw=true\" width=\"250\" />\n",
    "</p>\n",
    "\n",
    "Para conocer la distancia $d$ de una recta $A x+B y+C=0$ aun punto dado $P_1\\left(x_1, y_1\\right)$ podemos usar la siguiente expresión:\n",
    "\n",
    "$$\n",
    "d=\\frac{\\left|A x_1+B y_1+C\\right|}{\\sqrt{A^2+B^2}}\n",
    "$$"
   ]
  },
  {
   "cell_type": "markdown",
   "id": "67eb2c09",
   "metadata": {},
   "source": [
    "#### Ejercicios"
   ]
  },
  {
   "cell_type": "markdown",
   "id": "3b2aa656",
   "metadata": {},
   "source": [
    "- Encontrar la distancia entre las líneas rectas:\n",
    "$$\n",
    "\\begin{aligned}\n",
    "& l_1: 2 x+3 y-4=0 \\\\\n",
    "& l_2: 6 x+9 y+11=0\n",
    "\\end{aligned}\n",
    "$$\n",
    "<p>&nbsp;</p>\n",
    "\n",
    "- Encontrar el lugar geométrico de todos los puntos $P(x, y)$ paralelos a la recta $12 x-5 y-15=0$ y cuya distancia es $d=4$.\n",
    "<p>&nbsp;</p>\n",
    "\n",
    "- Determine una expresión para calcular la distancia de una línea recta al origen.\n",
    "<p>&nbsp;</p>\n",
    "\n",
    "- Determine el valor de $k$ para que la distancia del origen a la recta $x+k y-7=0$ sea $2$.\n",
    "<p>&nbsp;</p>\n",
    "\n",
    "- Encontrar la ecuación de la línea recta que se encuentra a $5$ unidades del origen. Y cuya línea perpendicular forma un ángulo de $2 \\pi / 3$ con respecto al eje $x$."
   ]
  },
  {
   "cell_type": "markdown",
   "id": "9639ef89",
   "metadata": {},
   "source": [
    "## Ejercicios Generales del Capítulo"
   ]
  },
  {
   "cell_type": "markdown",
   "id": "2c2dace8",
   "metadata": {},
   "source": [
    "1. Escribe de todas formas posibles la ecuación de la recta que pasa por los puntos $A(1,2)$ y $B(-2,5)$.\n",
    "<p>&nbsp;</p>\n",
    "\n",
    "2. De un paralelogramo $\\mathrm{ABCD}$ conocemos $A(1,3), B(5,1), C(-2,0)$. Halla las coordenadas del vértice $D$.\n",
    "<p>&nbsp;</p>\n",
    "\n",
    "3. Hallar la ecuación de la recta $\\mathrm{r}$, que pasa por $A(1,5)$, y es paralela a la recta $\\mathrm{s}, 2 x+y+$ $2=o$\n",
    "<p>&nbsp;</p>\n",
    "\n",
    "4. Hallar la ecuación de la recta, dados los siguientes datos:  \n",
    "a. $m=-1, A(-2,3)$   \n",
    "b. $m=2, A(-3 / 2,-1)$  \n",
    "c. $m=-1, A(-3,0)$  \n",
    "d. $m=0, A(-2,3)$  \n",
    "e. $m=-4, A(2 / 3,-2)$  \n",
    "f. $m=-\\frac{2}{5}, A(1,4)$  \n",
    "g. $m=\\frac{3}{4}, A(2.5,-3)$  \n",
    "h. $A(4,17), B(-2 / 3,4 / 2)$  \n",
    "i. $D(-1.5,4.1), F(2,3)$  \n",
    "j. $G(9,-9), H(0,0)$  "
   ]
  },
  {
   "cell_type": "code",
   "execution_count": null,
   "id": "ef81cefa",
   "metadata": {},
   "outputs": [],
   "source": []
  }
 ],
 "metadata": {
  "kernelspec": {
   "display_name": "Python 3 (ipykernel)",
   "language": "python",
   "name": "python3"
  },
  "language_info": {
   "codemirror_mode": {
    "name": "ipython",
    "version": 3
   },
   "file_extension": ".py",
   "mimetype": "text/x-python",
   "name": "python",
   "nbconvert_exporter": "python",
   "pygments_lexer": "ipython3",
   "version": "3.11.8"
  },
  "toc": {
   "base_numbering": 1,
   "nav_menu": {},
   "number_sections": true,
   "sideBar": true,
   "skip_h1_title": true,
   "title_cell": "Table of Contents",
   "title_sidebar": "Contents",
   "toc_cell": false,
   "toc_position": {
    "height": "calc(100% - 180px)",
    "left": "10px",
    "top": "150px",
    "width": "256px"
   },
   "toc_section_display": true,
   "toc_window_display": false
  }
 },
 "nbformat": 4,
 "nbformat_minor": 5
}
