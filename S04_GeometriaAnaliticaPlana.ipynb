{
 "cells": [
  {
   "cell_type": "markdown",
   "id": "b42acfc5",
   "metadata": {},
   "source": [
    "<h1 align=\"center\">Geometría Analítica y Vectorial</h1>\n",
    "<h1 align=\"center\">Geometría Analítica Plana</h1>\n",
    "<h1 align=\"center\">2024</h1>\n",
    "<h1 align=\"center\">MEDELLÍN - COLOMBIA </h1>"
   ]
  },
  {
   "cell_type": "markdown",
   "id": "7fe66782",
   "metadata": {},
   "source": [
    "*** \n",
    "|[![Outlook](https://img.shields.io/badge/Microsoft_Outlook-0078D4?style=plastic&logo=microsoft-outlook&logoColor=white)](mailto:calvarezh@udemedellin.edu.co)||[![Open In Colab](https://colab.research.google.com/assets/colab-badge.svg)](https://colab.research.google.com/github/carlosalvarezh/Geometria_Analitica_Vectorial/blob/main/S04_GeometriaAnaliticaPlana.ipynb)\n",
    "|-:|:-|--:|\n",
    "|[![LinkedIn](https://img.shields.io/badge/linkedin-%230077B5.svg?style=plastic&logo=linkedin&logoColor=white)](https://www.linkedin.com/in/carlosalvarez5/)|[![@alvarezhenao](https://img.shields.io/twitter/url/https/twitter.com/alvarezhenao.svg?style=social&label=Follow%20%40alvarezhenao)](https://twitter.com/alvarezhenao)|[![@carlosalvarezh](https://img.shields.io/badge/github-%23121011.svg?style=plastic&logo=github&logoColor=white)](https://github.com/carlosalvarezh)|\n",
    "\n",
    "<table>\n",
    " <tr align=left><td><img align=left src=\"https://github.com/carlosalvarezh/Curso_CEC_EAFIT/blob/main/images/CCLogoColorPop1.gif?raw=true\" width=\"25\">\n",
    " <td>Text provided under a Creative Commons Attribution license, CC-BY. All code is made available under the FSF-approved MIT license.(c) Carlos Alberto Alvarez Henao</td>\n",
    "</table>\n",
    "\n",
    "***"
   ]
  },
  {
   "cell_type": "markdown",
   "id": "dcce8ed6",
   "metadata": {},
   "source": [
    "## Definición"
   ]
  },
  {
   "cell_type": "markdown",
   "id": "f0d3663c",
   "metadata": {},
   "source": [
    "La Geometría Analítica es una rama del álgebra, un gran invento de Descartes y Fermat, que se ocupa del modelado de algunos objetos geométricos, como líneas, puntos, curvas, etc. Es una asignatura matemática que utiliza simbolismo y métodos algebraicos para resolver los problemas. Establece la correspondencia entre las ecuaciones algebraicas y las curvas geométricas. El término alternativo que se utiliza para representar la geometría analítica es \"Geometría de coordenadas\".\n",
    "\n",
    "Cubre algunos temas importantes como puntos medios y distancia, líneas paralelas y perpendiculares en el plano coordenado, segmentos de línea divisoria, distancia entre la línea y un punto, etc. El estudio de la geometría analítica es importante ya que proporciona el conocimiento para el siguiente nivel de matemáticas. Es la forma tradicional de aprender el pensamiento lógico y las habilidades para resolver problemas. En este capítulo, estudiaremos los términos utilizados en la geometría analítica, fórmulas, plano cartesiano, sus aplicaciones y algunos problemas resueltos.\n",
    "\n",
    "Resumiendo, la geometría analítica plana es una rama de la matemática que se ocupa del estudio de figuras geométricas mediante un sistema de coordenadas y el uso de métodos algebraicos. Esta fusión de la geometría y el álgebra permite la solución de problemas geométricos de manera más eficiente y precisa."
   ]
  },
  {
   "cell_type": "markdown",
   "id": "1b19feac",
   "metadata": {},
   "source": [
    "## Sistema Coordenado"
   ]
  },
  {
   "cell_type": "markdown",
   "id": "d9ed8f42",
   "metadata": {},
   "source": [
    "El sistema de coordenadas más comúnmente utilizado en geometría analítica plana es el sistema de coordenadas cartesianas. Este sistema utiliza dos líneas numéricas perpendiculares, denominadas ejes, que se cortan en un punto llamado origen. El eje horizontal es conocido como eje $X$ y el vertical como eje $Y$. Cada punto en el plano puede ser representado por un par de números $(x, y)$, denominados coordenadas, que indican las distancias al origen en dirección de los ejes $X$ e $Y$, respectivamente."
   ]
  },
  {
   "cell_type": "markdown",
   "id": "8a1e6761",
   "metadata": {},
   "source": [
    "### Distancia entre dos puntos (Segmento de recta)"
   ]
  },
  {
   "cell_type": "markdown",
   "id": "a2d20f1f",
   "metadata": {},
   "source": [
    "La distancia entre dos puntos $A(x_1, y_1)$ y $B(x_2, y_2)$ en el plano cartesiano puede ser calculada utilizando el teorema de Pitágoras:\n",
    "\n",
    "<p float=\"center\">\n",
    "  <img src=\"https://github.com/carlosalvarezh/Geometria_Analitica_Vectorial/blob/main/Images/FormulaDistancia2Puntos.webp?raw=true\" width=\"350\" />\n",
    "</p>\n",
    "\n",
    "Esta fórmula es esencial en ingeniería civil para determinar distancias exactas en proyectos de construcción."
   ]
  },
  {
   "cell_type": "markdown",
   "id": "f31849bc",
   "metadata": {},
   "source": [
    "### Razón de División de un Segmento"
   ]
  },
  {
   "cell_type": "markdown",
   "id": "fceb67ca",
   "metadata": {},
   "source": [
    "El resultado de la comparación de dos cantidades de la misma especie, se llama razón o relación de dichas cantidades. Las razones o relaciones pueden ser razones por cociente o geométricas.\n",
    "\n",
    "La razón por cociente o geométrica es el resultado de la comparación de dos cantidades homogéneas con el objeto de saber cuántas veces la una contiene a la otra.\n",
    "\n",
    "***Observación:*** En geometría analítica las razones deben considerarse con su signo o sentido porque se trata de segmentos de recta dirigidos.\n",
    "\n",
    "Dados 2 puntos en el plano $A\\left(x_1, y_1\\right)$ y $B\\left(x_2, y_2\\right)$ que son los extremos de una recta, \n",
    "\n",
    "<p float=\"center\">\n",
    "  <img src=\"https://github.com/carlosalvarezh/Geometria_Analitica_Vectorial/blob/main/Images/Razon2Puntos.PNG?raw=true\" width=\"350\" />\n",
    "</p>\n",
    "\n",
    "la razón que divide al segmento de recta se define como:\n",
    "\n",
    "$$r=\\frac{\\overline{P_1 P}}{P P_2}$$\n",
    "\n",
    "Para determinar la razón dados los extremos de la recta y el punto de división se utiliza la siguiente fórmula:\n",
    "$$\n",
    "r=\\frac{x-x_1}{x_2-x} \\quad \\text { o } \\quad r=\\frac{y-y_1}{y_2-y}\n",
    "$$\n",
    "\n",
    "Para encontrar el punto en el plano de la división dados los extremos de la recta y la razón se utilizan las fórmulas:\n",
    "$$\n",
    "x=\\frac{x_1+r x_2}{1+r} \\quad y=\\frac{y_1+r y_2}{1+r}\n",
    "$$\n",
    "\n",
    "***Ejemplo:***\n",
    "\n",
    "<p float=\"center\">\n",
    "  <img src=\"https://github.com/carlosalvarezh/Geometria_Analitica_Vectorial/blob/main/Images/Razon2Puntos03.PNG?raw=true\" width=\"250\" />\n",
    "</p>\n",
    "\n",
    "Problema: Hallar las coordenadaş del Punto $(X, Y)$, que divide al segmento determinado por los Puntos: $\\mathrm{P}_1(1,7)$ y $\\mathrm{P}_2(6,-3)$, en la razón $\\mathrm{r}=\\frac{2}{3}$\n",
    "\n",
    "***FORMULA: Para hallar $\\mathrm{X}$***\n",
    "\n",
    "$$\n",
    "x=\\frac{x_1+x_2 r}{1+r}\n",
    "$$\n",
    "\n",
    "Sustituimos:\n",
    "$$\n",
    "x=\\frac{1+6\\left(\\frac{2}{3}\\right)}{1+\\left(\\frac{2}{3}\\right)}\n",
    "$$\n",
    "\n",
    "Desarrollamos:\n",
    "$$\n",
    "X=\\frac{1+\\left(\\frac{12}{3}\\right)}{\\frac{3}{3}+\\frac{2}{3}}=\\frac{1+4}{\\frac{5}{3}}=\\frac{5}{\\frac{5}{3}}\n",
    "$$\n",
    "\n",
    "Simplificamos\n",
    "$$\n",
    "x=\\frac{\\frac{5}{1}}{\\frac{5}{3}}=\\frac{15}{5}=3\n",
    "$$\n",
    "\n",
    "***FORMULA: Para hallar Y***\n",
    "$$\n",
    "y=\\frac{y_1+y_2 r}{1+r}\n",
    "$$\n",
    "\n",
    "Sustituimos:\n",
    "$$\n",
    "y=\\frac{7+(-3)\\left(\\frac{2}{3}\\right)}{1+\\left(\\frac{2}{3}\\right)}\n",
    "$$\n",
    "\n",
    "Desarrollamos:\n",
    "$$\n",
    "y=\\frac{7-\\left(\\frac{6}{3}\\right)}{\\frac{3}{3}+\\frac{2}{3}}=\\frac{7-2}{\\frac{5}{3}}=\\frac{5}{\\frac{5}{3}}\n",
    "$$\n",
    "\n",
    "Simplificamos\n",
    "$$\n",
    "y=\\frac{\\frac{5}{1}}{\\frac{5}{3}}=\\frac{15}{5}=3\n",
    "$$\n",
    "\n",
    "Con esto, el punto $P(X,Y)$ con razón $r = 2/3$ tiene coordenadas $P(3,3)$\n",
    "\n",
    "<p float=\"center\">\n",
    "  <img src=\"https://github.com/carlosalvarezh/Geometria_Analitica_Vectorial/blob/main/Images/Razon2Puntos04.PNG?raw=true\" width=\"250\" />\n",
    "</p>\n"
   ]
  },
  {
   "cell_type": "markdown",
   "id": "7d865eaf",
   "metadata": {},
   "source": [
    "#### Ejercicios"
   ]
  },
  {
   "cell_type": "markdown",
   "id": "de07646d",
   "metadata": {},
   "source": [
    "- ***Ejercicio 1: División de un Segmento en una Razón Específica:*** Dado el segmento de recta con extremos en los puntos $ A(-4, 1) $ y $ B(6, 9) $, encuentre las coordenadas del punto $ C $ que divide el segmento $ AB $ en la razón $ 3:2 $.  \n",
    "<p>&nbsp;</p>\n",
    "\n",
    "- ***Ejercicio 2: Aplicación Práctica en Ingeniería Civil:*** Considere un segmento de recta que representa un tramo de carretera. Los extremos de este tramo son los puntos $ P(2, -3) $ y $ Q(10, 5) $. Se planea construir un punto de parada en este tramo de manera que divida al segmento $ PQ $ en una razón de $ 1:4 $. Determine las coordenadas del punto donde se deberá construir el punto de parada.  \n",
    "<p>&nbsp;</p>\n",
    "\n",
    "- ***Ejercicio 3: División de un Segmento en una Razón Negativa:*** Los puntos $ M(3, 7) $ y $ N(-5, -1) $ son los extremos de un segmento de recta. Encuentre las coordenadas del punto $ R $ que divide el segmento $ MN $ en la razón $ -1:3 $. (***Nota:*** Una razón negativa implica que el punto de división se encuentra en la extensión del segmento fuera de $ MN $.)"
   ]
  },
  {
   "cell_type": "markdown",
   "id": "0f37a7ec",
   "metadata": {},
   "source": [
    "### Ángulo de Inclinación y Pendiente de una Recta"
   ]
  },
  {
   "cell_type": "markdown",
   "id": "244d2a08",
   "metadata": {},
   "source": [
    "<p float=\"center\">\n",
    "  <img src=\"https://github.com/carlosalvarezh/Geometria_Analitica_Vectorial/blob/main/Images/PendienteRecta03.png?raw=true\" width=\"350\" />\n",
    "</p>\n",
    "\n",
    "La pendiente de una recta es una medida que indica la inclinación de dicha recta en un plano cartesiano. Matemáticamente, se define como la variación vertical (en el eje $Y$) por cada unidad de variación horizontal (en el eje $X$). La pendiente es un concepto clave en muchas áreas, incluyendo la ingeniería civil, donde se utiliza para diseñar caminos, canales, estructuras, entre otros.\n",
    "\n",
    "<p float=\"center\">\n",
    "  <img src=\"https://github.com/carlosalvarezh/Geometria_Analitica_Vectorial/blob/main/Images/PendienteRecta00.png?raw=true\" width=\"200\" />\n",
    "</p>\n",
    "\n",
    "Existen diferentes formas de calcular la pendiente, dependiendo de los datos que se tenga. A seguir exploraremos algunas de esas formas:"
   ]
  },
  {
   "cell_type": "markdown",
   "id": "ff612f4e",
   "metadata": {},
   "source": [
    "#### Formas de Calcular la Pendiente"
   ]
  },
  {
   "cell_type": "markdown",
   "id": "3a4abb64",
   "metadata": {},
   "source": [
    "##### Fórmula de la Pendiente entre Dos Puntos"
   ]
  },
  {
   "cell_type": "markdown",
   "id": "23a29215",
   "metadata": {},
   "source": [
    "La pendiente de una recta que pasa por dos puntos $ A(x_1, y_1) $ y $ B(x_2, y_2) $ se calcula mediante la fórmula:\n",
    "\n",
    "$$ m = \\frac{y_2 - y_1}{x_2 - x_1} $$\n",
    "\n",
    "- ***Ejemplo:*** Encuentre la pendiente de la recta que pasa por los puntos $ A(1, 2) $ y $ B(4, 8) $.\n",
    "\n",
    "  Aplicando la fórmula, tenemos:\n",
    "\n",
    "$$ m = \\frac{8 - 2}{4 - 1} = \\frac{6}{3} = 2 $$\n",
    "\n",
    "  La pendiente de la recta es $2$, lo que significa que por cada unidad que se mueve horizontalmente, la recta se eleva $2$ unidades verticalmente."
   ]
  },
  {
   "cell_type": "markdown",
   "id": "e0837860",
   "metadata": {},
   "source": [
    "##### Pendiente a partir de la Ecuación de la Recta"
   ]
  },
  {
   "cell_type": "markdown",
   "id": "522585c5",
   "metadata": {},
   "source": [
    "Cuando se conoce la ecuación de la recta en su forma $ y = mx + b $, la pendiente es el coeficiente $ m $.\n",
    "\n",
    "- ***Ejemplo:*** Dada la ecuación de la recta $ y = 3x + 1 $, encuentre su pendiente.\n",
    "\n",
    "  La pendiente $ m $ es el coeficiente de $ x $, que en este caso es 3.\n"
   ]
  },
  {
   "cell_type": "markdown",
   "id": "900d6db9",
   "metadata": {},
   "source": [
    "##### Pendiente a partir de una Ecuación General de la Recta"
   ]
  },
  {
   "cell_type": "markdown",
   "id": "02e67ef2",
   "metadata": {},
   "source": [
    "Si tenemos la ecuación de la recta en su forma general $ Ax + By + C = 0 $, la pendiente se calcula como:\n",
    "\n",
    "$$ m = -\\frac{A}{B} $$\n",
    "\n",
    "- ***Ejemplo:*** Encuentre la pendiente de la recta con ecuación $ 2x + 5y - 3 = 0 $.\n",
    "\n",
    "  Aplicando la fórmula, obtenemos:\n",
    "\n",
    "$$ m = -\\frac{2}{5} $$\n",
    "\n",
    "  Así, la pendiente de la recta es $ -\\frac{2}{5} $, indicando una inclinación negativa."
   ]
  },
  {
   "cell_type": "markdown",
   "id": "00ffe474",
   "metadata": {},
   "source": [
    "##### Pendiente de una Recta Perpendicular"
   ]
  },
  {
   "cell_type": "markdown",
   "id": "fc7e68d0",
   "metadata": {},
   "source": [
    "Si conocemos la pendiente de una recta, la pendiente de una recta perpendicular a esta es el negativo del inverso de la pendiente original, es decir, si $L_1$, $L_2$ son dos rectas perpendiculares entre sí y, $m_1$, $m_2$ son sus respectivas pendientes, entonces se cumple:\n",
    "\n",
    "<p float=\"center\">\n",
    "  <img src=\"https://github.com/carlosalvarezh/Geometria_Analitica_Vectorial/blob/main/Images/PendienteRecta02.png?raw=true\" width=\"250\" />\n",
    "</p>\n",
    "\n",
    "\n",
    "$$m_1 \\times m_2 = -1$$\n",
    "\n",
    "con esto:\n",
    "\n",
    "$$m_1 = -\\frac{1}{m_2}$$\n",
    "\n",
    "o\n",
    "\n",
    "$$m_2 = -\\frac{1}{m_1}$$\n",
    "\n",
    "- ***Ejemplo:*** Si una recta tiene pendiente $m_1=-4$, ¿cuál es la pendiente, $m_2$ de una recta perpendicular a esta?\n",
    "\n",
    "  La pendiente de la recta perpendicular es $m_2 = -\\frac{1}{m_1}= -\\frac{1}{-4} = \\frac{1}{4}$."
   ]
  },
  {
   "cell_type": "markdown",
   "id": "70ba7ad6",
   "metadata": {},
   "source": [
    "#### Pendiente y el ángulo de inclinación $\\left(\\theta\\right)$"
   ]
  },
  {
   "cell_type": "markdown",
   "id": "917a5d3e",
   "metadata": {},
   "source": [
    "Si conocemos el ángulo de inclinación $\\theta$ de la recta con respecto al eje $X$, la pendiente se puede calcular como la tangente del ángulo:\n",
    "\n",
    "<p float=\"center\">\n",
    "  <img src=\"https://github.com/carlosalvarezh/Geometria_Analitica_Vectorial/blob/main/Images/PendienteRecta01.png?raw=true\" width=\"350\" />\n",
    "</p>\n",
    "\n",
    "$$m=tan(\\theta)$$\n",
    "\n",
    "La pendiente porcentual se puede expresar como la tangente del ángulo de inclinación multiplicada por $100\\%$. Para convertir un ángulo de inclinación $\\theta$ a una pendiente porcentual, usamos la siguiente fórmula:\n",
    "\n",
    "$$\\text{Pendiente en } \\% = \\tan(\\theta)×100\\%$$\n",
    "\n",
    "Interpretando lo anterior, se tienen las siguientes situaciones:\n",
    "\n",
    "- ***Pendiente del $100\\%$:*** Una pendiente del $100\\%$ significa que por cada unidad horizontal, hay un cambio de una unidad vertical. Esto corresponde a un ángulo de inclinación de $45$ grados, ya que $\\tan(45^\\circ)=1$.\n",
    "<p>&nbsp;</p>\n",
    "\n",
    "- ***Pendiente mayor al $100\\%$:*** Una pendiente mayor al $100\\%$ indica que el cambio vertical es mayor que el cambio horizontal, lo cual corresponde a un ángulo mayor a $45$ grados.\n",
    "<p>&nbsp;</p>\n",
    "\n",
    "- ***Pendiente menor al $100\\%$:*** Una pendiente menor al $100\\%$ indica que el cambio vertical es menor que el cambio horizontal, lo cual corresponde a un ángulo menor a $45$ grados.\n",
    "\n",
    "***Ejemplo:*** Se está diseñando una rampa que debe formar un ángulo de $ 15^\\circ $ con el suelo horizontal para cumplir con las normativas de accesibilidad. Calcule la pendiente de esta rampa.\n",
    "\n",
    "Dado que el ángulo de inclinación $ \\theta = 15^\\circ $, utilizamos la fórmula de la pendiente:\n",
    "\n",
    "$$ m = \\tan(\\theta) = \\tan(15^\\circ) $$\n",
    "\n",
    "Calculemos el valor de $ \\tan(15^\\circ) $:\n",
    "\n",
    "$$ m \\approx \\tan(15^\\circ) $$\n",
    "\n",
    "Vamos a calcular este valor.\n",
    "\n",
    "El valor de $ \\tan(15^\\circ) $ es aproximadamente $ 0.268 $. Por lo tanto, la pendiente de la rampa que forma un ángulo de $ 15^\\circ $ con el suelo horizontal es aproximadamente $ 0.268 $. Esto significa que por cada unidad horizontal, la rampa se eleva aproximadamente 0.268 unidades."
   ]
  },
  {
   "cell_type": "markdown",
   "id": "1ab34645",
   "metadata": {},
   "source": [
    "Estos métodos proporcionan una herramienta poderosa en geometría analítica y son esenciales en la ingeniería civil para el diseño y análisis de diversas estructuras y proyectos. La comprensión de cómo calcular y aplicar la pendiente permite a los ingenieros diseñar con precisión y eficiencia."
   ]
  },
  {
   "cell_type": "markdown",
   "id": "7eb2d746",
   "metadata": {},
   "source": [
    "#### Ejercicios"
   ]
  },
  {
   "cell_type": "markdown",
   "id": "eb25b379",
   "metadata": {},
   "source": [
    "- ***Ejercicio 1: Cálculo de Pendiente entre Dos Puntos -*** En un proyecto de carretera, se tienen dos puntos clave, $ A(3, 5) $ y $ B(11, 9) $. Calcule la pendiente de la carretera entre estos dos puntos.\n",
    "<p>&nbsp;</p>\n",
    "\n",
    "- ***Ejercicio 2: Pendiente a partir de la Ecuación de la Recta -*** Se está diseñando un canal de drenaje que sigue la línea definida por la ecuación $ y = -0.5x + 6 $. Determine la pendiente de este canal.\n",
    "<p>&nbsp;</p>\n",
    "\n",
    "- ***Ejercicio 3: Pendiente a partir de una Ecuación General -*** En un plano urbano, una calle está definida por la ecuación $ 4x - 3y + 12 = 0 $. Calcule la pendiente de esta calle.\n",
    "<p>&nbsp;</p>\n",
    "\n",
    "- ***Ejercicio 4: Pendiente de una Recta Perpendicular -*** Para el diseño de un cruce peatonal, se necesita que una rampa sea perpendicular a la calle, cuya pendiente es $0.3$. ¿Cuál debe ser la pendiente de la rampa?\n",
    "<p>&nbsp;</p>\n",
    "\n",
    "- ***Ejercicio 5: Pendiente a partir de la Diferencia de Elevación -*** Se va a construir una rampa de acceso a un puente. La altura del puente es de $15$ metros sobre el nivel de la carretera, y la rampa debe iniciar su ascenso a $50$ metros de distancia horizontal de la base del puente. Calcule la pendiente necesaria para la rampa.\n",
    "<p>&nbsp;</p>\n",
    "\n",
    "- ***Ejercicio 6: Diseño de una Rampa Accesible -*** Las normas de accesibilidad requieren que una rampa no tenga una inclinación mayor al $5\\%$. Determine el ángulo máximo de inclinación que puede tener esta rampa para cumplir con la normativa.\n",
    "<p>&nbsp;</p>\n",
    "\n",
    "- ***Ejercicio 7: Inclinación de una Carretera -*** En un proyecto de carretera de montaña, se ha determinado que un tramo particular de la carretera tiene una inclinación del $12\\%$. Calcule el ángulo de inclinación de este tramo de la carretera."
   ]
  },
  {
   "cell_type": "markdown",
   "id": "bfcf5c21",
   "metadata": {},
   "source": [
    "### Posición Relativa entre Rectas"
   ]
  },
  {
   "cell_type": "markdown",
   "id": "626d9b18",
   "metadata": {},
   "source": [
    "Las rectas en el plano pueden ser paralelas, secantes o perpendiculares. Las rectas paralelas tienen la misma pendiente, mientras que las rectas perpendiculares tienen pendientes que son negativas inversas entre sí ($m_1 \\cdot m_2 = -1$).\n",
    "\n",
    "<p float=\"center\">\n",
    "  <img src=\"https://github.com/carlosalvarezh/Geometria_Analitica_Vectorial/blob/main/Images/PendienteRecta04.png?raw=true\" width=\"350\" />\n",
    "</p>\n"
   ]
  },
  {
   "cell_type": "markdown",
   "id": "d4e58be2",
   "metadata": {},
   "source": [
    "### Ángulo entre Dos Rectas"
   ]
  },
  {
   "cell_type": "markdown",
   "id": "eaab23f5",
   "metadata": {},
   "source": [
    "El ángulo entre dos rectas se puede calcular utilizando las pendientes de las rectas. Si $m_1$ y $m_2$ son las pendientes de las rectas, el ángulo $\\theta$ entre ellas se calcula como:\n",
    "\n",
    "$$\\tan(\\theta) = \\left| \\frac{m_2 - m_1}{1 + m_1m_2} \\right|$$\n",
    "\n",
    "***Ejemplo:*** Suponga que tiene dos rectas, $ L_1 $ y $ L_2 $, donde $ L_1 $ tiene una pendiente de $ m_1 = \\frac{3}{4} $ y $ L_2 $ tiene una pendiente de $ m_2 = \\frac{1}{3} $. Calcule el ángulo $ \\theta $ (theta) más pequeño entre las dos rectas.\n",
    "\n",
    "- ***Paso 1:*** Fórmula del Ángulo entre Dos Rectas\n",
    "\n",
    "El ángulo $ \\theta $ entre las dos rectas puede ser encontrado utilizando la siguiente fórmula:\n",
    "\n",
    "$$ \\tan(\\theta) = \\left| \\frac{m_2 - m_1}{1 + m_1m_2} \\right| $$\n",
    "\n",
    "- ***Paso 2: Aplicar la Fórmula***\n",
    "\n",
    "Insertamos las pendientes dadas para $ L_1 $ y $ L_2 $:\n",
    "\n",
    "$$ \\tan(\\theta) = \\left| \\frac{\\frac{1}{3} - \\frac{3}{4}}{1 + \\frac{3}{4} \\times \\frac{1}{3}} \\right| $$\n",
    "$$ \\tan(\\theta) = \\left| \\frac{\\frac{4}{12} - \\frac{9}{12}}{1 + \\frac{3}{12}} \\right| $$\n",
    "$$ \\tan(\\theta) = \\left| \\frac{-\\frac{5}{12}}{\\frac{15}{12}} \\right| $$\n",
    "$$ \\tan(\\theta) = \\left| \\frac{-5}{15} \\right| $$\n",
    "$$ \\tan(\\theta) = \\frac{1}{3} $$\n",
    "\n",
    "- ***Paso 3: Calcular el Ángulo***\n",
    "\n",
    "Para hallar el ángulo $ \\theta $, tomamos la tangente inversa de $ \\frac{1}{3} $:\n",
    "\n",
    "$$ \\theta = \\arctan\\left(\\frac{1}{3}\\right) $$\n",
    "\n",
    "Vamos a calcular el valor de $ \\theta $ en grados.\n",
    "\n",
    "El ángulo $ \\theta $ más pequeño entre las dos rectas con pendientes $ m_1 = \\frac{3}{4} $ y $ m_2 = \\frac{1}{3} $ es aproximadamente $ 18.43^\\circ $.\n"
   ]
  },
  {
   "cell_type": "markdown",
   "id": "df7243b4",
   "metadata": {},
   "source": [
    "#### Ejercicios"
   ]
  },
  {
   "cell_type": "markdown",
   "id": "09591aa4",
   "metadata": {},
   "source": [
    "- ***Ejercicio 1: Planeación de Canales de Drenaje -*** Un canal de drenaje debe ser diseñado para cruzar perpendiculamente un camino que tiene una pendiente de $0.1$. Si el canal debe ser inclinado a un ángulo de $25$ grados con respecto a la horizontal para asegurar un flujo adecuado de agua, ¿cuál será el ángulo que formará el canal con el camino?\n",
    "<p>&nbsp;</p>\n",
    "\n",
    "- ***Ejercicio 2: Diseño de Techo a Dos Aguas -*** Un techo a dos aguas se diseña de manera que cada lado del techo incline hacia abajo desde el pico central. Si un lado del techo tiene una pendiente de $m = 0.3$, y el otro lado debe formar un ángulo de $120$ grados con el primero, calcule la pendiente del segundo lado del techo.\n"
   ]
  },
  {
   "cell_type": "code",
   "execution_count": null,
   "id": "7d492ab1",
   "metadata": {},
   "outputs": [],
   "source": []
  }
 ],
 "metadata": {
  "kernelspec": {
   "display_name": "Python 3 (ipykernel)",
   "language": "python",
   "name": "python3"
  },
  "language_info": {
   "codemirror_mode": {
    "name": "ipython",
    "version": 3
   },
   "file_extension": ".py",
   "mimetype": "text/x-python",
   "name": "python",
   "nbconvert_exporter": "python",
   "pygments_lexer": "ipython3",
   "version": "3.11.8"
  },
  "toc": {
   "base_numbering": 1,
   "nav_menu": {},
   "number_sections": true,
   "sideBar": true,
   "skip_h1_title": true,
   "title_cell": "Table of Contents",
   "title_sidebar": "Contents",
   "toc_cell": false,
   "toc_position": {
    "height": "calc(100% - 180px)",
    "left": "10px",
    "top": "150px",
    "width": "256px"
   },
   "toc_section_display": true,
   "toc_window_display": false
  }
 },
 "nbformat": 4,
 "nbformat_minor": 5
}
